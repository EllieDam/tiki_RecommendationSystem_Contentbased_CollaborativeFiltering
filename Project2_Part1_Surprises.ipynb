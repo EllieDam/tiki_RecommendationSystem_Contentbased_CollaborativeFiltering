{
 "cells": [
  {
   "cell_type": "code",
   "execution_count": 1,
   "id": "b8a8fb36",
   "metadata": {
    "id": "b8a8fb36"
   },
   "outputs": [],
   "source": [
    "import pandas as pd\n",
    "import numpy as np\n",
    "from surprise import Reader, Dataset, SVD, SVDpp, NMF, SlopeOne, KNNBasic, KNNBaseline, KNNWithMeans, KNNWithZScore, CoClustering, BaselineOnly\n",
    "from surprise.model_selection.validation import cross_validate"
   ]
  },
  {
   "cell_type": "code",
   "execution_count": 2,
   "id": "7966da65",
   "metadata": {
    "id": "7966da65"
   },
   "outputs": [],
   "source": [
    "from surprise import accuracy\n",
    "from surprise.model_selection import KFold"
   ]
  },
  {
   "cell_type": "markdown",
   "id": "35bd9013",
   "metadata": {},
   "source": [
    "## Provided data"
   ]
  },
  {
   "cell_type": "code",
   "execution_count": null,
   "id": "7b0f352a",
   "metadata": {
    "id": "7b0f352a"
   },
   "outputs": [],
   "source": [
    "df = pd.read_csv('data/ReviewClean.csv', index_col=0)"
   ]
  },
  {
   "cell_type": "code",
   "execution_count": null,
   "id": "c0bc035c",
   "metadata": {
    "id": "c0bc035c",
    "outputId": "5cd9cb16-9472-4437-d754-9b400b6fba80"
   },
   "outputs": [
    {
     "data": {
      "text/html": [
       "<div>\n",
       "<style scoped>\n",
       "    .dataframe tbody tr th:only-of-type {\n",
       "        vertical-align: middle;\n",
       "    }\n",
       "\n",
       "    .dataframe tbody tr th {\n",
       "        vertical-align: top;\n",
       "    }\n",
       "\n",
       "    .dataframe thead th {\n",
       "        text-align: right;\n",
       "    }\n",
       "</style>\n",
       "<table border=\"1\" class=\"dataframe\">\n",
       "  <thead>\n",
       "    <tr style=\"text-align: right;\">\n",
       "      <th></th>\n",
       "      <th>customer_id</th>\n",
       "      <th>product_id</th>\n",
       "      <th>rating</th>\n",
       "    </tr>\n",
       "  </thead>\n",
       "  <tbody>\n",
       "    <tr>\n",
       "      <th>0</th>\n",
       "      <td>709310</td>\n",
       "      <td>10001012</td>\n",
       "      <td>3</td>\n",
       "    </tr>\n",
       "    <tr>\n",
       "      <th>1</th>\n",
       "      <td>10701688</td>\n",
       "      <td>10001012</td>\n",
       "      <td>5</td>\n",
       "    </tr>\n",
       "    <tr>\n",
       "      <th>2</th>\n",
       "      <td>11763074</td>\n",
       "      <td>10001012</td>\n",
       "      <td>5</td>\n",
       "    </tr>\n",
       "    <tr>\n",
       "      <th>3</th>\n",
       "      <td>9909549</td>\n",
       "      <td>10001012</td>\n",
       "      <td>5</td>\n",
       "    </tr>\n",
       "    <tr>\n",
       "      <th>4</th>\n",
       "      <td>1827148</td>\n",
       "      <td>10001012</td>\n",
       "      <td>5</td>\n",
       "    </tr>\n",
       "  </tbody>\n",
       "</table>\n",
       "</div>"
      ],
      "text/plain": [
       "   customer_id  product_id  rating\n",
       "0       709310    10001012       3\n",
       "1     10701688    10001012       5\n",
       "2     11763074    10001012       5\n",
       "3      9909549    10001012       5\n",
       "4      1827148    10001012       5"
      ]
     },
     "execution_count": 4,
     "metadata": {},
     "output_type": "execute_result"
    }
   ],
   "source": [
    "df.head()"
   ]
  },
  {
   "cell_type": "code",
   "execution_count": null,
   "id": "eb654029",
   "metadata": {
    "id": "eb654029",
    "outputId": "9d2258a8-8488-4bf8-ef3c-1201429f8e06"
   },
   "outputs": [
    {
     "data": {
      "text/plain": [
       "(359540, 3)"
      ]
     },
     "execution_count": 5,
     "metadata": {},
     "output_type": "execute_result"
    }
   ],
   "source": [
    "df.shape"
   ]
  },
  {
   "cell_type": "code",
   "execution_count": null,
   "id": "20d8f982",
   "metadata": {
    "id": "20d8f982",
    "outputId": "9f61eb69-fcb2-40a5-ed05-cac822416efb"
   },
   "outputs": [
    {
     "name": "stdout",
     "output_type": "stream",
     "text": [
      "<class 'pandas.core.frame.DataFrame'>\n",
      "Int64Index: 359540 entries, 0 to 359539\n",
      "Data columns (total 3 columns):\n",
      " #   Column       Non-Null Count   Dtype\n",
      "---  ------       --------------   -----\n",
      " 0   customer_id  359540 non-null  int64\n",
      " 1   product_id   359540 non-null  int64\n",
      " 2   rating       359540 non-null  int64\n",
      "dtypes: int64(3)\n",
      "memory usage: 11.0 MB\n"
     ]
    }
   ],
   "source": [
    "df.info()"
   ]
  },
  {
   "cell_type": "code",
   "execution_count": null,
   "id": "c0a029e4",
   "metadata": {
    "id": "c0a029e4",
    "outputId": "a81a833e-24dd-466a-d90a-4cea09e58bc6"
   },
   "outputs": [
    {
     "name": "stdout",
     "output_type": "stream",
     "text": [
      "359540 4211 251146\n"
     ]
    }
   ],
   "source": [
    "n_rating = len(df)\n",
    "n_product = len(df.product_id.unique())\n",
    "n_customer = len(df.customer_id.unique())\n",
    "print(n_rating, n_product, n_customer)"
   ]
  },
  {
   "cell_type": "code",
   "execution_count": null,
   "id": "7d85eab2",
   "metadata": {
    "id": "7d85eab2"
   },
   "outputs": [],
   "source": [
    "reader = Reader()\n",
    "data = Dataset.load_from_df(df[['customer_id', 'product_id', 'rating']], reader)"
   ]
  },
  {
   "cell_type": "code",
   "execution_count": null,
   "id": "26090edc",
   "metadata": {
    "id": "26090edc",
    "outputId": "e713c1d8-a4d6-4c39-cea2-595d5cc91138"
   },
   "outputs": [
    {
     "name": "stdout",
     "output_type": "stream",
     "text": [
      "Evaluating RMSE, MSE of algorithm SVD on 5 split(s).\n",
      "\n",
      "                  Fold 1  Fold 2  Fold 3  Fold 4  Fold 5  Mean    Std     \n",
      "RMSE (testset)    0.9763  0.9764  0.9696  0.9737  0.9810  0.9754  0.0037  \n",
      "MSE (testset)     0.9531  0.9534  0.9402  0.9482  0.9624  0.9515  0.0073  \n",
      "Fit time          9.27    9.04    9.14    9.16    9.07    9.13    0.08    \n",
      "Test time         0.31    0.21    0.22    0.31    0.21    0.25    0.05    \n",
      "Evaluating RMSE, MSE of algorithm SVDpp on 5 split(s).\n",
      "\n",
      "                  Fold 1  Fold 2  Fold 3  Fold 4  Fold 5  Mean    Std     \n",
      "RMSE (testset)    0.9895  0.9914  0.9792  0.9870  0.9899  0.9874  0.0043  \n",
      "MSE (testset)     0.9792  0.9829  0.9588  0.9741  0.9800  0.9750  0.0086  \n",
      "Fit time          14.80   15.01   14.82   15.03   15.16   14.96   0.14    \n",
      "Test time         0.48    0.47    0.35    0.35    0.35    0.40    0.06    \n",
      "Evaluating RMSE, MSE of algorithm NMF on 5 split(s).\n",
      "\n",
      "                  Fold 1  Fold 2  Fold 3  Fold 4  Fold 5  Mean    Std     \n",
      "RMSE (testset)    1.1212  1.1210  1.1309  1.1218  1.1289  1.1247  0.0042  \n",
      "MSE (testset)     1.2571  1.2566  1.2788  1.2584  1.2744  1.2651  0.0096  \n",
      "Fit time          19.75   19.63   19.95   19.67   19.82   19.76   0.12    \n",
      "Test time         0.21    0.21    0.40    0.21    0.21    0.25    0.07    \n",
      "Evaluating RMSE, MSE of algorithm SlopeOne on 5 split(s).\n",
      "\n",
      "                  Fold 1  Fold 2  Fold 3  Fold 4  Fold 5  Mean    Std     \n",
      "RMSE (testset)    1.0804  1.0753  1.0835  1.0799  1.0751  1.0788  0.0032  \n",
      "MSE (testset)     1.1673  1.1563  1.1740  1.1663  1.1557  1.1639  0.0070  \n",
      "Fit time          1.00    1.05    1.05    1.05    1.05    1.04    0.02    \n",
      "Test time         0.54    0.52    0.30    0.53    0.30    0.44    0.12    \n",
      "Evaluating RMSE, MSE of algorithm CoClustering on 5 split(s).\n",
      "\n",
      "                  Fold 1  Fold 2  Fold 3  Fold 4  Fold 5  Mean    Std     \n",
      "RMSE (testset)    1.0496  1.0658  1.0454  1.1146  1.0599  1.0671  0.0249  \n",
      "MSE (testset)     1.1018  1.1358  1.0929  1.2424  1.1233  1.1392  0.0538  \n",
      "Fit time          11.28   11.21   11.44   11.25   11.29   11.29   0.08    \n",
      "Test time         0.18    0.18    0.47    0.45    0.18    0.29    0.14    \n",
      "Estimating biases using als...\n",
      "Estimating biases using als...\n",
      "Estimating biases using als...\n",
      "Estimating biases using als...\n",
      "Estimating biases using als...\n",
      "Evaluating RMSE, MSE of algorithm BaselineOnly on 5 split(s).\n",
      "\n",
      "                  Fold 1  Fold 2  Fold 3  Fold 4  Fold 5  Mean    Std     \n",
      "RMSE (testset)    0.9739  0.9718  0.9655  0.9710  0.9731  0.9711  0.0030  \n",
      "MSE (testset)     0.9486  0.9444  0.9322  0.9429  0.9470  0.9430  0.0058  \n",
      "Fit time          0.78    0.80    0.83    0.83    0.81    0.81    0.02    \n",
      "Test time         0.18    0.18    0.18    0.50    0.18    0.24    0.13    \n"
     ]
    }
   ],
   "source": [
    "algos = [SVD(), SVDpp(), NMF(), SlopeOne(), CoClustering(), BaselineOnly()]\n",
    "\n",
    "names = []\n",
    "results = []\n",
    "for algo in algos:\n",
    "    results.append(cross_validate(algo, data, measures=['RMSE','MSE'],cv=5, verbose=True))\n",
    "    names.append(algo.__class__.__name__)"
   ]
  },
  {
   "cell_type": "markdown",
   "id": "9SSzI6ngfdnQ",
   "metadata": {
    "id": "9SSzI6ngfdnQ"
   },
   "source": [
    "BaselineOnly, SVD và SVDpp cho kết quả thấp nhất trong các thuật toán tuy nhiên BaselineOnly có tốc độ nhanh hơn hẳn 2 thuật toán còn lại, nên ta sẽ lựa chọn thuật toán này để xây dựng Recommendation System - Collaborative Filtering"
   ]
  },
  {
   "cell_type": "markdown",
   "id": "30d2406c",
   "metadata": {},
   "source": [
    "## NewData: scraping data"
   ]
  },
  {
   "cell_type": "code",
   "execution_count": 3,
   "id": "f55168f7",
   "metadata": {},
   "outputs": [],
   "source": [
    "df = pd.read_csv('data/ReviewClean_scraping.csv', index_col=0)"
   ]
  },
  {
   "cell_type": "code",
   "execution_count": 4,
   "id": "6348062a",
   "metadata": {},
   "outputs": [
    {
     "data": {
      "text/plain": [
       "(7172, 3)"
      ]
     },
     "execution_count": 4,
     "metadata": {},
     "output_type": "execute_result"
    }
   ],
   "source": [
    "df.shape"
   ]
  },
  {
   "cell_type": "code",
   "execution_count": 5,
   "id": "887d6bdc",
   "metadata": {},
   "outputs": [
    {
     "name": "stdout",
     "output_type": "stream",
     "text": [
      "<class 'pandas.core.frame.DataFrame'>\n",
      "Int64Index: 7172 entries, 0 to 7171\n",
      "Data columns (total 3 columns):\n",
      " #   Column       Non-Null Count  Dtype  \n",
      "---  ------       --------------  -----  \n",
      " 0   customer_id  7172 non-null   int64  \n",
      " 1   product_id   7172 non-null   float64\n",
      " 2   rating       7172 non-null   int64  \n",
      "dtypes: float64(1), int64(2)\n",
      "memory usage: 224.1 KB\n"
     ]
    }
   ],
   "source": [
    "df.info()"
   ]
  },
  {
   "cell_type": "code",
   "execution_count": 6,
   "id": "971c9b61",
   "metadata": {},
   "outputs": [
    {
     "data": {
      "text/html": [
       "<div>\n",
       "<style scoped>\n",
       "    .dataframe tbody tr th:only-of-type {\n",
       "        vertical-align: middle;\n",
       "    }\n",
       "\n",
       "    .dataframe tbody tr th {\n",
       "        vertical-align: top;\n",
       "    }\n",
       "\n",
       "    .dataframe thead th {\n",
       "        text-align: right;\n",
       "    }\n",
       "</style>\n",
       "<table border=\"1\" class=\"dataframe\">\n",
       "  <thead>\n",
       "    <tr style=\"text-align: right;\">\n",
       "      <th></th>\n",
       "      <th>customer_id</th>\n",
       "      <th>product_id</th>\n",
       "      <th>rating</th>\n",
       "    </tr>\n",
       "  </thead>\n",
       "  <tbody>\n",
       "    <tr>\n",
       "      <th>0</th>\n",
       "      <td>5546</td>\n",
       "      <td>72748642.0</td>\n",
       "      <td>5</td>\n",
       "    </tr>\n",
       "    <tr>\n",
       "      <th>1</th>\n",
       "      <td>5875</td>\n",
       "      <td>72748642.0</td>\n",
       "      <td>5</td>\n",
       "    </tr>\n",
       "    <tr>\n",
       "      <th>2</th>\n",
       "      <td>188</td>\n",
       "      <td>72748642.0</td>\n",
       "      <td>5</td>\n",
       "    </tr>\n",
       "    <tr>\n",
       "      <th>3</th>\n",
       "      <td>4568</td>\n",
       "      <td>72748642.0</td>\n",
       "      <td>5</td>\n",
       "    </tr>\n",
       "    <tr>\n",
       "      <th>4</th>\n",
       "      <td>4155</td>\n",
       "      <td>72748642.0</td>\n",
       "      <td>5</td>\n",
       "    </tr>\n",
       "  </tbody>\n",
       "</table>\n",
       "</div>"
      ],
      "text/plain": [
       "   customer_id  product_id  rating\n",
       "0         5546  72748642.0       5\n",
       "1         5875  72748642.0       5\n",
       "2          188  72748642.0       5\n",
       "3         4568  72748642.0       5\n",
       "4         4155  72748642.0       5"
      ]
     },
     "execution_count": 6,
     "metadata": {},
     "output_type": "execute_result"
    }
   ],
   "source": [
    "df.head()"
   ]
  },
  {
   "cell_type": "code",
   "execution_count": 7,
   "id": "3bb6ffda",
   "metadata": {},
   "outputs": [],
   "source": [
    "reader = Reader()\n",
    "data = Dataset.load_from_df(df[['customer_id', 'product_id', 'rating']], reader)"
   ]
  },
  {
   "cell_type": "code",
   "execution_count": 8,
   "id": "36e798ba",
   "metadata": {},
   "outputs": [
    {
     "name": "stdout",
     "output_type": "stream",
     "text": [
      "Evaluating RMSE, MSE of algorithm SVD on 5 split(s).\n",
      "\n",
      "                  Fold 1  Fold 2  Fold 3  Fold 4  Fold 5  Mean    Std     \n",
      "RMSE (testset)    0.8636  0.8516  0.9148  0.8623  0.8714  0.8727  0.0219  \n",
      "MSE (testset)     0.7459  0.7253  0.8368  0.7435  0.7593  0.7621  0.0389  \n",
      "Fit time          0.19    0.16    0.16    0.16    0.16    0.17    0.01    \n",
      "Test time         0.00    0.00    0.00    0.00    0.00    0.00    0.00    \n",
      "Evaluating RMSE, MSE of algorithm SVDpp on 5 split(s).\n",
      "\n",
      "                  Fold 1  Fold 2  Fold 3  Fold 4  Fold 5  Mean    Std     \n",
      "RMSE (testset)    0.8375  0.9281  0.8469  0.9076  0.8475  0.8735  0.0370  \n",
      "MSE (testset)     0.7014  0.8615  0.7172  0.8237  0.7183  0.7644  0.0652  \n",
      "Fit time          0.24    0.25    0.24    0.24    0.24    0.24    0.00    \n",
      "Test time         0.00    0.00    0.00    0.00    0.00    0.00    0.00    \n",
      "Evaluating RMSE, MSE of algorithm NMF on 5 split(s).\n",
      "\n",
      "                  Fold 1  Fold 2  Fold 3  Fold 4  Fold 5  Mean    Std     \n",
      "RMSE (testset)    0.9724  0.9915  0.9235  0.9781  1.0218  0.9774  0.0319  \n",
      "MSE (testset)     0.9455  0.9830  0.8529  0.9567  1.0440  0.9564  0.0620  \n",
      "Fit time          0.39    0.39    0.38    0.38    0.39    0.39    0.00    \n",
      "Test time         0.00    0.00    0.00    0.00    0.00    0.00    0.00    \n",
      "Evaluating RMSE, MSE of algorithm SlopeOne on 5 split(s).\n",
      "\n",
      "                  Fold 1  Fold 2  Fold 3  Fold 4  Fold 5  Mean    Std     \n",
      "RMSE (testset)    0.9542  0.9517  0.9533  0.9210  0.9659  0.9492  0.0150  \n",
      "MSE (testset)     0.9106  0.9057  0.9088  0.8483  0.9329  0.9012  0.0282  \n",
      "Fit time          0.02    0.02    0.02    0.02    0.02    0.02    0.00    \n",
      "Test time         0.00    0.00    0.00    0.00    0.00    0.00    0.00    \n",
      "Evaluating RMSE, MSE of algorithm CoClustering on 5 split(s).\n",
      "\n",
      "                  Fold 1  Fold 2  Fold 3  Fold 4  Fold 5  Mean    Std     \n",
      "RMSE (testset)    0.9484  0.9079  0.9459  0.9777  0.9314  0.9423  0.0228  \n",
      "MSE (testset)     0.8996  0.8243  0.8947  0.9559  0.8676  0.8884  0.0430  \n",
      "Fit time          0.31    0.22    0.21    0.22    0.23    0.24    0.04    \n",
      "Test time         0.00    0.00    0.00    0.00    0.00    0.00    0.00    \n",
      "Estimating biases using als...\n",
      "Estimating biases using als...\n",
      "Estimating biases using als...\n",
      "Estimating biases using als...\n",
      "Estimating biases using als...\n",
      "Evaluating RMSE, MSE of algorithm BaselineOnly on 5 split(s).\n",
      "\n",
      "                  Fold 1  Fold 2  Fold 3  Fold 4  Fold 5  Mean    Std     \n",
      "RMSE (testset)    0.9096  0.8092  0.8737  0.8836  0.8781  0.8708  0.0332  \n",
      "MSE (testset)     0.8273  0.6548  0.7634  0.7808  0.7710  0.7595  0.0569  \n",
      "Fit time          0.01    0.01    0.01    0.01    0.01    0.01    0.00    \n",
      "Test time         0.00    0.00    0.00    0.00    0.00    0.00    0.00    \n"
     ]
    }
   ],
   "source": [
    "algos = [SVD(), SVDpp(), NMF(), SlopeOne(), CoClustering(), BaselineOnly()]\n",
    "\n",
    "names = []\n",
    "results = []\n",
    "for algo in algos:\n",
    "    results.append(cross_validate(algo, data, measures=['RMSE','MSE'],cv=5, verbose=True))\n",
    "    names.append(algo.__class__.__name__)"
   ]
  },
  {
   "cell_type": "markdown",
   "id": "90a91499",
   "metadata": {},
   "source": [
    "BaselineOnly, SVD và SVDpp cho kết quả thấp nhất trong các thuật toán tuy nhiên BaselineOnly có tốc độ nhanh hơn hẳn 2 thuật toán còn lại, nên ta sẽ lựa chọn thuật toán này để xây dựng Recommendation System - Collaborative Filtering"
   ]
  }
 ],
 "metadata": {
  "colab": {
   "name": "Project2_Part2_Surprises.ipynb",
   "provenance": []
  },
  "kernelspec": {
   "display_name": "Python 3 (ipykernel)",
   "language": "python",
   "name": "python3"
  },
  "language_info": {
   "codemirror_mode": {
    "name": "ipython",
    "version": 3
   },
   "file_extension": ".py",
   "mimetype": "text/x-python",
   "name": "python",
   "nbconvert_exporter": "python",
   "pygments_lexer": "ipython3",
   "version": "3.8.12"
  }
 },
 "nbformat": 4,
 "nbformat_minor": 5
}
