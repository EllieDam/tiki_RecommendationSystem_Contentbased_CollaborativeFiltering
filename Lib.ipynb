{
 "cells": [
  {
   "cell_type": "code",
   "execution_count": 17,
   "metadata": {
    "colab": {
     "base_uri": "https://localhost:8080/"
    },
    "executionInfo": {
     "elapsed": 3750,
     "status": "ok",
     "timestamp": 1646724075621,
     "user": {
      "displayName": "Phuong Dam",
      "photoUrl": "https://lh3.googleusercontent.com/a/default-user=s64",
      "userId": "01072403895711103873"
     },
     "user_tz": -420
    },
    "id": "umIRFcF5yj0t",
    "outputId": "2a7de796-5556-41eb-c592-2ab2507af069"
   },
   "outputs": [
    {
     "name": "stdout",
     "output_type": "stream",
     "text": [
      "\u001b[33mDEPRECATION: Configuring installation scheme with distutils config files is deprecated and will no longer work in the near future. If you are using a Homebrew or Linuxbrew Python, please see discussion at https://github.com/Homebrew/homebrew-core/issues/76621\u001b[0m\n",
      "Requirement already satisfied: squarify in /opt/homebrew/lib/python3.8/site-packages (0.4.3)\n",
      "\u001b[33mDEPRECATION: Configuring installation scheme with distutils config files is deprecated and will no longer work in the near future. If you are using a Homebrew or Linuxbrew Python, please see discussion at https://github.com/Homebrew/homebrew-core/issues/76621\u001b[0m\n",
      "\u001b[33mWARNING: You are using pip version 21.3.1; however, version 22.0.4 is available.\n",
      "You should consider upgrading via the '/opt/homebrew/opt/python@3.8/bin/python3.8 -m pip install --upgrade pip' command.\u001b[0m\n"
     ]
    }
   ],
   "source": [
    "!pip install squarify"
   ]
  },
  {
   "cell_type": "code",
   "execution_count": 18,
   "metadata": {
    "colab": {
     "base_uri": "https://localhost:8080/"
    },
    "executionInfo": {
     "elapsed": 3263,
     "status": "ok",
     "timestamp": 1646724078873,
     "user": {
      "displayName": "Phuong Dam",
      "photoUrl": "https://lh3.googleusercontent.com/a/default-user=s64",
      "userId": "01072403895711103873"
     },
     "user_tz": -420
    },
    "id": "jkxoqtiNVAVT",
    "outputId": "119a27cf-d837-4681-dc78-182b8bad1868"
   },
   "outputs": [
    {
     "name": "stdout",
     "output_type": "stream",
     "text": [
      "\u001b[33mDEPRECATION: Configuring installation scheme with distutils config files is deprecated and will no longer work in the near future. If you are using a Homebrew or Linuxbrew Python, please see discussion at https://github.com/Homebrew/homebrew-core/issues/76621\u001b[0m\n",
      "Requirement already satisfied: underthesea in /opt/homebrew/lib/python3.8/site-packages (1.3.3)\n",
      "Requirement already satisfied: tqdm in /opt/homebrew/lib/python3.8/site-packages (from underthesea) (4.62.3)\n",
      "Requirement already satisfied: requests in /opt/homebrew/lib/python3.8/site-packages (from underthesea) (2.27.1)\n",
      "Requirement already satisfied: python-crfsuite>=0.9.6 in /opt/homebrew/lib/python3.8/site-packages (from underthesea) (0.9.7)\n",
      "Requirement already satisfied: unidecode in /opt/homebrew/lib/python3.8/site-packages (from underthesea) (1.3.2)\n",
      "Requirement already satisfied: scikit-learn in /opt/homebrew/lib/python3.8/site-packages (from underthesea) (1.0.2)\n",
      "Requirement already satisfied: transformers>=3.5.0 in /opt/homebrew/lib/python3.8/site-packages (from underthesea) (4.15.0)\n",
      "Requirement already satisfied: Click>=6.0 in /opt/homebrew/lib/python3.8/site-packages (from underthesea) (8.0.3)\n",
      "Requirement already satisfied: joblib in /opt/homebrew/lib/python3.8/site-packages (from underthesea) (1.0.1)\n",
      "Requirement already satisfied: nltk in /opt/homebrew/lib/python3.8/site-packages (from underthesea) (3.6.7)\n",
      "Requirement already satisfied: PyYAML in /opt/homebrew/lib/python3.8/site-packages (from underthesea) (6.0)\n",
      "Requirement already satisfied: torch>=1.1.0 in /opt/homebrew/lib/python3.8/site-packages (from underthesea) (1.10.1)\n",
      "Requirement already satisfied: seqeval in /opt/homebrew/lib/python3.8/site-packages (from underthesea) (1.2.2)\n",
      "Requirement already satisfied: typing-extensions in /opt/homebrew/lib/python3.8/site-packages (from torch>=1.1.0->underthesea) (4.0.1)\n",
      "Requirement already satisfied: sacremoses in /opt/homebrew/lib/python3.8/site-packages (from transformers>=3.5.0->underthesea) (0.0.46)\n",
      "Requirement already satisfied: packaging>=20.0 in /opt/homebrew/lib/python3.8/site-packages (from transformers>=3.5.0->underthesea) (21.2)\n",
      "Requirement already satisfied: filelock in /opt/homebrew/lib/python3.8/site-packages (from transformers>=3.5.0->underthesea) (3.4.2)\n",
      "Requirement already satisfied: numpy>=1.17 in /opt/homebrew/lib/python3.8/site-packages (from transformers>=3.5.0->underthesea) (1.22.0)\n",
      "Requirement already satisfied: huggingface-hub<1.0,>=0.1.0 in /opt/homebrew/lib/python3.8/site-packages (from transformers>=3.5.0->underthesea) (0.2.1)\n",
      "Requirement already satisfied: regex!=2019.12.17 in /opt/homebrew/lib/python3.8/site-packages (from transformers>=3.5.0->underthesea) (2021.11.10)\n",
      "Requirement already satisfied: tokenizers<0.11,>=0.10.1 in /opt/homebrew/lib/python3.8/site-packages (from transformers>=3.5.0->underthesea) (0.10.3)\n",
      "Requirement already satisfied: urllib3<1.27,>=1.21.1 in /opt/homebrew/lib/python3.8/site-packages (from requests->underthesea) (1.26.7)\n",
      "Requirement already satisfied: idna<4,>=2.5 in /opt/homebrew/lib/python3.8/site-packages (from requests->underthesea) (3.3)\n",
      "Requirement already satisfied: certifi>=2017.4.17 in /opt/homebrew/lib/python3.8/site-packages (from requests->underthesea) (2021.10.8)\n",
      "Requirement already satisfied: charset-normalizer~=2.0.0 in /opt/homebrew/lib/python3.8/site-packages (from requests->underthesea) (2.0.9)\n",
      "Requirement already satisfied: scipy>=1.1.0 in /opt/homebrew/lib/python3.8/site-packages (from scikit-learn->underthesea) (1.7.3)\n",
      "Requirement already satisfied: threadpoolctl>=2.0.0 in /opt/homebrew/lib/python3.8/site-packages (from scikit-learn->underthesea) (3.0.0)\n",
      "Requirement already satisfied: pyparsing<3,>=2.0.2 in /opt/homebrew/lib/python3.8/site-packages (from packaging>=20.0->transformers>=3.5.0->underthesea) (2.4.7)\n",
      "Requirement already satisfied: six in /opt/homebrew/lib/python3.8/site-packages (from sacremoses->transformers>=3.5.0->underthesea) (1.16.0)\n",
      "\u001b[33mDEPRECATION: Configuring installation scheme with distutils config files is deprecated and will no longer work in the near future. If you are using a Homebrew or Linuxbrew Python, please see discussion at https://github.com/Homebrew/homebrew-core/issues/76621\u001b[0m\n",
      "\u001b[33mWARNING: You are using pip version 21.3.1; however, version 22.0.4 is available.\n",
      "You should consider upgrading via the '/opt/homebrew/opt/python@3.8/bin/python3.8 -m pip install --upgrade pip' command.\u001b[0m\n"
     ]
    }
   ],
   "source": [
    "!pip install underthesea"
   ]
  },
  {
   "cell_type": "code",
   "execution_count": 19,
   "metadata": {
    "colab": {
     "base_uri": "https://localhost:8080/"
    },
    "executionInfo": {
     "elapsed": 3710,
     "status": "ok",
     "timestamp": 1646724082578,
     "user": {
      "displayName": "Phuong Dam",
      "photoUrl": "https://lh3.googleusercontent.com/a/default-user=s64",
      "userId": "01072403895711103873"
     },
     "user_tz": -420
    },
    "id": "cGVp8aAbVAVU",
    "outputId": "a07f6e5c-b134-4280-9782-5e34709b06f7"
   },
   "outputs": [
    {
     "name": "stdout",
     "output_type": "stream",
     "text": [
      "\u001b[33mDEPRECATION: Configuring installation scheme with distutils config files is deprecated and will no longer work in the near future. If you are using a Homebrew or Linuxbrew Python, please see discussion at https://github.com/Homebrew/homebrew-core/issues/76621\u001b[0m\n",
      "Requirement already satisfied: gensim in /opt/homebrew/lib/python3.8/site-packages (4.1.2)\n",
      "Requirement already satisfied: smart-open>=1.8.1 in /opt/homebrew/lib/python3.8/site-packages (from gensim) (5.2.1)\n",
      "Requirement already satisfied: numpy>=1.17.0 in /opt/homebrew/lib/python3.8/site-packages (from gensim) (1.22.0)\n",
      "Requirement already satisfied: scipy>=0.18.1 in /opt/homebrew/lib/python3.8/site-packages (from gensim) (1.7.3)\n",
      "\u001b[33mDEPRECATION: Configuring installation scheme with distutils config files is deprecated and will no longer work in the near future. If you are using a Homebrew or Linuxbrew Python, please see discussion at https://github.com/Homebrew/homebrew-core/issues/76621\u001b[0m\n",
      "\u001b[33mWARNING: You are using pip version 21.3.1; however, version 22.0.4 is available.\n",
      "You should consider upgrading via the '/opt/homebrew/opt/python@3.8/bin/python3.8 -m pip install --upgrade pip' command.\u001b[0m\n"
     ]
    }
   ],
   "source": [
    "!pip install gensim"
   ]
  },
  {
   "cell_type": "code",
   "execution_count": 4,
   "metadata": {
    "colab": {
     "base_uri": "https://localhost:8080/",
     "height": 351
    },
    "executionInfo": {
     "elapsed": 973,
     "status": "error",
     "timestamp": 1646724083544,
     "user": {
      "displayName": "Phuong Dam",
      "photoUrl": "https://lh3.googleusercontent.com/a/default-user=s64",
      "userId": "01072403895711103873"
     },
     "user_tz": -420
    },
    "id": "O7kbCSTIyZqX",
    "outputId": "71577490-5bfb-4275-ec13-458fe72727ef"
   },
   "outputs": [],
   "source": [
    "import matplotlib\n",
    "import matplotlib.pyplot as plt\n",
    "import seaborn as sns\n",
    "import squarify\n",
    "import pandas as pd\n",
    "import numpy as np\n",
    "import re\n",
    "from underthesea import word_tokenize\n",
    "from gensim import corpora, models, similarities\n",
    "from sklearn.metrics.pairwise import linear_kernel, cosine_similarity\n",
    "from sklearn.feature_extraction.text import TfidfVectorizer\n",
    "from pyspark.ml.evaluation import RegressionEvaluator\n",
    "from pyspark.sql.functions import *"
   ]
  },
  {
   "cell_type": "code",
   "execution_count": 5,
   "metadata": {
    "executionInfo": {
     "elapsed": 573,
     "status": "aborted",
     "timestamp": 1646724083539,
     "user": {
      "displayName": "Phuong Dam",
      "photoUrl": "https://lh3.googleusercontent.com/a/default-user=s64",
      "userId": "01072403895711103873"
     },
     "user_tz": -420
    },
    "id": "VRpmJTuY1D4r"
   },
   "outputs": [],
   "source": [
    "# Calculate average values for each GMM_segment, and return a size of each segment \n",
    "def create_df_agg(df, groupby_col):\n",
    "    df.R = df.R.astype(int)\n",
    "    df.F = df.F.astype(int)\n",
    "    df.M = df.M.astype(int)\n",
    "    \n",
    "    df_agg = df.groupby(groupby_col).agg({\n",
    "      'Recency': 'mean',\n",
    "      'Frequency': 'mean',\n",
    "      'Monetary': 'mean',\n",
    "      'R': 'mean',\n",
    "      'F': 'mean',\n",
    "      'M': ['mean', 'count']}).round(0)\n",
    "\n",
    "    df_agg.columns = df_agg.columns.droplevel()\n",
    "    df_agg.columns = ['RecencyMean','FrequencyMean','MonetaryMean', 'RMean','FMean','MMean','Count']\n",
    "    df_agg['Percent'] = round((df_agg['Count']/df_agg.Count.sum())*100, 2)\n",
    "\n",
    "    # Reset the index\n",
    "    df_agg = df_agg.reset_index()\n",
    "    return df_agg"
   ]
  },
  {
   "cell_type": "code",
   "execution_count": 6,
   "metadata": {
    "executionInfo": {
     "elapsed": 574,
     "status": "aborted",
     "timestamp": 1646724083540,
     "user": {
      "displayName": "Phuong Dam",
      "photoUrl": "https://lh3.googleusercontent.com/a/default-user=s64",
      "userId": "01072403895711103873"
     },
     "user_tz": -420
    },
    "id": "XXQOe4YYyWQQ"
   },
   "outputs": [],
   "source": [
    "# Visualization - Treemap\n",
    "def treemap_customer_segmentation(df_agg):\n",
    "    #Create our plot and resize it.\n",
    "    fig = plt.gcf()\n",
    "    ax = fig.add_subplot()\n",
    "    fig.set_size_inches(22, 9)\n",
    "\n",
    "    # create a color palette, mapped to these values\n",
    "    cmap = matplotlib.cm.plasma\n",
    "    norm = matplotlib.colors.Normalize(vmin=min(df_agg['Count']), vmax=max(df_agg['Count']))\n",
    "    colors = [cmap(norm(value)) for value in df_agg['Count']]\n",
    "\n",
    "    squarify.plot(sizes=df_agg['Count'],\n",
    "                text_kwargs={'fontsize':8,'weight':'bold', 'fontname':\"sans serif\"},\n",
    "                color=colors,\n",
    "                label=['{} \\n{:.0f} days \\n{:.0f} orders \\n{:.0f} $ \\n{:.0f} customers ({}%)'.format(*df_agg.iloc[i])\n",
    "                        for i in range(0, len(df_agg))], alpha=0.5 )\n",
    "\n",
    "\n",
    "    plt.title(\"Customers Segments\",fontsize=26,fontweight=\"bold\")\n",
    "    plt.axis('off')\n",
    "\n",
    "    # plt.savefig('RFM Segments.png')\n",
    "    plt.show()"
   ]
  },
  {
   "cell_type": "code",
   "execution_count": 7,
   "metadata": {
    "executionInfo": {
     "elapsed": 16,
     "status": "aborted",
     "timestamp": 1646724083541,
     "user": {
      "displayName": "Phuong Dam",
      "photoUrl": "https://lh3.googleusercontent.com/a/default-user=s64",
      "userId": "01072403895711103873"
     },
     "user_tz": -420
    },
    "id": "cUWvyeVT1D4t"
   },
   "outputs": [],
   "source": [
    "def univariate_cont_analysis(vars,df):\n",
    "    results = []\n",
    "    for var in vars:\n",
    "        mean = df[var].mean()\n",
    "        median = df[var].median() \n",
    "        mode = df[var].mode()\n",
    "        max_val = df[var].max()\n",
    "        min_val = df[var].min()\n",
    "        range_val = np.ptp(df[var])\n",
    "        variance = df[var].var()\n",
    "        skewness = df[var].skew()\n",
    "        kurtosis = df[var].kurtosis()\n",
    "        result = [var, mean,median,mode,max_val,min_val,range_val,variance,skewness,kurtosis]\n",
    "        results.append(result)\n",
    "        df_result = pd.DataFrame(results, columns=['var_name','mean','median','mode','max_val','min_val',\n",
    "                                                  'range_val','variance','skewness','kurtosis'],\n",
    "                                ).set_index('var_name')\n",
    "    return df_result"
   ]
  },
  {
   "cell_type": "code",
   "execution_count": 8,
   "metadata": {
    "executionInfo": {
     "elapsed": 15,
     "status": "aborted",
     "timestamp": 1646724083541,
     "user": {
      "displayName": "Phuong Dam",
      "photoUrl": "https://lh3.googleusercontent.com/a/default-user=s64",
      "userId": "01072403895711103873"
     },
     "user_tz": -420
    },
    "id": "8I7IEvdA1D4u"
   },
   "outputs": [],
   "source": [
    "#Visualization - distplot\n",
    "def visualization_distplot(vars,df):\n",
    "    plt.figure(figsize=(15,4))\n",
    "    for i in range(1,len(vars)+1):\n",
    "        plt.subplot(1,3,i)\n",
    "        sns.distplot(df[vars[i-1]].dropna())\n",
    "    plt.tight_layout()\n",
    "    plt.show()"
   ]
  },
  {
   "cell_type": "code",
   "execution_count": 9,
   "metadata": {
    "executionInfo": {
     "elapsed": 14,
     "status": "aborted",
     "timestamp": 1646724083541,
     "user": {
      "displayName": "Phuong Dam",
      "photoUrl": "https://lh3.googleusercontent.com/a/default-user=s64",
      "userId": "01072403895711103873"
     },
     "user_tz": -420
    },
    "id": "sxTelAvO1D4v"
   },
   "outputs": [],
   "source": [
    "#Visualization - boxplot\n",
    "def visualization_boxplot(vars,df):\n",
    "    plt.figure(figsize=(15,4))\n",
    "    for i in range(1,len(vars)+1):\n",
    "        plt.subplot(1,3,i)\n",
    "        plt.boxplot(df[vars[i-1]].dropna())\n",
    "        plt.xlabel(str(vars[i-1]))\n",
    "    plt.tight_layout()\n",
    "    plt.show()"
   ]
  },
  {
   "cell_type": "code",
   "execution_count": 10,
   "metadata": {
    "executionInfo": {
     "elapsed": 15,
     "status": "aborted",
     "timestamp": 1646724083542,
     "user": {
      "displayName": "Phuong Dam",
      "photoUrl": "https://lh3.googleusercontent.com/a/default-user=s64",
      "userId": "01072403895711103873"
     },
     "user_tz": -420
    },
    "id": "kgu4HQFa1D4v"
   },
   "outputs": [],
   "source": [
    "def clean_content(text, list_to_remove):\n",
    "    #xoá bỏ ký tự đặc biệt\n",
    "    text = re.sub('[\\-\\–\\,\\+\\?\\%\\/\\•\\*\\&\\[\\]\\(\\)\\:\\;]', ' ', text).replace('v.',' ').replace('...',' ').replace('.',' ').replace('…',' ')\n",
    "    #lowercase và tách riêng các câu phân cách bởi '\\n'\n",
    "    text = text.lower().split('\\n')\n",
    "    #loại bỏ khoảng trắng ở đầu và cuối mỗi câu\n",
    "    text = [e.strip() for e in text]\n",
    "    #loại bỏ các câu trùng nhau\n",
    "    text = list(set(text) - set(list_to_remove))\n",
    "    #loại bỏ các câu chứa 'sku'\n",
    "    text = [e for e in text if 'sku' not in e]\n",
    "    return text"
   ]
  },
  {
   "cell_type": "code",
   "execution_count": 11,
   "metadata": {
    "executionInfo": {
     "elapsed": 15,
     "status": "aborted",
     "timestamp": 1646724083542,
     "user": {
      "displayName": "Phuong Dam",
      "photoUrl": "https://lh3.googleusercontent.com/a/default-user=s64",
      "userId": "01072403895711103873"
     },
     "user_tz": -420
    },
    "id": "pNE6Iv4k1D4w"
   },
   "outputs": [],
   "source": [
    "def gensim_preparation(df,stop_words):\n",
    "    # Tokenize(split) sentence into words\n",
    "    products_gen = [[text for text in x.split()] for x in df['content_wt']]\n",
    "    \n",
    "    # remove some more special elements & stopwords \n",
    "    products_gen_re = [[t.lower() for t in text if not t in ['', ' ','thương hiệu','xuất xứ']] for text in  products_gen] # ký tự đặc biệt\n",
    "    products_gen_re = [[t for t in text if not t in stop_words] for text in products_gen_re] # stopword\n",
    "    \n",
    "    # Obtain the number of features based on dicjtionary: use corpora.Dictionary\n",
    "    dictionary = corpora.Dictionary(products_gen_re)\n",
    "    \n",
    "    # Numbers of features (word) in dictionary\n",
    "    feature_cnt = len(dictionary.token2id)\n",
    "    \n",
    "    # Obtain corpus based on dictionary (dense matrix)\n",
    "    corpus = [dictionary.doc2bow(text) for text in products_gen_re]\n",
    "    \n",
    "    # Use TF-IDF to process corpus, obtaining index\n",
    "    tfidf = models.TfidfModel(corpus)\n",
    "\n",
    "    # Tính toán sự tương tự trong ma trận thưa thớt\n",
    "    index_sparse_matrix = similarities.SparseMatrixSimilarity(tfidf[corpus],\n",
    "                                               num_features=feature_cnt)\n",
    "    return tfidf, dictionary, index_sparse_matrix"
   ]
  },
  {
   "cell_type": "code",
   "execution_count": 12,
   "metadata": {
    "executionInfo": {
     "elapsed": 14,
     "status": "aborted",
     "timestamp": 1646724083542,
     "user": {
      "displayName": "Phuong Dam",
      "photoUrl": "https://lh3.googleusercontent.com/a/default-user=s64",
      "userId": "01072403895711103873"
     },
     "user_tz": -420
    },
    "id": "5WXWGEEQ1D4w"
   },
   "outputs": [],
   "source": [
    "# When user choose one product\n",
    "def gensim_get_recommendation(df, tfidf, dictionary, index_sparse_matrix, product_id):\n",
    "    \"\"\"\n",
    "    Gợi ý 5 sản phẩm có độ tương đồng cao nhất \n",
    "    \"\"\"\n",
    "    # sản phẩm đang xem\n",
    "    name_description_pre = df[df['item_id']==product_id]['content_wt'].iloc[0]\n",
    "    view_product = name_description_pre.lower().split()\n",
    "\n",
    "    # convert search words into Sparse Vectors\n",
    "    kw_vector = dictionary.doc2bow(view_product)\n",
    "\n",
    "    # similarity calculation\n",
    "    sim = index_sparse_matrix[tfidf[kw_vector]]\n",
    "    \n",
    "    # 5 sản phẩm có sim cao nhất (không tính sản phẩm chọn có index -1)\n",
    "    indexes = sim.argsort()[-6:-1]\n",
    "    result = df.iloc[:,0:9].iloc[sim.argsort()[-6:-1]]\n",
    "    result['sim_score'] = np.sort(sim)[-6:-1]\n",
    "    print('*** SELECTED PRODUCT ***')\n",
    "    display(df.iloc[:,0:9][df['item_id']==product_id])\n",
    "    print('*** 5 RECOMMENDED PRODUCTS ***')\n",
    "    return result.sort_values('sim_score', ascending=False)"
   ]
  },
  {
   "cell_type": "code",
   "execution_count": 13,
   "metadata": {
    "executionInfo": {
     "elapsed": 14,
     "status": "aborted",
     "timestamp": 1646724083542,
     "user": {
      "displayName": "Phuong Dam",
      "photoUrl": "https://lh3.googleusercontent.com/a/default-user=s64",
      "userId": "01072403895711103873"
     },
     "user_tz": -420
    },
    "id": "Z1IjEvrE1D4x"
   },
   "outputs": [],
   "source": [
    "def cosine_preparation(df, stop_words):\n",
    "    \"\"\"\n",
    "    Dùng hàm \"TfidfVectorizer\" để chuẩn hóa \"content_wt\" với:\n",
    "    + analyzer='word': chọn đơn vị trích xuất là word\n",
    "    + ngram_range=(1, 1): mỗi lần trích xuất 1 word\n",
    "    + min_df=0: tỉ lệ word không đọc được là 0\n",
    "    Lúc này ma trận trả về với số dòng tương ứng với số sp và số cột tương ứng với số từ được tách ra từ \"content_wt\"\n",
    "    \"\"\"\n",
    "    tf = TfidfVectorizer(analyzer='word', stop_words=stop_words, min_df=0)\n",
    "    tfidf_matrix = tf.fit_transform(df['content_wt'])\n",
    "\n",
    "    \"\"\"\n",
    "    Dùng hàm \"linear_kernel\" để tạo thành ma trận hình vuông với số hàng và số cột là số lượng sp\n",
    "    để tính toán điểm tương đồng giữa từng sp với nhau\n",
    "    \"\"\"\n",
    "    cosine_sim = linear_kernel(tfidf_matrix, tfidf_matrix)\n",
    "    return cosine_sim"
   ]
  },
  {
   "cell_type": "code",
   "execution_count": 14,
   "metadata": {
    "executionInfo": {
     "elapsed": 15,
     "status": "aborted",
     "timestamp": 1646724083543,
     "user": {
      "displayName": "Phuong Dam",
      "photoUrl": "https://lh3.googleusercontent.com/a/default-user=s64",
      "userId": "01072403895711103873"
     },
     "user_tz": -420
    },
    "id": "Pi2QzO7z1D4x"
   },
   "outputs": [],
   "source": [
    "# với mỗi sản phẩm, lấy 5 sản phẩm tương quan nhất\n",
    "def cosine_recommendation(df,cosine_similarities,product_id):\n",
    "    results = {}\n",
    "    select_product_idx = df[df['item_id'] == product_id].index[0]\n",
    "    for idx, row in df.iterrows():    \n",
    "        similar_indices = cosine_similarities[idx].argsort()[-6:-1]\n",
    "        similar_items = [(cosine_similarities[idx][e]) for e in similar_indices]\n",
    "        similar_items = [(cosine_similarities[idx][e], df.index[e]) for e in similar_indices]\n",
    "        results[idx] = similar_items[0:]\n",
    "    print('*** SELECTED PRODUCT ***')\n",
    "    display(df.iloc[:,0:9][df['item_id']==product_id])\n",
    "    print('*** 5 RECOMMENDED PRODUCTS ***')\n",
    "    rec_result = df.iloc[:,0:9].iloc[[e[1] for e in results[select_product_idx]]]\n",
    "    rec_result['consine_sim_score'] = [e[0] for e in results[select_product_idx]]\n",
    "    return rec_result.sort_values('consine_sim_score', ascending=False)"
   ]
  },
  {
   "cell_type": "code",
   "execution_count": 15,
   "metadata": {
    "executionInfo": {
     "elapsed": 14,
     "status": "aborted",
     "timestamp": 1646724083543,
     "user": {
      "displayName": "Phuong Dam",
      "photoUrl": "https://lh3.googleusercontent.com/a/default-user=s64",
      "userId": "01072403895711103873"
     },
     "user_tz": -420
    },
    "id": "WwQyhtSs1E7T"
   },
   "outputs": [],
   "source": [
    "def ALS_evaluate(model, test_data):\n",
    "    predictions = model.transform(test_data)\n",
    "    evaluator = RegressionEvaluator(metricName='rmse',\n",
    "                               labelCol='rating',\n",
    "                               predictionCol='prediction')\n",
    "    rmse = evaluator.evaluate(predictions)\n",
    "    return 'RMSE = ' + str(rmse)"
   ]
  },
  {
   "cell_type": "code",
   "execution_count": 16,
   "metadata": {
    "executionInfo": {
     "elapsed": 14,
     "status": "aborted",
     "timestamp": 1646724083543,
     "user": {
      "displayName": "Phuong Dam",
      "photoUrl": "https://lh3.googleusercontent.com/a/default-user=s64",
      "userId": "01072403895711103873"
     },
     "user_tz": -420
    },
    "id": "-9IfELkpVC3j"
   },
   "outputs": [],
   "source": [
    "def ALS_get_recommendation(model, indexed_df, customer_id_num):\n",
    "    user_recs = model.recommendForAllUsers(5)\n",
    "\n",
    "    # create a df of distinct 'customer_id_idx' & 'customer_id' and join to user_recs\n",
    "    df_reviewer_reviewer_id = indexed_df.select('customer_id_idx', 'customer_id').distinct()\n",
    "    new_user_recs = user_recs.join(df_reviewer_reviewer_id, on='customer_id_idx', how='left')\n",
    "\n",
    "    # create a df of distinct 'product_id_idx' & 'product_id'\n",
    "    df_product_product_idx = indexed_df.select('product_id_idx', 'product_id').distinct()\n",
    "\n",
    "    # Recommendation for a customer_id_num\n",
    "    find_user_rec = new_user_recs.filter(new_user_recs['customer_id'] == customer_id_num)\n",
    "    user = find_user_rec.first() \n",
    "    lst = []\n",
    "    for row in user['recommendations']:\n",
    "        row_f = df_product_product_idx.filter(df_product_product_idx.product_id_idx == row['product_id_idx'])\n",
    "        row_f_first = row_f.first()\n",
    "        lst.append((row['product_id_idx'], row_f_first['product_id'], row['rating']))\n",
    "    dic_user_rec = {'customer_id' : user.customer_id, 'recommendations' :lst}\n",
    "    rec_product_id_lst = [x[1] for x in lst]\n",
    "    return dic_user_rec, rec_product_id_lst"
   ]
  },
  {
   "cell_type": "code",
   "execution_count": null,
   "metadata": {},
   "outputs": [],
   "source": []
  }
 ],
 "metadata": {
  "colab": {
   "collapsed_sections": [],
   "name": "Lib.ipynb",
   "provenance": []
  },
  "kernelspec": {
   "display_name": "Python 3 (ipykernel)",
   "language": "python",
   "name": "python3"
  },
  "language_info": {
   "codemirror_mode": {
    "name": "ipython",
    "version": 3
   },
   "file_extension": ".py",
   "mimetype": "text/x-python",
   "name": "python",
   "nbconvert_exporter": "python",
   "pygments_lexer": "ipython3",
   "version": "3.8.12"
  }
 },
 "nbformat": 4,
 "nbformat_minor": 1
}
