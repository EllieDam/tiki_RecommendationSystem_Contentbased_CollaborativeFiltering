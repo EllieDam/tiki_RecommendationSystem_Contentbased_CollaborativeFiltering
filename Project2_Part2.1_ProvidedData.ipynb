{
 "cells": [
  {
   "cell_type": "markdown",
   "id": "da9c4707",
   "metadata": {
    "id": "da9c4707"
   },
   "source": [
    "# Step 1: Business Understanding\n",
    "- Tiki là một hệ sinh thái thương mại “all in one”, trong đó có tiki.vn, là một website thương mại điện tử đứng top 2 của Việt Nam, top 6 khu vực Đông Nam Á.\n",
    "- Trên trang này đã triển khai nhiều tiện ích hỗ trợ nâng cao trải nghiệm người dùng và họ muốn xây dựng nhiều tiện ích hơn nữa.\n",
    "\n",
    "Yêu cầu:\n",
    "- Xây dựng Recommendation System cho một hoặc một số nhóm hàng hoá trên titki.vn giúp đề xuất và gợi ý cho người dùng/ khách hàng => Xây dựng mô hình đề xuất:\n",
    "- Content-based filtering: ProductRaw.csv\n",
    "- Collaborative filtering: ReviewRaw.csv"
   ]
  },
  {
   "cell_type": "markdown",
   "id": "e6d36eef",
   "metadata": {
    "id": "e6d36eef"
   },
   "source": [
    "## Import packages"
   ]
  },
  {
   "cell_type": "code",
   "execution_count": null,
   "id": "5da4c8b4",
   "metadata": {
    "colab": {
     "base_uri": "https://localhost:8080/",
     "height": 368
    },
    "executionInfo": {
     "elapsed": 1979,
     "status": "error",
     "timestamp": 1646629004964,
     "user": {
      "displayName": "Phuong Dam",
      "photoUrl": "https://lh3.googleusercontent.com/a/default-user=s64",
      "userId": "01072403895711103873"
     },
     "user_tz": -420
    },
    "id": "5da4c8b4",
    "outputId": "bbb67349-c340-4761-fc96-cc229d3064b4"
   },
   "outputs": [
    {
     "name": "stdout",
     "output_type": "stream",
     "text": [
      "importing Jupyter notebook from Lib.ipynb\n"
     ]
    }
   ],
   "source": [
    "import pandas as pd\n",
    "import numpy as np\n",
    "import pandas_profiling as pp\n",
    "import matplotlib.pyplot as plt\n",
    "import seaborn as sns\n",
    "import import_ipynb\n",
    "import Lib\n",
    "\n",
    "import warnings\n",
    "warnings.filterwarnings('ignore')\n",
    "%matplotlib inline\n",
    "\n",
    "pd.options.display.float_format = '{:,.4f}'.format"
   ]
  },
  {
   "cell_type": "code",
   "execution_count": null,
   "id": "aafb607b",
   "metadata": {
    "id": "aafb607b"
   },
   "outputs": [],
   "source": [
    "import re\n",
    "from underthesea import word_tokenize\n",
    "from gensim import corpora, models, similarities\n",
    "from sklearn.metrics.pairwise import linear_kernel, cosine_similarity\n",
    "from sklearn.feature_extraction.text import TfidfVectorizer"
   ]
  },
  {
   "cell_type": "markdown",
   "id": "e5cfd5ea",
   "metadata": {
    "id": "e5cfd5ea"
   },
   "source": [
    "# Step 2: Data Understanding"
   ]
  },
  {
   "cell_type": "markdown",
   "id": "ee10013a",
   "metadata": {
    "id": "ee10013a"
   },
   "source": [
    "## 2.1 Data cleaning"
   ]
  },
  {
   "cell_type": "markdown",
   "id": "a4eb2603",
   "metadata": {
    "id": "a4eb2603"
   },
   "source": [
    "'ProductRaw.csv'"
   ]
  },
  {
   "cell_type": "code",
   "execution_count": null,
   "id": "650aedc3",
   "metadata": {
    "id": "650aedc3"
   },
   "outputs": [],
   "source": [
    "# Load data 'ProductRaw.csv'\n",
    "product = pd.read_csv('data/ProductRaw.csv')"
   ]
  },
  {
   "cell_type": "code",
   "execution_count": null,
   "id": "793aec90",
   "metadata": {
    "executionInfo": {
     "elapsed": 27,
     "status": "aborted",
     "timestamp": 1646629004955,
     "user": {
      "displayName": "Phuong Dam",
      "photoUrl": "https://lh3.googleusercontent.com/a/default-user=s64",
      "userId": "01072403895711103873"
     },
     "user_tz": -420
    },
    "id": "793aec90",
    "outputId": "6f206ab0-a50c-4280-daa7-4dec88d6e915"
   },
   "outputs": [
    {
     "data": {
      "text/plain": [
       "(4404, 10)"
      ]
     },
     "execution_count": 4,
     "metadata": {},
     "output_type": "execute_result"
    }
   ],
   "source": [
    "product.shape"
   ]
  },
  {
   "cell_type": "code",
   "execution_count": null,
   "id": "b6ba450a",
   "metadata": {
    "executionInfo": {
     "elapsed": 26,
     "status": "aborted",
     "timestamp": 1646629004955,
     "user": {
      "displayName": "Phuong Dam",
      "photoUrl": "https://lh3.googleusercontent.com/a/default-user=s64",
      "userId": "01072403895711103873"
     },
     "user_tz": -420
    },
    "id": "b6ba450a",
    "outputId": "eae7bef6-3756-4c13-b445-dfa263014ccb"
   },
   "outputs": [
    {
     "data": {
      "text/html": [
       "<div>\n",
       "<style scoped>\n",
       "    .dataframe tbody tr th:only-of-type {\n",
       "        vertical-align: middle;\n",
       "    }\n",
       "\n",
       "    .dataframe tbody tr th {\n",
       "        vertical-align: top;\n",
       "    }\n",
       "\n",
       "    .dataframe thead th {\n",
       "        text-align: right;\n",
       "    }\n",
       "</style>\n",
       "<table border=\"1\" class=\"dataframe\">\n",
       "  <thead>\n",
       "    <tr style=\"text-align: right;\">\n",
       "      <th></th>\n",
       "      <th>item_id</th>\n",
       "      <th>name</th>\n",
       "      <th>description</th>\n",
       "      <th>rating</th>\n",
       "      <th>price</th>\n",
       "      <th>list_price</th>\n",
       "      <th>brand</th>\n",
       "      <th>group</th>\n",
       "      <th>url</th>\n",
       "      <th>image</th>\n",
       "    </tr>\n",
       "  </thead>\n",
       "  <tbody>\n",
       "    <tr>\n",
       "      <th>0</th>\n",
       "      <td>48102821</td>\n",
       "      <td>Tai nghe Bluetooth Inpods 12 - Cảm biến vân ta...</td>\n",
       "      <td>THÔNG TIN CHI TIẾT\\nDung lượng pin 300\\nThời g...</td>\n",
       "      <td>4.0000</td>\n",
       "      <td>77000</td>\n",
       "      <td>300000</td>\n",
       "      <td>OEM</td>\n",
       "      <td>Thiết Bị Số - Phụ Kiện Số/Thiết Bị Âm Thanh và...</td>\n",
       "      <td>https://tai-nghe-bluetooth-inpods-12-cam-bien-...</td>\n",
       "      <td>https://salt.tikicdn.com/cache/280x280/ts/prod...</td>\n",
       "    </tr>\n",
       "    <tr>\n",
       "      <th>1</th>\n",
       "      <td>52333193</td>\n",
       "      <td>Tai nghe bluetooth không dây F9 True wireless ...</td>\n",
       "      <td>THÔNG TIN CHI TIẾT\\nDung lượng pin 2000mah\\nTh...</td>\n",
       "      <td>4.5000</td>\n",
       "      <td>132000</td>\n",
       "      <td>750000</td>\n",
       "      <td>OEM</td>\n",
       "      <td>Thiết Bị Số - Phụ Kiện Số/Thiết Bị Âm Thanh và...</td>\n",
       "      <td>https://tai-nghe-bluetooth-khong-day-f9-true-w...</td>\n",
       "      <td>https://salt.tikicdn.com/cache/280x280/ts/prod...</td>\n",
       "    </tr>\n",
       "    <tr>\n",
       "      <th>2</th>\n",
       "      <td>299461</td>\n",
       "      <td>Chuột Không Dây Logitech M331 Silent - Hàng Ch...</td>\n",
       "      <td>THÔNG TIN CHI TIẾT\\nThương hiệu Logitech\\nĐộ p...</td>\n",
       "      <td>4.8000</td>\n",
       "      <td>299000</td>\n",
       "      <td>399000</td>\n",
       "      <td>Logitech</td>\n",
       "      <td>Thiết Bị Số - Phụ Kiện Số/Phụ kiện máy tính và...</td>\n",
       "      <td>https://chuot-khong-day-logitech-m331-silent-p...</td>\n",
       "      <td>https://salt.tikicdn.com/cache/280x280/media/c...</td>\n",
       "    </tr>\n",
       "  </tbody>\n",
       "</table>\n",
       "</div>"
      ],
      "text/plain": [
       "    item_id                                               name  \\\n",
       "0  48102821  Tai nghe Bluetooth Inpods 12 - Cảm biến vân ta...   \n",
       "1  52333193  Tai nghe bluetooth không dây F9 True wireless ...   \n",
       "2    299461  Chuột Không Dây Logitech M331 Silent - Hàng Ch...   \n",
       "\n",
       "                                         description  rating   price  \\\n",
       "0  THÔNG TIN CHI TIẾT\\nDung lượng pin 300\\nThời g...  4.0000   77000   \n",
       "1  THÔNG TIN CHI TIẾT\\nDung lượng pin 2000mah\\nTh...  4.5000  132000   \n",
       "2  THÔNG TIN CHI TIẾT\\nThương hiệu Logitech\\nĐộ p...  4.8000  299000   \n",
       "\n",
       "   list_price     brand                                              group  \\\n",
       "0      300000       OEM  Thiết Bị Số - Phụ Kiện Số/Thiết Bị Âm Thanh và...   \n",
       "1      750000       OEM  Thiết Bị Số - Phụ Kiện Số/Thiết Bị Âm Thanh và...   \n",
       "2      399000  Logitech  Thiết Bị Số - Phụ Kiện Số/Phụ kiện máy tính và...   \n",
       "\n",
       "                                                 url  \\\n",
       "0  https://tai-nghe-bluetooth-inpods-12-cam-bien-...   \n",
       "1  https://tai-nghe-bluetooth-khong-day-f9-true-w...   \n",
       "2  https://chuot-khong-day-logitech-m331-silent-p...   \n",
       "\n",
       "                                               image  \n",
       "0  https://salt.tikicdn.com/cache/280x280/ts/prod...  \n",
       "1  https://salt.tikicdn.com/cache/280x280/ts/prod...  \n",
       "2  https://salt.tikicdn.com/cache/280x280/media/c...  "
      ]
     },
     "execution_count": 5,
     "metadata": {},
     "output_type": "execute_result"
    }
   ],
   "source": [
    "product.head(3)"
   ]
  },
  {
   "cell_type": "code",
   "execution_count": null,
   "id": "d37af25e",
   "metadata": {
    "executionInfo": {
     "elapsed": 27,
     "status": "aborted",
     "timestamp": 1646629004956,
     "user": {
      "displayName": "Phuong Dam",
      "photoUrl": "https://lh3.googleusercontent.com/a/default-user=s64",
      "userId": "01072403895711103873"
     },
     "user_tz": -420
    },
    "id": "d37af25e",
    "outputId": "23ce503b-1ece-4bbc-b9b0-8be671d23f2c",
    "scrolled": true
   },
   "outputs": [
    {
     "name": "stdout",
     "output_type": "stream",
     "text": [
      "<class 'pandas.core.frame.DataFrame'>\n",
      "RangeIndex: 4404 entries, 0 to 4403\n",
      "Data columns (total 10 columns):\n",
      " #   Column       Non-Null Count  Dtype  \n",
      "---  ------       --------------  -----  \n",
      " 0   item_id      4404 non-null   int64  \n",
      " 1   name         4404 non-null   object \n",
      " 2   description  4401 non-null   object \n",
      " 3   rating       4404 non-null   float64\n",
      " 4   price        4404 non-null   int64  \n",
      " 5   list_price   4404 non-null   int64  \n",
      " 6   brand        4404 non-null   object \n",
      " 7   group        4404 non-null   object \n",
      " 8   url          4404 non-null   object \n",
      " 9   image        4404 non-null   object \n",
      "dtypes: float64(1), int64(3), object(6)\n",
      "memory usage: 344.2+ KB\n"
     ]
    }
   ],
   "source": [
    "product.info()"
   ]
  },
  {
   "cell_type": "code",
   "execution_count": null,
   "id": "c72dcdcf",
   "metadata": {
    "executionInfo": {
     "elapsed": 27,
     "status": "aborted",
     "timestamp": 1646629004956,
     "user": {
      "displayName": "Phuong Dam",
      "photoUrl": "https://lh3.googleusercontent.com/a/default-user=s64",
      "userId": "01072403895711103873"
     },
     "user_tz": -420
    },
    "id": "c72dcdcf",
    "outputId": "ceecf729-bbe2-4935-c8d8-88e07592f6e4"
   },
   "outputs": [
    {
     "data": {
      "text/html": [
       "<div>\n",
       "<style scoped>\n",
       "    .dataframe tbody tr th:only-of-type {\n",
       "        vertical-align: middle;\n",
       "    }\n",
       "\n",
       "    .dataframe tbody tr th {\n",
       "        vertical-align: top;\n",
       "    }\n",
       "\n",
       "    .dataframe thead th {\n",
       "        text-align: right;\n",
       "    }\n",
       "</style>\n",
       "<table border=\"1\" class=\"dataframe\">\n",
       "  <thead>\n",
       "    <tr style=\"text-align: right;\">\n",
       "      <th></th>\n",
       "      <th>item_id</th>\n",
       "      <th>rating</th>\n",
       "      <th>price</th>\n",
       "      <th>list_price</th>\n",
       "    </tr>\n",
       "  </thead>\n",
       "  <tbody>\n",
       "    <tr>\n",
       "      <th>count</th>\n",
       "      <td>4,404.0000</td>\n",
       "      <td>4,404.0000</td>\n",
       "      <td>4,404.0000</td>\n",
       "      <td>4,404.0000</td>\n",
       "    </tr>\n",
       "    <tr>\n",
       "      <th>mean</th>\n",
       "      <td>34,859,938.0311</td>\n",
       "      <td>3.6782</td>\n",
       "      <td>2,747,125.0995</td>\n",
       "      <td>3,870,596.1785</td>\n",
       "    </tr>\n",
       "    <tr>\n",
       "      <th>std</th>\n",
       "      <td>25,681,520.9383</td>\n",
       "      <td>1.7923</td>\n",
       "      <td>5,528,233.1149</td>\n",
       "      <td>7,877,977.2250</td>\n",
       "    </tr>\n",
       "    <tr>\n",
       "      <th>min</th>\n",
       "      <td>54,665.0000</td>\n",
       "      <td>0.0000</td>\n",
       "      <td>7,000.0000</td>\n",
       "      <td>12,000.0000</td>\n",
       "    </tr>\n",
       "    <tr>\n",
       "      <th>25%</th>\n",
       "      <td>10,768,594.0000</td>\n",
       "      <td>3.8000</td>\n",
       "      <td>150,000.0000</td>\n",
       "      <td>277,250.0000</td>\n",
       "    </tr>\n",
       "    <tr>\n",
       "      <th>50%</th>\n",
       "      <td>32,439,644.5000</td>\n",
       "      <td>4.5000</td>\n",
       "      <td>482,444.0000</td>\n",
       "      <td>790,000.0000</td>\n",
       "    </tr>\n",
       "    <tr>\n",
       "      <th>75%</th>\n",
       "      <td>56,306,800.5000</td>\n",
       "      <td>4.8000</td>\n",
       "      <td>2,649,000.0000</td>\n",
       "      <td>3,507,500.0000</td>\n",
       "    </tr>\n",
       "    <tr>\n",
       "      <th>max</th>\n",
       "      <td>85,042,408.0000</td>\n",
       "      <td>5.0000</td>\n",
       "      <td>62,690,000.0000</td>\n",
       "      <td>82,990,000.0000</td>\n",
       "    </tr>\n",
       "  </tbody>\n",
       "</table>\n",
       "</div>"
      ],
      "text/plain": [
       "              item_id     rating           price      list_price\n",
       "count      4,404.0000 4,404.0000      4,404.0000      4,404.0000\n",
       "mean  34,859,938.0311     3.6782  2,747,125.0995  3,870,596.1785\n",
       "std   25,681,520.9383     1.7923  5,528,233.1149  7,877,977.2250\n",
       "min       54,665.0000     0.0000      7,000.0000     12,000.0000\n",
       "25%   10,768,594.0000     3.8000    150,000.0000    277,250.0000\n",
       "50%   32,439,644.5000     4.5000    482,444.0000    790,000.0000\n",
       "75%   56,306,800.5000     4.8000  2,649,000.0000  3,507,500.0000\n",
       "max   85,042,408.0000     5.0000 62,690,000.0000 82,990,000.0000"
      ]
     },
     "execution_count": 7,
     "metadata": {},
     "output_type": "execute_result"
    }
   ],
   "source": [
    "product.describe()"
   ]
  },
  {
   "cell_type": "code",
   "execution_count": null,
   "id": "f81e6bbe",
   "metadata": {
    "executionInfo": {
     "elapsed": 26,
     "status": "aborted",
     "timestamp": 1646629004956,
     "user": {
      "displayName": "Phuong Dam",
      "photoUrl": "https://lh3.googleusercontent.com/a/default-user=s64",
      "userId": "01072403895711103873"
     },
     "user_tz": -420
    },
    "id": "f81e6bbe",
    "outputId": "ff8c0897-3109-4230-9551-59e6c9591ad3"
   },
   "outputs": [
    {
     "data": {
      "text/plain": [
       "(4401, 10)"
      ]
     },
     "execution_count": 8,
     "metadata": {},
     "output_type": "execute_result"
    }
   ],
   "source": [
    "# Drop rows where description == null\n",
    "product = product[product['description'].notnull()]\n",
    "product.shape"
   ]
  },
  {
   "cell_type": "code",
   "execution_count": null,
   "id": "60f12432",
   "metadata": {
    "executionInfo": {
     "elapsed": 27,
     "status": "aborted",
     "timestamp": 1646629004957,
     "user": {
      "displayName": "Phuong Dam",
      "photoUrl": "https://lh3.googleusercontent.com/a/default-user=s64",
      "userId": "01072403895711103873"
     },
     "user_tz": -420
    },
    "id": "60f12432",
    "outputId": "577e0154-22fa-42a4-9a43-00ffb3e2f9c8"
   },
   "outputs": [
    {
     "data": {
      "text/plain": [
       "item_id        False\n",
       "name           False\n",
       "description    False\n",
       "rating         False\n",
       "price          False\n",
       "list_price     False\n",
       "brand          False\n",
       "group          False\n",
       "url            False\n",
       "image          False\n",
       "dtype: bool"
      ]
     },
     "execution_count": 9,
     "metadata": {},
     "output_type": "execute_result"
    }
   ],
   "source": [
    "# Check if there is any null value\n",
    "product.isnull().any()"
   ]
  },
  {
   "cell_type": "code",
   "execution_count": null,
   "id": "d935716d",
   "metadata": {
    "executionInfo": {
     "elapsed": 27,
     "status": "aborted",
     "timestamp": 1646629004957,
     "user": {
      "displayName": "Phuong Dam",
      "photoUrl": "https://lh3.googleusercontent.com/a/default-user=s64",
      "userId": "01072403895711103873"
     },
     "user_tz": -420
    },
    "id": "d935716d",
    "outputId": "d3d55e18-acff-4372-c407-615d2cfabad7",
    "scrolled": true
   },
   "outputs": [
    {
     "name": "stdout",
     "output_type": "stream",
     "text": [
      "Number of duplicated rows: 31\n"
     ]
    },
    {
     "data": {
      "text/plain": [
       "(4370, 10)"
      ]
     },
     "execution_count": 10,
     "metadata": {},
     "output_type": "execute_result"
    }
   ],
   "source": [
    "# Check & drop duplicated rows\n",
    "print('Number of duplicated rows:',product.duplicated().sum())\n",
    "product = product.drop_duplicates().reset_index(drop=True)\n",
    "product.shape"
   ]
  },
  {
   "cell_type": "code",
   "execution_count": null,
   "id": "2d89a305",
   "metadata": {
    "id": "2d89a305"
   },
   "outputs": [],
   "source": [
    "# Reset index\n",
    "# product = product.reset_index(drop=True)"
   ]
  },
  {
   "cell_type": "markdown",
   "id": "55ac07fb",
   "metadata": {
    "id": "55ac07fb"
   },
   "source": [
    "'ReviewRaw.csv'"
   ]
  },
  {
   "cell_type": "code",
   "execution_count": null,
   "id": "55e33a6c",
   "metadata": {
    "executionInfo": {
     "elapsed": 26,
     "status": "aborted",
     "timestamp": 1646629004957,
     "user": {
      "displayName": "Phuong Dam",
      "photoUrl": "https://lh3.googleusercontent.com/a/default-user=s64",
      "userId": "01072403895711103873"
     },
     "user_tz": -420
    },
    "id": "55e33a6c",
    "outputId": "1bc99288-dcea-422d-8a9e-a84112794f63"
   },
   "outputs": [
    {
     "data": {
      "text/plain": [
       "(364099, 8)"
      ]
     },
     "execution_count": 12,
     "metadata": {},
     "output_type": "execute_result"
    }
   ],
   "source": [
    "# Load data 'ReviewRaw.csv'\n",
    "review = pd.read_csv('data/ReviewRaw.csv')\n",
    "review.shape"
   ]
  },
  {
   "cell_type": "code",
   "execution_count": null,
   "id": "6318c7f3",
   "metadata": {
    "executionInfo": {
     "elapsed": 27,
     "status": "aborted",
     "timestamp": 1646629004958,
     "user": {
      "displayName": "Phuong Dam",
      "photoUrl": "https://lh3.googleusercontent.com/a/default-user=s64",
      "userId": "01072403895711103873"
     },
     "user_tz": -420
    },
    "id": "6318c7f3",
    "outputId": "c4f3b8e8-fd30-4698-8afe-8e23fa94a03b"
   },
   "outputs": [
    {
     "data": {
      "text/html": [
       "<div>\n",
       "<style scoped>\n",
       "    .dataframe tbody tr th:only-of-type {\n",
       "        vertical-align: middle;\n",
       "    }\n",
       "\n",
       "    .dataframe tbody tr th {\n",
       "        vertical-align: top;\n",
       "    }\n",
       "\n",
       "    .dataframe thead th {\n",
       "        text-align: right;\n",
       "    }\n",
       "</style>\n",
       "<table border=\"1\" class=\"dataframe\">\n",
       "  <thead>\n",
       "    <tr style=\"text-align: right;\">\n",
       "      <th></th>\n",
       "      <th>customer_id</th>\n",
       "      <th>product_id</th>\n",
       "      <th>name</th>\n",
       "      <th>full_name</th>\n",
       "      <th>created_time</th>\n",
       "      <th>rating</th>\n",
       "      <th>title</th>\n",
       "      <th>content</th>\n",
       "    </tr>\n",
       "  </thead>\n",
       "  <tbody>\n",
       "    <tr>\n",
       "      <th>0</th>\n",
       "      <td>709310</td>\n",
       "      <td>10001012</td>\n",
       "      <td>Lân Nguyễn Hoàng</td>\n",
       "      <td>Lân Nguyễn Hoàng</td>\n",
       "      <td>NaN</td>\n",
       "      <td>3</td>\n",
       "      <td>Ko dùng đc thẻ nhớ</td>\n",
       "      <td>Lúcđầu quên thông tin nên dùng 512gb thì ko đc...</td>\n",
       "    </tr>\n",
       "    <tr>\n",
       "      <th>1</th>\n",
       "      <td>10701688</td>\n",
       "      <td>10001012</td>\n",
       "      <td>Nguyễn Khánh Hòa</td>\n",
       "      <td>Nguyễn Khánh Hòa</td>\n",
       "      <td>NaN</td>\n",
       "      <td>5</td>\n",
       "      <td>Cực kì hài lòng</td>\n",
       "      <td>Tiki giao hàng nhanh. Sản phẩm đúng như mô tả,...</td>\n",
       "    </tr>\n",
       "    <tr>\n",
       "      <th>2</th>\n",
       "      <td>11763074</td>\n",
       "      <td>10001012</td>\n",
       "      <td>Toàn Phạm Khánh</td>\n",
       "      <td>Toàn Phạm Khánh</td>\n",
       "      <td>2019-04-17 15:42:45</td>\n",
       "      <td>5</td>\n",
       "      <td>Cực kì hài lòng</td>\n",
       "      <td>chất lượng camera rõ nét, chống mưa nắng tuyệt...</td>\n",
       "    </tr>\n",
       "    <tr>\n",
       "      <th>3</th>\n",
       "      <td>9909549</td>\n",
       "      <td>10001012</td>\n",
       "      <td>Nguyen Quang Minh</td>\n",
       "      <td>NaN</td>\n",
       "      <td>NaN</td>\n",
       "      <td>5</td>\n",
       "      <td>Rất hài lòng</td>\n",
       "      <td>Hàng được đóng gói cẩn thận, giao hàng nhanh ,...</td>\n",
       "    </tr>\n",
       "    <tr>\n",
       "      <th>4</th>\n",
       "      <td>1827148</td>\n",
       "      <td>10001012</td>\n",
       "      <td>Phạm Bá Đức</td>\n",
       "      <td>Phạm Bá Đức</td>\n",
       "      <td>NaN</td>\n",
       "      <td>5</td>\n",
       "      <td>Cực kì hài lòng</td>\n",
       "      <td>dễ cài đặt, chất lượng tốt, chế độ xem hồng ng...</td>\n",
       "    </tr>\n",
       "  </tbody>\n",
       "</table>\n",
       "</div>"
      ],
      "text/plain": [
       "   customer_id  product_id               name         full_name  \\\n",
       "0       709310    10001012   Lân Nguyễn Hoàng  Lân Nguyễn Hoàng   \n",
       "1     10701688    10001012   Nguyễn Khánh Hòa  Nguyễn Khánh Hòa   \n",
       "2     11763074    10001012    Toàn Phạm Khánh   Toàn Phạm Khánh   \n",
       "3      9909549    10001012  Nguyen Quang Minh               NaN   \n",
       "4      1827148    10001012        Phạm Bá Đức       Phạm Bá Đức   \n",
       "\n",
       "          created_time  rating               title  \\\n",
       "0                  NaN       3  Ko dùng đc thẻ nhớ   \n",
       "1                  NaN       5     Cực kì hài lòng   \n",
       "2  2019-04-17 15:42:45       5     Cực kì hài lòng   \n",
       "3                  NaN       5        Rất hài lòng   \n",
       "4                  NaN       5     Cực kì hài lòng   \n",
       "\n",
       "                                             content  \n",
       "0  Lúcđầu quên thông tin nên dùng 512gb thì ko đc...  \n",
       "1  Tiki giao hàng nhanh. Sản phẩm đúng như mô tả,...  \n",
       "2  chất lượng camera rõ nét, chống mưa nắng tuyệt...  \n",
       "3  Hàng được đóng gói cẩn thận, giao hàng nhanh ,...  \n",
       "4  dễ cài đặt, chất lượng tốt, chế độ xem hồng ng...  "
      ]
     },
     "execution_count": 13,
     "metadata": {},
     "output_type": "execute_result"
    }
   ],
   "source": [
    "review.head()"
   ]
  },
  {
   "cell_type": "code",
   "execution_count": null,
   "id": "6956d434",
   "metadata": {
    "executionInfo": {
     "elapsed": 27,
     "status": "aborted",
     "timestamp": 1646629004958,
     "user": {
      "displayName": "Phuong Dam",
      "photoUrl": "https://lh3.googleusercontent.com/a/default-user=s64",
      "userId": "01072403895711103873"
     },
     "user_tz": -420
    },
    "id": "6956d434",
    "outputId": "b605570e-e60a-46f1-ed6d-dbaf5106e89e"
   },
   "outputs": [
    {
     "name": "stdout",
     "output_type": "stream",
     "text": [
      "<class 'pandas.core.frame.DataFrame'>\n",
      "RangeIndex: 364099 entries, 0 to 364098\n",
      "Data columns (total 3 columns):\n",
      " #   Column       Non-Null Count   Dtype\n",
      "---  ------       --------------   -----\n",
      " 0   customer_id  364099 non-null  int64\n",
      " 1   product_id   364099 non-null  int64\n",
      " 2   rating       364099 non-null  int64\n",
      "dtypes: int64(3)\n",
      "memory usage: 8.3 MB\n"
     ]
    }
   ],
   "source": [
    "review = review[['customer_id', 'product_id', 'rating']]\n",
    "review.info()"
   ]
  },
  {
   "cell_type": "code",
   "execution_count": null,
   "id": "acecb8ee",
   "metadata": {
    "executionInfo": {
     "elapsed": 26,
     "status": "aborted",
     "timestamp": 1646629004958,
     "user": {
      "displayName": "Phuong Dam",
      "photoUrl": "https://lh3.googleusercontent.com/a/default-user=s64",
      "userId": "01072403895711103873"
     },
     "user_tz": -420
    },
    "id": "acecb8ee",
    "outputId": "1fdd3426-27ed-4838-e39b-bd9ae6c93a6c"
   },
   "outputs": [
    {
     "name": "stdout",
     "output_type": "stream",
     "text": [
      "Number of duplicated rows: 3888\n"
     ]
    },
    {
     "data": {
      "text/plain": [
       "(360211, 3)"
      ]
     },
     "execution_count": 15,
     "metadata": {},
     "output_type": "execute_result"
    }
   ],
   "source": [
    "print('Number of duplicated rows:', review.duplicated().sum())\n",
    "review = review.drop_duplicates().reset_index(drop=True)\n",
    "review.shape"
   ]
  },
  {
   "cell_type": "code",
   "execution_count": null,
   "id": "607d65b9",
   "metadata": {
    "executionInfo": {
     "elapsed": 26,
     "status": "aborted",
     "timestamp": 1646629004958,
     "user": {
      "displayName": "Phuong Dam",
      "photoUrl": "https://lh3.googleusercontent.com/a/default-user=s64",
      "userId": "01072403895711103873"
     },
     "user_tz": -420
    },
    "id": "607d65b9",
    "outputId": "656995f1-ad73-4221-d88a-5bd774aafe1e"
   },
   "outputs": [
    {
     "name": "stdout",
     "output_type": "stream",
     "text": [
      "Number of unique product in dataframe product: 4370\n",
      "Number of unique product in dataframe review: 4218\n"
     ]
    }
   ],
   "source": [
    "print('Number of unique product in dataframe product:',product.item_id.nunique())\n",
    "print('Number of unique product in dataframe review:',review.product_id.nunique())"
   ]
  },
  {
   "cell_type": "markdown",
   "id": "c9dcc8ba",
   "metadata": {
    "id": "c9dcc8ba"
   },
   "source": [
    "Nhận xét: \n",
    "- Số lượng unique product của 2 dataframe không giống nhau => Có thể có những sản phẩm chỉ thuộc 1 dataframe mà không thuộc dataframe còn lại => Tiến hành kiểm tra"
   ]
  },
  {
   "cell_type": "code",
   "execution_count": null,
   "id": "2229957f",
   "metadata": {
    "executionInfo": {
     "elapsed": 26,
     "status": "aborted",
     "timestamp": 1646629004958,
     "user": {
      "displayName": "Phuong Dam",
      "photoUrl": "https://lh3.googleusercontent.com/a/default-user=s64",
      "userId": "01072403895711103873"
     },
     "user_tz": -420
    },
    "id": "2229957f",
    "outputId": "67a71016-baa9-4b89-9ff1-648e75e7b6b4"
   },
   "outputs": [
    {
     "name": "stdout",
     "output_type": "stream",
     "text": [
      "Số lượng sản phẩm có trong \"review\" mà không có trong \"product\": 671\n",
      "Số lượng sản phẩm có trong \"product\" mà không có trong \"review\": 159\n"
     ]
    }
   ],
   "source": [
    "notin_product = review[~review['product_id'].isin(product['item_id'].unique())]\n",
    "print('Số lượng sản phẩm có trong \"review\" mà không có trong \"product\":', notin_product.shape[0])\n",
    "notin_review = product[~product['item_id'].isin(review['product_id'].unique())]\n",
    "print('Số lượng sản phẩm có trong \"product\" mà không có trong \"review\":', notin_review.shape[0])"
   ]
  },
  {
   "cell_type": "code",
   "execution_count": null,
   "id": "e219b676",
   "metadata": {
    "executionInfo": {
     "elapsed": 27,
     "status": "aborted",
     "timestamp": 1646629004959,
     "user": {
      "displayName": "Phuong Dam",
      "photoUrl": "https://lh3.googleusercontent.com/a/default-user=s64",
      "userId": "01072403895711103873"
     },
     "user_tz": -420
    },
    "id": "e219b676",
    "outputId": "b5d6b349-6c78-48c2-bb9f-4f4136cfacd3"
   },
   "outputs": [
    {
     "data": {
      "text/plain": [
       "True"
      ]
     },
     "execution_count": 18,
     "metadata": {},
     "output_type": "execute_result"
    }
   ],
   "source": [
    "# Loại bỏ những sản phẩm không tương đồng \n",
    "product = product[product['item_id'].isin(review['product_id'].unique())].reset_index(drop=True)\n",
    "review = review[review['product_id'].isin(product['item_id'].unique())].reset_index(drop=True)\n",
    "\n",
    "# Kiểm tra xem review.product_id và product.item_id đã bao gồm những sản phẩm giống nhau hay chưa\n",
    "sorted(review['product_id'].unique()) == sorted(product['item_id'].unique()) "
   ]
  },
  {
   "cell_type": "code",
   "execution_count": null,
   "id": "90836455",
   "metadata": {
    "id": "90836455"
   },
   "outputs": [],
   "source": [
    "# # Save 2 file đã làm sạch\n",
    "# product.to_csv('data/ProductClean.csv')\n",
    "# review.to_csv('data/ReviewClean.csv')"
   ]
  },
  {
   "cell_type": "markdown",
   "id": "0b445f7e",
   "metadata": {
    "id": "0b445f7e"
   },
   "source": [
    "## 2.2 EDA"
   ]
  },
  {
   "cell_type": "markdown",
   "id": "10daed8a",
   "metadata": {
    "id": "10daed8a"
   },
   "source": [
    "### PRODUCT\n",
    "### -- Numeric variables"
   ]
  },
  {
   "cell_type": "code",
   "execution_count": null,
   "id": "cd2e897f",
   "metadata": {
    "executionInfo": {
     "elapsed": 26,
     "status": "aborted",
     "timestamp": 1646629004959,
     "user": {
      "displayName": "Phuong Dam",
      "photoUrl": "https://lh3.googleusercontent.com/a/default-user=s64",
      "userId": "01072403895711103873"
     },
     "user_tz": -420
    },
    "id": "cd2e897f",
    "outputId": "d7893c52-0bc5-49e7-d64c-02d5c1b86b16"
   },
   "outputs": [
    {
     "data": {
      "text/html": [
       "<div>\n",
       "<style scoped>\n",
       "    .dataframe tbody tr th:only-of-type {\n",
       "        vertical-align: middle;\n",
       "    }\n",
       "\n",
       "    .dataframe tbody tr th {\n",
       "        vertical-align: top;\n",
       "    }\n",
       "\n",
       "    .dataframe thead th {\n",
       "        text-align: right;\n",
       "    }\n",
       "</style>\n",
       "<table border=\"1\" class=\"dataframe\">\n",
       "  <thead>\n",
       "    <tr style=\"text-align: right;\">\n",
       "      <th></th>\n",
       "      <th>mean</th>\n",
       "      <th>median</th>\n",
       "      <th>mode</th>\n",
       "      <th>max_val</th>\n",
       "      <th>min_val</th>\n",
       "      <th>range_val</th>\n",
       "      <th>variance</th>\n",
       "      <th>skewness</th>\n",
       "      <th>kurtosis</th>\n",
       "    </tr>\n",
       "    <tr>\n",
       "      <th>var_name</th>\n",
       "      <th></th>\n",
       "      <th></th>\n",
       "      <th></th>\n",
       "      <th></th>\n",
       "      <th></th>\n",
       "      <th></th>\n",
       "      <th></th>\n",
       "      <th></th>\n",
       "      <th></th>\n",
       "    </tr>\n",
       "  </thead>\n",
       "  <tbody>\n",
       "    <tr>\n",
       "      <th>rating</th>\n",
       "      <td>3.8121</td>\n",
       "      <td>4.5000</td>\n",
       "      <td>0   0.0000\n",
       "dtype: float64</td>\n",
       "      <td>5.0000</td>\n",
       "      <td>0.0000</td>\n",
       "      <td>5.0000</td>\n",
       "      <td>2.8178</td>\n",
       "      <td>-1.6677</td>\n",
       "      <td>1.1034</td>\n",
       "    </tr>\n",
       "    <tr>\n",
       "      <th>price</th>\n",
       "      <td>2,612,385.9691</td>\n",
       "      <td>459,000.0000</td>\n",
       "      <td>0    99000\n",
       "dtype: int64</td>\n",
       "      <td>51,990,000.0000</td>\n",
       "      <td>7,000.0000</td>\n",
       "      <td>51,983,000.0000</td>\n",
       "      <td>27,514,779,749,756.5391</td>\n",
       "      <td>3.5320</td>\n",
       "      <td>15.5388</td>\n",
       "    </tr>\n",
       "    <tr>\n",
       "      <th>list_price</th>\n",
       "      <td>3,720,382.5148</td>\n",
       "      <td>750,000.0000</td>\n",
       "      <td>0    150000\n",
       "dtype: int64</td>\n",
       "      <td>82,990,000.0000</td>\n",
       "      <td>12,000.0000</td>\n",
       "      <td>82,978,000.0000</td>\n",
       "      <td>58,335,354,437,055.7891</td>\n",
       "      <td>4.1195</td>\n",
       "      <td>23.0395</td>\n",
       "    </tr>\n",
       "  </tbody>\n",
       "</table>\n",
       "</div>"
      ],
      "text/plain": [
       "                     mean       median                       mode  \\\n",
       "var_name                                                            \n",
       "rating             3.8121       4.5000  0   0.0000\n",
       "dtype: float64   \n",
       "price      2,612,385.9691 459,000.0000    0    99000\n",
       "dtype: int64   \n",
       "list_price 3,720,382.5148 750,000.0000   0    150000\n",
       "dtype: int64   \n",
       "\n",
       "                   max_val     min_val       range_val  \\\n",
       "var_name                                                 \n",
       "rating              5.0000      0.0000          5.0000   \n",
       "price      51,990,000.0000  7,000.0000 51,983,000.0000   \n",
       "list_price 82,990,000.0000 12,000.0000 82,978,000.0000   \n",
       "\n",
       "                          variance  skewness  kurtosis  \n",
       "var_name                                                \n",
       "rating                      2.8178   -1.6677    1.1034  \n",
       "price      27,514,779,749,756.5391    3.5320   15.5388  \n",
       "list_price 58,335,354,437,055.7891    4.1195   23.0395  "
      ]
     },
     "execution_count": 20,
     "metadata": {},
     "output_type": "execute_result"
    }
   ],
   "source": [
    "# Xem thống kê cơ bản của các biến 'rating', 'price', 'list_price'\n",
    "Lib.univariate_cont_analysis(['rating', 'price', 'list_price'], product)"
   ]
  },
  {
   "cell_type": "code",
   "execution_count": null,
   "id": "f048aed2",
   "metadata": {
    "executionInfo": {
     "elapsed": 26,
     "status": "aborted",
     "timestamp": 1646629004959,
     "user": {
      "displayName": "Phuong Dam",
      "photoUrl": "https://lh3.googleusercontent.com/a/default-user=s64",
      "userId": "01072403895711103873"
     },
     "user_tz": -420
    },
    "id": "f048aed2",
    "outputId": "178fabd2-825a-4b93-b710-f9418e247cd8"
   },
   "outputs": [
    {
     "data": {
      "image/png": "[encoded data removed]",
      "text/plain": [
       "<Figure size 1080x288 with 3 Axes>"
      ]
     },
     "metadata": {
      "needs_background": "light"
     },
     "output_type": "display_data"
    }
   ],
   "source": [
    "# Vẽ biểu đồ distplot để xem phân phối của các biến\n",
    "Lib.visualization_distplot(['rating', 'price', 'list_price'], product)"
   ]
  },
  {
   "cell_type": "code",
   "execution_count": null,
   "id": "457ea767",
   "metadata": {
    "executionInfo": {
     "elapsed": 27,
     "status": "aborted",
     "timestamp": 1646629004960,
     "user": {
      "displayName": "Phuong Dam",
      "photoUrl": "https://lh3.googleusercontent.com/a/default-user=s64",
      "userId": "01072403895711103873"
     },
     "user_tz": -420
    },
    "id": "457ea767",
    "outputId": "6bc82d4b-3838-4f7d-a75d-a1726f3ec4ae",
    "scrolled": true
   },
   "outputs": [
    {
     "data": {
      "image/png": "[encoded data removed]",
      "text/plain": [
       "<Figure size 1080x288 with 3 Axes>"
      ]
     },
     "metadata": {
      "needs_background": "light"
     },
     "output_type": "display_data"
    }
   ],
   "source": [
    "# Vẽ biểu đồ boxplot \n",
    "Lib.visualization_boxplot(['rating', 'price', 'list_price'], product)"
   ]
  },
  {
   "cell_type": "markdown",
   "id": "9491bc03",
   "metadata": {
    "id": "9491bc03"
   },
   "source": [
    "Nhận xét: \n",
    "- 'rating' nhiều nhất ở giá trị 0 và khoảng 3-5\n",
    "- 'price' và 'list_price' đa số nhỏ hơn 10,000,000\n",
    "- 'rating' có phân phối lệch trái, 'price' và 'list_price' có phân phối lệch phải\n",
    "- 'rating' có lower outliers, 'price' và 'list_price' có upper outliers"
   ]
  },
  {
   "cell_type": "code",
   "execution_count": null,
   "id": "644089d0",
   "metadata": {
    "executionInfo": {
     "elapsed": 26,
     "status": "aborted",
     "timestamp": 1646629004960,
     "user": {
      "displayName": "Phuong Dam",
      "photoUrl": "https://lh3.googleusercontent.com/a/default-user=s64",
      "userId": "01072403895711103873"
     },
     "user_tz": -420
    },
    "id": "644089d0",
    "outputId": "9651ff09-6056-4260-fb39-c730c86fc352"
   },
   "outputs": [
    {
     "data": {
      "image/png": "[encoded data removed]",
      "text/plain": [
       "<Figure size 432x288 with 2 Axes>"
      ]
     },
     "metadata": {
      "needs_background": "light"
     },
     "output_type": "display_data"
    }
   ],
   "source": [
    "# Xem xét mối tương quan của các biến số\n",
    "sns.heatmap(product[['rating', 'price', 'list_price']].corr(), cmap=\"YlGnBu\", annot=True)\n",
    "plt.show()"
   ]
  },
  {
   "cell_type": "markdown",
   "id": "7f1e5bf4",
   "metadata": {
    "id": "7f1e5bf4"
   },
   "source": [
    "Nhận xét:\n",
    "- 'price' và 'list_price' có mối quan hệ tương quan thuận rất mạnh 0.96\n",
    "- 'rating' không tương quan với 'price', 'list_price'"
   ]
  },
  {
   "cell_type": "markdown",
   "id": "ab38327d",
   "metadata": {
    "id": "ab38327d"
   },
   "source": [
    "### -- Categorical variables"
   ]
  },
  {
   "cell_type": "code",
   "execution_count": null,
   "id": "3e5544d9",
   "metadata": {
    "executionInfo": {
     "elapsed": 26,
     "status": "aborted",
     "timestamp": 1646629004960,
     "user": {
      "displayName": "Phuong Dam",
      "photoUrl": "https://lh3.googleusercontent.com/a/default-user=s64",
      "userId": "01072403895711103873"
     },
     "user_tz": -420
    },
    "id": "3e5544d9",
    "outputId": "4c81bb47-281e-4b6c-d914-a9b48bcbf227"
   },
   "outputs": [
    {
     "data": {
      "text/html": [
       "<div>\n",
       "<style scoped>\n",
       "    .dataframe tbody tr th:only-of-type {\n",
       "        vertical-align: middle;\n",
       "    }\n",
       "\n",
       "    .dataframe tbody tr th {\n",
       "        vertical-align: top;\n",
       "    }\n",
       "\n",
       "    .dataframe thead th {\n",
       "        text-align: right;\n",
       "    }\n",
       "</style>\n",
       "<table border=\"1\" class=\"dataframe\">\n",
       "  <thead>\n",
       "    <tr style=\"text-align: right;\">\n",
       "      <th></th>\n",
       "      <th>item_id</th>\n",
       "      <th>name</th>\n",
       "      <th>description</th>\n",
       "      <th>rating</th>\n",
       "      <th>price</th>\n",
       "      <th>list_price</th>\n",
       "      <th>brand</th>\n",
       "      <th>group</th>\n",
       "      <th>url</th>\n",
       "      <th>image</th>\n",
       "      <th>main_group</th>\n",
       "    </tr>\n",
       "  </thead>\n",
       "  <tbody>\n",
       "    <tr>\n",
       "      <th>0</th>\n",
       "      <td>48102821</td>\n",
       "      <td>Tai nghe Bluetooth Inpods 12 - Cảm biến vân ta...</td>\n",
       "      <td>THÔNG TIN CHI TIẾT\\nDung lượng pin 300\\nThời g...</td>\n",
       "      <td>4.0000</td>\n",
       "      <td>77000</td>\n",
       "      <td>300000</td>\n",
       "      <td>OEM</td>\n",
       "      <td>Thiết Bị Số - Phụ Kiện Số/Thiết Bị Âm Thanh và...</td>\n",
       "      <td>https://tai-nghe-bluetooth-inpods-12-cam-bien-...</td>\n",
       "      <td>https://salt.tikicdn.com/cache/280x280/ts/prod...</td>\n",
       "      <td>Thiết Bị Số - Phụ Kiện Số</td>\n",
       "    </tr>\n",
       "    <tr>\n",
       "      <th>1</th>\n",
       "      <td>52333193</td>\n",
       "      <td>Tai nghe bluetooth không dây F9 True wireless ...</td>\n",
       "      <td>THÔNG TIN CHI TIẾT\\nDung lượng pin 2000mah\\nTh...</td>\n",
       "      <td>4.5000</td>\n",
       "      <td>132000</td>\n",
       "      <td>750000</td>\n",
       "      <td>OEM</td>\n",
       "      <td>Thiết Bị Số - Phụ Kiện Số/Thiết Bị Âm Thanh và...</td>\n",
       "      <td>https://tai-nghe-bluetooth-khong-day-f9-true-w...</td>\n",
       "      <td>https://salt.tikicdn.com/cache/280x280/ts/prod...</td>\n",
       "      <td>Thiết Bị Số - Phụ Kiện Số</td>\n",
       "    </tr>\n",
       "    <tr>\n",
       "      <th>2</th>\n",
       "      <td>299461</td>\n",
       "      <td>Chuột Không Dây Logitech M331 Silent - Hàng Ch...</td>\n",
       "      <td>THÔNG TIN CHI TIẾT\\nThương hiệu Logitech\\nĐộ p...</td>\n",
       "      <td>4.8000</td>\n",
       "      <td>299000</td>\n",
       "      <td>399000</td>\n",
       "      <td>Logitech</td>\n",
       "      <td>Thiết Bị Số - Phụ Kiện Số/Phụ kiện máy tính và...</td>\n",
       "      <td>https://chuot-khong-day-logitech-m331-silent-p...</td>\n",
       "      <td>https://salt.tikicdn.com/cache/280x280/media/c...</td>\n",
       "      <td>Thiết Bị Số - Phụ Kiện Số</td>\n",
       "    </tr>\n",
       "  </tbody>\n",
       "</table>\n",
       "</div>"
      ],
      "text/plain": [
       "    item_id                                               name  \\\n",
       "0  48102821  Tai nghe Bluetooth Inpods 12 - Cảm biến vân ta...   \n",
       "1  52333193  Tai nghe bluetooth không dây F9 True wireless ...   \n",
       "2    299461  Chuột Không Dây Logitech M331 Silent - Hàng Ch...   \n",
       "\n",
       "                                         description  rating   price  \\\n",
       "0  THÔNG TIN CHI TIẾT\\nDung lượng pin 300\\nThời g...  4.0000   77000   \n",
       "1  THÔNG TIN CHI TIẾT\\nDung lượng pin 2000mah\\nTh...  4.5000  132000   \n",
       "2  THÔNG TIN CHI TIẾT\\nThương hiệu Logitech\\nĐộ p...  4.8000  299000   \n",
       "\n",
       "   list_price     brand                                              group  \\\n",
       "0      300000       OEM  Thiết Bị Số - Phụ Kiện Số/Thiết Bị Âm Thanh và...   \n",
       "1      750000       OEM  Thiết Bị Số - Phụ Kiện Số/Thiết Bị Âm Thanh và...   \n",
       "2      399000  Logitech  Thiết Bị Số - Phụ Kiện Số/Phụ kiện máy tính và...   \n",
       "\n",
       "                                                 url  \\\n",
       "0  https://tai-nghe-bluetooth-inpods-12-cam-bien-...   \n",
       "1  https://tai-nghe-bluetooth-khong-day-f9-true-w...   \n",
       "2  https://chuot-khong-day-logitech-m331-silent-p...   \n",
       "\n",
       "                                               image  \\\n",
       "0  https://salt.tikicdn.com/cache/280x280/ts/prod...   \n",
       "1  https://salt.tikicdn.com/cache/280x280/ts/prod...   \n",
       "2  https://salt.tikicdn.com/cache/280x280/media/c...   \n",
       "\n",
       "                  main_group  \n",
       "0  Thiết Bị Số - Phụ Kiện Số  \n",
       "1  Thiết Bị Số - Phụ Kiện Số  \n",
       "2  Thiết Bị Số - Phụ Kiện Số  "
      ]
     },
     "execution_count": 24,
     "metadata": {},
     "output_type": "execute_result"
    }
   ],
   "source": [
    "# Tạo cột thông tin về ngành hàng tên là 'main_group' từ 'group' \n",
    "product['main_group'] = product['group'].apply(lambda x: x.split('/')[0])\n",
    "product.head(3)"
   ]
  },
  {
   "cell_type": "code",
   "execution_count": null,
   "id": "f5044805",
   "metadata": {
    "executionInfo": {
     "elapsed": 26,
     "status": "aborted",
     "timestamp": 1646629004960,
     "user": {
      "displayName": "Phuong Dam",
      "photoUrl": "https://lh3.googleusercontent.com/a/default-user=s64",
      "userId": "01072403895711103873"
     },
     "user_tz": -420
    },
    "id": "f5044805",
    "outputId": "20dbe726-40b3-4f8a-a13b-9a636ae5af4a"
   },
   "outputs": [
    {
     "name": "stdout",
     "output_type": "stream",
     "text": [
      "- Số ngành hàng: 9\n",
      "- Bao gồm:\n",
      " ['Thiết Bị Số - Phụ Kiện Số' 'Hàng Quốc Tế'\n",
      " 'Laptop - Máy Vi Tính - Linh kiện' 'Máy Ảnh - Máy Quay Phim'\n",
      " 'Ô Tô - Xe Máy - Xe Đạp' 'Điện Thoại - Máy Tính Bảng'\n",
      " 'Nhà Cửa - Đời Sống' 'Đồng hồ và Trang sức' 'Điện Tử - Điện Lạnh']\n"
     ]
    }
   ],
   "source": [
    "print('- Số ngành hàng:', product.main_group.nunique())\n",
    "print('- Bao gồm:\\n', product.main_group.unique())"
   ]
  },
  {
   "cell_type": "code",
   "execution_count": null,
   "id": "469b8374",
   "metadata": {
    "executionInfo": {
     "elapsed": 25,
     "status": "aborted",
     "timestamp": 1646629004960,
     "user": {
      "displayName": "Phuong Dam",
      "photoUrl": "https://lh3.googleusercontent.com/a/default-user=s64",
      "userId": "01072403895711103873"
     },
     "user_tz": -420
    },
    "id": "469b8374",
    "outputId": "3af2a4a3-5890-4e40-8b36-3004067b4054"
   },
   "outputs": [
    {
     "name": "stdout",
     "output_type": "stream",
     "text": [
      "main_group\n",
      "Thiết Bị Số - Phụ Kiện Số           1061\n",
      "Điện Tử - Điện Lạnh                  966\n",
      "Máy Ảnh - Máy Quay Phim              964\n",
      "Laptop - Máy Vi Tính - Linh kiện     898\n",
      "Điện Thoại - Máy Tính Bảng           313\n",
      "Hàng Quốc Tế                           5\n",
      "Ô Tô - Xe Máy - Xe Đạp                 2\n",
      "Nhà Cửa - Đời Sống                     1\n",
      "Đồng hồ và Trang sức                   1\n",
      "dtype: int64\n"
     ]
    },
    {
     "data": {
      "image/png": "[encoded data removed]",
      "text/plain": [
       "<Figure size 432x288 with 1 Axes>"
      ]
     },
     "metadata": {
      "needs_background": "light"
     },
     "output_type": "display_data"
    }
   ],
   "source": [
    "count = product.groupby(product['main_group']).size().sort_values(ascending=False)\n",
    "count.plot.bar(color='c')\n",
    "print(count)\n",
    "plt.show()"
   ]
  },
  {
   "cell_type": "markdown",
   "id": "621cccbe",
   "metadata": {
    "id": "621cccbe"
   },
   "source": [
    "Nhận xét:\n",
    "- 'Laptop - Máy Vi Tính - Linh kiện', 'Máy Ảnh - Máy Quay Phim', 'Thiết Bị Số - Phụ Kiện Số', 'Điện Tử - Điện Lạnh' là 4 ngành hàng có nhiều sản phẩm nhất, sau đó đến 'Điện Thoại - Máy Tính Bảng'\n",
    "- 'Hàng Quốc Tế' có 5 sản phẩm\n",
    "- 'Ô Tô - Xe Máy - Xe Đạp', 'Nhà Cửa - Đời Sống', 'Đồng hồ và Trang sức' chỉ có 1-2 sản phẩm => có thể những sản phẩm này sẽ không có sản phẩm tương đồng \n",
    "    => Ta có thể lựa chọn: 1/drop những sản phẩm này hoặc 2/giữ lại. \n",
    "    Trong trường hợp giữ lại, recommendation system có thể trả về thông báo 'Không có sản phẩm tượng tự' hoặc vẫn sẽ recommend những sản phẩm không tương đồng. Điều này có thể chấp nhận được, vì trên thực tế doanh nghiệp luôn muốn giới thiệu nhiều sản phẩm nhất có thể tới người tiêu dùng. "
   ]
  },
  {
   "cell_type": "code",
   "execution_count": null,
   "id": "22cc87b7",
   "metadata": {
    "executionInfo": {
     "elapsed": 26,
     "status": "aborted",
     "timestamp": 1646629004961,
     "user": {
      "displayName": "Phuong Dam",
      "photoUrl": "https://lh3.googleusercontent.com/a/default-user=s64",
      "userId": "01072403895711103873"
     },
     "user_tz": -420
    },
    "id": "22cc87b7",
    "outputId": "7a73000f-b122-4493-8f19-1e4f15b75f09",
    "scrolled": true
   },
   "outputs": [
    {
     "data": {
      "text/plain": [
       "array(['OEM', 'Logitech', 'Acome', 'Apple', 'JBL', 'Xiaomi', 'Hoco',\n",
       "       'Samsung', 'Baseus', 'Sony', 'QCY', 'TP-Link', 'Robot', 'AMOI',\n",
       "       'LANITH', 'Sanag', 'Anker', 'SIDOTECH', 'YORN', 'SanDisk',\n",
       "       'ITelecom', 'Dada', 'Lahutech', 'LG', 'Dell', 'Vinaphone',\n",
       "       'Viettel', 'Razer', ' GAOMON', 'CAPARIES', 'Aturos', 'vivan',\n",
       "       ' JBL', 'Orico ', 'HAYLOU', 'Helios', 'SoundPEATS', 'DareU', 'TW',\n",
       "       'AMA', 'Zealot ', 'AuKey', 'GUTEK', 'Photodesign VN', 'UGREEN',\n",
       "       'BYZ', 'HXSJ', 'PKCB', 'SADA', 'Microsoft', 'CONVI', 'AION',\n",
       "       'Mai Lee', 'HiBow', 'ROBINLUX', 'FLYDIGI ', 'Mobifone', 'RAVPower',\n",
       "       'ICASE', 'Memo', 'Dalugi', 'Microlab', 'Wacom', 'AMAZFIT',\n",
       "       'Cooler Master', 'Inphic', 'Realme', 'Soundcore by Anker', '\\tOEM',\n",
       "       'Harman Kardon', 'UAG', 'KIOMIC', 'Bosston', 'AKKO', 'Smart Case',\n",
       "       'E-DRA', 'Tamayoko', 'Fuhlen', 'Handtown', 'Netac', 'Gor',\n",
       "       'VinBuy', 'CHOETECH', 'I-Telecom', 'Remax', 'Tronsmart', 'V-TECH',\n",
       "       'Huawei', 'Memumi', 'Google', 'VSON', 'VINETTEAM', 'Defunc',\n",
       "       'Genius', 'Besti', 'Horizen', 'HYPERX', 'Ruizu', 'Soul', 'Asus',\n",
       "       'Garmin', 'Selfiecom', 'VR Shinecon', 'NETBOX', 'Creative', 'WAN',\n",
       "       'Royal Kludge', 'MIPOW', 'USLION', ' BUBM', 'Cooling pad', 'xMOWI',\n",
       "       'JiTuo', 'SoundMax', 'R8', 'MIREN', 'Kingshare', 'Lucas', 'Hyper',\n",
       "       'SDRD - SD', 'CAFELE', 'JBZ', 'THANHLX', 'TRIỀU CƯƠNG TECH ',\n",
       "       'SENDEM', 'EDRA', 'WK', 'QGeeM', 'King Master', 'Xundd', '4TECH',\n",
       "       'Yoosee', 'BG', 'MIJOBS', 'Plextone', 'Kimiso', 'HP', 'TOPK',\n",
       "       'Sennheiser', 'Kingston', 'MOFT', 'Forder', 'HUKEY', 'ANNCOE',\n",
       "       'MOOSMOOK', 'Keychron', 'Nillkin', 'Aporo', ' JRC', 'JAKCOM',\n",
       "       'Ovann', 'XP-Pen', 'AlienX', 'Arun', 'Nintendo', 'SmileBox',\n",
       "       'CAVARA', 'SteelSeries', ' EZVIZ', 'Fujifilm', 'GOPRO', 'Ezviz',\n",
       "       'Zhiyun', 'Canon', 'IMOU', 'Panasonic', 'Weifeng', 'Doublepow',\n",
       "       'DJI', 'Vstarcam', 'Andbon', 'Yunteng', 'KBOne', 'SJRC', 'Boya',\n",
       "       'Lexar', 'KBVISION', 'GALILEO', '70mai', 'EOS', 'Dahua', 'Benro',\n",
       "       'PHUKIEN2T', 'Telesin', 'BEIKE', 'VAVA', 'Feiyu', 'INTELLHAWK',\n",
       "       'Bushnell', 'HeimVision', 'Sigma', 'Việt Star Quốc Tế',\n",
       "       'Hikvision', 'Eken', 'Vitacam', 'Secco', 'Canvas', 'CARECAM',\n",
       "       'Ontek', 'JJC', 'Cammix', 'Feng Xing Hu Wai', 'Apollo', 'VietMap',\n",
       "       'EIRMAI', 'Ulanzi', ' Hikvison', 'ZLRC', 'Qihoo', 'Promax',\n",
       "       'KIOXIA', 'Huitong', 'ZIYOU LANG ', 'Kingma', 'Meike', 'DERON',\n",
       "       'CADEN', 'Anytek', 'MJX', ' FUJIFILM ', 'No.1', 'hohem', 'Carson',\n",
       "       'VSGO', 'FOSCAM', 'Hubsan', 'Photogear', 'SEKA', 'Peak Design',\n",
       "       'BAIGISH', 'KhoNCC', 'Ebitcam', 'Camelion', 'Tripod', 'NiKatei',\n",
       "       'Reflector', 'Saramonic', 'Focus', 'MeFOTO', 'SHOOT', 'YongNuo',\n",
       "       'Wasabi', 'SriHome', 'Toshiba', 'BENTLEY', 'Thái Dương',\n",
       "       'Herringbone', 'Hoya', 'Blurams', 'KBVISION-USA', 'Godox', 'Nikon',\n",
       "       'NetCAM', 'HOYA', 'Klink', 'BARSKA', 'DSTE', 'Puluz', 'Hilook',\n",
       "       'Bresser', 'X-CAM', 'Jiabao', 'Celestron', 'Elitek', 'MONOCULAR',\n",
       "       'Rode', 'Zomei', 'Marumi', 'EVERBOARDS', 'TOTOLINK', 'Bkav', 'WD',\n",
       "       'Kaspersky', 'Gigabyte', 'AOC', 'Tenda', 'ADATA', 'Transcend',\n",
       "       'Brother', 'BenQ', 'MSI', 'Vention', 'COOLER MASTER',\n",
       "       'Silicon Power', 'Seagate', 'EEKOO', 'Intel', 'Lenovo',\n",
       "       'Trend Micro', 'Viewsonic', 'Rapoo', 'Forter', 'Mercusys',\n",
       "       'Corsair', 'MECK', 'Crucial', ' ID-COOLING', 'Hynix', 'Kasda',\n",
       "       'Aerocool', 'Coolmoon', 'Media Ink', 'Xprinter', 'VietTech', 'ATA',\n",
       "       'Brateck', 'Newmen', 'BJX', 'HA', 'Apacer', ' CoolerMaster',\n",
       "       'Tanix', 'Nexus', 'LB-LINK', 'ZTE', 'ARCTIC', 'Xppro', 'XOX',\n",
       "       'KingMax', 'AMD', 'Thuận Phong', 'GALAX', 'ASRock', 'Topcash',\n",
       "       'Acer', 'Mercury', 'HKC', 'Santak', 'NOCTUA', 'Golden Field',\n",
       "       'Indilinx', 'ID-COOLING', 'ESET', 'E-BLUE', 'AnTech',\n",
       "       'Cyber Power', 'Vankyo', 'Joy Collection', 'APC', 'PIX-LINK',\n",
       "       'Micron', 'D-Link', 'COOL COLD', 'Thermagic', 'AM', 'VSP',\n",
       "       'TEAM GROUP', 'Xigmatek', 'EPSON', 'SCounter', 'Fasson Avery',\n",
       "       'VinCSS', 'Aorus - Gigabyte', 'Commscope', 'Biostar', ' Lenovo',\n",
       "       'RONALD JACK', 'Linksys', 'LDK.ai', 'Infinity', 'UP', 'ENYBOX',\n",
       "       'G.Skill', 'Focusrite', 'Vaseky', 'MT-VIKI', 'JRC', 'GeForce',\n",
       "       'Ubiquiti', 'KAPUSI', 'Sama', 'Akira', 'LBLink', 'TYCO', 'Vsmart',\n",
       "       'OPPO', 'Nokia', 'Kindle', 'Vivo', 'Forme', 'Masstel', 'DXD',\n",
       "       'Amazon', 'Zono', 'Mobell', ' Energizer', 'Black Shark', 'Bphone',\n",
       "       'Itel', 'Energizer', 'Ulefone', 'Likebook', 'Kobo', 'Onyx Boox',\n",
       "       'Coolpad', 'Suntek', 'Vtel', 'Oukitel', 'China Mobile', 'BOOX',\n",
       "       'M-Power', 'MAXX', 'Bavapen', 'Panaromic', 'Grandstream', 'THT',\n",
       "       'Yealink', 'Sharp', 'Electrolux', 'Aqua', 'North Bayou', 'Casper',\n",
       "       'DAIKIN', ' Casper', 'Ariston', 'Philips', 'FPT', 'TCL', 'ZANSONG',\n",
       "       'Craven', 'Cảnh Phong', 'Hòa Phát', 'Vietstar', 'Fantom', 'Asanzo',\n",
       "       'DARLING', 'Bosch ', 'Hitachi', 'Vinabox', 'CP', 'Kentiger',\n",
       "       'Ronamax', 'ILEPO', 'Cali.D&Y electronic', 'Candy', 'Behringer',\n",
       "       'VSTAR', 'new vision', ' TAKSTAR', 'FPT TELECOM', 'ANYBOX',\n",
       "       'XINGMA', 'Ferroli', 'Thumper', 'JSJ', 'Galanz', 'Sanaky',\n",
       "       'Vinago', 'SUMIKURA', 'NB', 'BRADWELL', 'WAXIBA', 'Honjianda',\n",
       "       'Mitsubishi', 'SUBOS', 'FPT PLay Box', 'Fujishan', 'TEXGIO',\n",
       "       'VNPT', 'Acnos', 'TCTek', 'Excelvan', 'AVG', 'BELLPLUS',\n",
       "       'Micro Shure', 'ATANNOII', 'ipass', 'NEX ACOUSTICS', 'Hongky',\n",
       "       'HẢI TRIỀU ', 'Kimafun', 'Fpt Play Box +', 'Arirang', 'Funiki',\n",
       "       'OMG', 'Nagakawa', 'Beyma', 'VTC', 'Kiwi', 'MXQ', 'SCTV', 'Arber',\n",
       "       'Midea', 'VietKTV', 'California', 'SUNRISE', 'Shubole', 'Skyworth',\n",
       "       'Sandokkaebi', 'Shupu', 'Mitsubishi Electric', 'Kiwibox', 'LTP',\n",
       "       'LTP Việt Nam', 'JSL', 'Kplus', 'SHURE', 'Chánh Phát',\n",
       "       'Clip TV Box', 'Magicsee', 'MITSUBISHI HEAVY', 'Beko', 'KTV',\n",
       "       'PARAMAX', 'Alaska', 'XTR', 'U.B.L', 'BX', 'ORIS', 'Oriole',\n",
       "       'Pacific'], dtype=object)"
      ]
     },
     "execution_count": 27,
     "metadata": {},
     "output_type": "execute_result"
    }
   ],
   "source": [
    "# Xem xét cột 'brand'\n",
    "product.brand.unique()"
   ]
  },
  {
   "cell_type": "code",
   "execution_count": null,
   "id": "94b47df1",
   "metadata": {
    "id": "94b47df1"
   },
   "outputs": [],
   "source": [
    "# Sửa lỗi chính tả '\\tOEM' thanh 'OEM'\n",
    "product.brand[product.brand=='\\tOEM']='OEM'"
   ]
  },
  {
   "cell_type": "code",
   "execution_count": null,
   "id": "912f262c",
   "metadata": {
    "executionInfo": {
     "elapsed": 25,
     "status": "aborted",
     "timestamp": 1646629004961,
     "user": {
      "displayName": "Phuong Dam",
      "photoUrl": "https://lh3.googleusercontent.com/a/default-user=s64",
      "userId": "01072403895711103873"
     },
     "user_tz": -420
    },
    "id": "912f262c",
    "outputId": "2e9d3785-170c-47c7-9752-dbd1be1a9766"
   },
   "outputs": [
    {
     "name": "stdout",
     "output_type": "stream",
     "text": [
      "- Số thương hiệu: 510\n",
      "- 20 thương hiệu trong đó là:\n",
      " ['OEM' 'Logitech' 'Acome' 'Apple' 'JBL' 'Xiaomi' 'Hoco' 'Samsung' 'Baseus'\n",
      " 'Sony' 'QCY' 'TP-Link' 'Robot' 'AMOI' 'LANITH' 'Sanag' 'Anker' 'SIDOTECH'\n",
      " 'YORN' 'SanDisk']\n"
     ]
    }
   ],
   "source": [
    "print('- Số thương hiệu:', product.brand.nunique())\n",
    "print('- 20 thương hiệu trong đó là:\\n', product.brand.unique()[:20])"
   ]
  },
  {
   "cell_type": "code",
   "execution_count": null,
   "id": "cb539782",
   "metadata": {
    "executionInfo": {
     "elapsed": 25,
     "status": "aborted",
     "timestamp": 1646629004961,
     "user": {
      "displayName": "Phuong Dam",
      "photoUrl": "https://lh3.googleusercontent.com/a/default-user=s64",
      "userId": "01072403895711103873"
     },
     "user_tz": -420
    },
    "id": "cb539782",
    "outputId": "a5ac4241-612f-469d-e9e9-b2147a5d8516"
   },
   "outputs": [
    {
     "name": "stdout",
     "output_type": "stream",
     "text": [
      "brand\n",
      "OEM           1071\n",
      "Samsung        190\n",
      "Sony            94\n",
      "LG              93\n",
      "Panasonic       83\n",
      "Yoosee          73\n",
      "SanDisk         69\n",
      "UGREEN          64\n",
      "TP-Link         64\n",
      "Apple           63\n",
      "Logitech        61\n",
      "Xiaomi          57\n",
      "Sharp           55\n",
      "Electrolux      48\n",
      "Dell            48\n",
      "Toshiba         42\n",
      "WD              39\n",
      "Asus            38\n",
      "Canon           35\n",
      "Baseus          35\n",
      "dtype: int64\n"
     ]
    },
    {
     "data": {
      "image/png": "[encoded data removed]",
      "text/plain": [
       "<Figure size 432x288 with 1 Axes>"
      ]
     },
     "metadata": {
      "needs_background": "light"
     },
     "output_type": "display_data"
    }
   ],
   "source": [
    "count = product.groupby(product['brand']).size().sort_values(ascending=False)[:20]\n",
    "count.plot.bar(color='c')\n",
    "print(count)\n",
    "plt.show()"
   ]
  },
  {
   "cell_type": "markdown",
   "id": "3c114364",
   "metadata": {
    "id": "3c114364"
   },
   "source": [
    "Nhận xét:\n",
    "- OEM là thương hiệu phổ biến nhất (~25%), sau đó đến Samsung, Panasonic, LG, Sony\n",
    "- Ngoại trừ OEM (chưa biết), các thương hiệu phổ biến đều là thương hiệu có các sản phẩm công nghệ, điện tử"
   ]
  },
  {
   "cell_type": "code",
   "execution_count": null,
   "id": "248da727",
   "metadata": {
    "executionInfo": {
     "elapsed": 25,
     "status": "aborted",
     "timestamp": 1646629004961,
     "user": {
      "displayName": "Phuong Dam",
      "photoUrl": "https://lh3.googleusercontent.com/a/default-user=s64",
      "userId": "01072403895711103873"
     },
     "user_tz": -420
    },
    "id": "248da727",
    "outputId": "3db557b6-17aa-4ddc-e1c9-e689c1dde095"
   },
   "outputs": [
    {
     "data": {
      "text/html": [
       "<div>\n",
       "<style scoped>\n",
       "    .dataframe tbody tr th:only-of-type {\n",
       "        vertical-align: middle;\n",
       "    }\n",
       "\n",
       "    .dataframe tbody tr th {\n",
       "        vertical-align: top;\n",
       "    }\n",
       "\n",
       "    .dataframe thead th {\n",
       "        text-align: right;\n",
       "    }\n",
       "</style>\n",
       "<table border=\"1\" class=\"dataframe\">\n",
       "  <thead>\n",
       "    <tr style=\"text-align: right;\">\n",
       "      <th></th>\n",
       "      <th></th>\n",
       "      <th>item_id</th>\n",
       "    </tr>\n",
       "    <tr>\n",
       "      <th>main_group</th>\n",
       "      <th>brand</th>\n",
       "      <th></th>\n",
       "    </tr>\n",
       "  </thead>\n",
       "  <tbody>\n",
       "    <tr>\n",
       "      <th>Thiết Bị Số - Phụ Kiện Số</th>\n",
       "      <th>OEM</th>\n",
       "      <td>356</td>\n",
       "    </tr>\n",
       "    <tr>\n",
       "      <th>Máy Ảnh - Máy Quay Phim</th>\n",
       "      <th>OEM</th>\n",
       "      <td>345</td>\n",
       "    </tr>\n",
       "    <tr>\n",
       "      <th>Điện Tử - Điện Lạnh</th>\n",
       "      <th>OEM</th>\n",
       "      <td>219</td>\n",
       "    </tr>\n",
       "    <tr>\n",
       "      <th>Laptop - Máy Vi Tính - Linh kiện</th>\n",
       "      <th>OEM</th>\n",
       "      <td>142</td>\n",
       "    </tr>\n",
       "    <tr>\n",
       "      <th rowspan=\"2\" valign=\"top\">Điện Tử - Điện Lạnh</th>\n",
       "      <th>Samsung</th>\n",
       "      <td>87</td>\n",
       "    </tr>\n",
       "    <tr>\n",
       "      <th>LG</th>\n",
       "      <td>80</td>\n",
       "    </tr>\n",
       "    <tr>\n",
       "      <th>Máy Ảnh - Máy Quay Phim</th>\n",
       "      <th>Yoosee</th>\n",
       "      <td>72</td>\n",
       "    </tr>\n",
       "    <tr>\n",
       "      <th>Laptop - Máy Vi Tính - Linh kiện</th>\n",
       "      <th>Samsung</th>\n",
       "      <td>63</td>\n",
       "    </tr>\n",
       "    <tr>\n",
       "      <th>Thiết Bị Số - Phụ Kiện Số</th>\n",
       "      <th>Logitech</th>\n",
       "      <td>61</td>\n",
       "    </tr>\n",
       "    <tr>\n",
       "      <th>Laptop - Máy Vi Tính - Linh kiện</th>\n",
       "      <th>TP-Link</th>\n",
       "      <td>60</td>\n",
       "    </tr>\n",
       "  </tbody>\n",
       "</table>\n",
       "</div>"
      ],
      "text/plain": [
       "                                           item_id\n",
       "main_group                       brand            \n",
       "Thiết Bị Số - Phụ Kiện Số        OEM           356\n",
       "Máy Ảnh - Máy Quay Phim          OEM           345\n",
       "Điện Tử - Điện Lạnh              OEM           219\n",
       "Laptop - Máy Vi Tính - Linh kiện OEM           142\n",
       "Điện Tử - Điện Lạnh              Samsung        87\n",
       "                                 LG             80\n",
       "Máy Ảnh - Máy Quay Phim          Yoosee         72\n",
       "Laptop - Máy Vi Tính - Linh kiện Samsung        63\n",
       "Thiết Bị Số - Phụ Kiện Số        Logitech       61\n",
       "Laptop - Máy Vi Tính - Linh kiện TP-Link        60"
      ]
     },
     "execution_count": 31,
     "metadata": {},
     "output_type": "execute_result"
    }
   ],
   "source": [
    "product.groupby(['main_group','brand']).agg({'item_id':'count'}).sort_values('item_id',ascending=False)[:10]"
   ]
  },
  {
   "cell_type": "markdown",
   "id": "25802436",
   "metadata": {
    "id": "25802436"
   },
   "source": [
    "Nhận xét:\n",
    "- Trong 4 ngành hàng chủ yếu (công nghệ, điện tử), thuơng hiệu chiếm nhiều nhất cũng là OEM\n",
    "- Samsung và LG là thương hiệu có nhiều sản phấm nhất trong 'Điện Tử - Điện Lạnh'"
   ]
  },
  {
   "cell_type": "markdown",
   "id": "61e21ef8",
   "metadata": {
    "id": "61e21ef8"
   },
   "source": [
    "# Step 3: Data preparation"
   ]
  },
  {
   "cell_type": "code",
   "execution_count": null,
   "id": "1acc313d",
   "metadata": {
    "id": "1acc313d"
   },
   "outputs": [],
   "source": [
    "# tạo cột 'content' kết hợp từ 2 cột 'name' và 'description'\n",
    "product['content'] = product['name'] + '\\n' +  product['description']"
   ]
  },
  {
   "cell_type": "code",
   "execution_count": null,
   "id": "11eb6dfc",
   "metadata": {
    "executionInfo": {
     "elapsed": 24,
     "status": "aborted",
     "timestamp": 1646629004962,
     "user": {
      "displayName": "Phuong Dam",
      "photoUrl": "https://lh3.googleusercontent.com/a/default-user=s64",
      "userId": "01072403895711103873"
     },
     "user_tz": -420
    },
    "id": "11eb6dfc",
    "outputId": "5987c86b-5105-4cf8-e2f6-1746e5c1b5b5"
   },
   "outputs": [
    {
     "data": {
      "text/plain": [
       "'Tai nghe Bluetooth Inpods 12 - Cảm biến vân tay, chống nước,màu sắc đa dạng- 5 màu sắc lựa chọn\\nTHÔNG TIN CHI TIẾT\\nDung lượng pin 300\\nThời gian pin - Thời gian nghe nhạc liên tục từ 2.5-4h - Thời gian sạc đầy chỉ khoảng 60p - Thời gian chờ lên tới 140 giờ\\nBluetooth 5\\nThương hiệu OEM\\nXuất xứ thương hiệu Trung Quốc\\nĐộ nhạy cảm biến vân tay\\nModel i12\\nLoại Jack cắm USB Cable\\nTrọng lượng 300g\\nThời gian sử dụng\\n- Thời gian nghe nhạc liên tục từ 2.5-4h\\nSKU 4096608751631\\nMÔ TẢ SẢN PHẨM\\nINPOD 12 là phiên bản nâng cấp mới nhất , tai nghe Bluetooth 5.0 có thiết kế tỉ lệ chuẩn 1:1 với tai Airpod chính hãng\\nLược bỏ nút bấm trên thân tai thay vào đó là nút cảm ứng sử dụng dễ dàng và thuận tiện hơn\\nThao tác nhận cuộc gọi đến, chuyển nhạc...một cách dễ dàng chỉ bằng 1 chạm\\nBluetooth 5.0 mới nhất cho kết nối vô cùng ổn định\\n- Bluetooth 5.0 mới nhất cho kết nối vô cùng ổn định\\n- 2 tai nghe tự kết nối với nhau khi được lấy ra từ dock sạc\\n- Chất âm và thời lượng pin được cải thiện tối ưu\\n- Dock sạc tiện lợi cho tới 4 lần sạc đầy pin tai nghe\\n-Các thiết bị tương thích: các thiết bị Bluetooth như cho Xiaomi, Samsung, Apple, Huawei, OPPO, vivo, Lenovo, tablet, v. v. \\n- Thời gian nghe nhạc liên tục từ 2.5-4h\\n- Thời gian sạc đầy chỉ khoảng 60p\\n- Thời gian chờ lên tới 140 giờ\\nGiá sản phẩm trên Tiki đã bao gồm thuế theo luật hiện hành. Tuy nhiên tuỳ vào từng loại sản phẩm hoặc phương thức, địa chỉ giao hàng mà có thể phát sinh thêm chi phí khác như phí vận chuyển, phụ phí hàng cồng kềnh, ...\\n'"
      ]
     },
     "execution_count": 33,
     "metadata": {},
     "output_type": "execute_result"
    }
   ],
   "source": [
    "product['content'][0]"
   ]
  },
  {
   "cell_type": "markdown",
   "id": "4e82556c",
   "metadata": {
    "id": "4e82556c"
   },
   "source": [
    "Nhận xét:\n",
    "- Các câu trong 'content' được phân cách bởi '\\n'\n",
    "- 'content' chứa nhiều ký tự đặc biệt\n",
    "- Có một số nội dung bị lặp lại. Ví dụ: nội dung '- Thời gian nghe nhạc liên tục từ 2.5-4h' trong product['content'][0] => Cần loại bỏ\n",
    "- Tất cả các 'content' đều chứa nội dung giống nhau 'THÔNG TIN CHI TIẾT', 'MÔ TẢ SẢN PHẨM' và nội dung chung của tiki ở cuối đoạn 'Giá sản phẩm trên Tiki đã bao gồm thuế theo luật hiện hành... phụ phí hàng cồng kềnh, ...\\n' => Cần loại bỏ\n",
    "- Trong 'content' một số phần tử chứa 'SKU', ví dụ 'SKU 4096608751631' là số unique nên có thể loại bỏ"
   ]
  },
  {
   "cell_type": "code",
   "execution_count": null,
   "id": "77ee7d7d",
   "metadata": {
    "id": "77ee7d7d"
   },
   "outputs": [],
   "source": [
    "# clean 'content' trả về list các câu\n",
    "list_to_remove = ['thông tin chi tiết', 'mô tả sản phẩm', \n",
    "                  'giá sản phẩm trên tiki đã bao gồm thuế theo luật hiện hành  tuy nhiên tuỳ vào từng loại sản phẩm hoặc phương thức  địa chỉ giao hàng mà có thể phát sinh thêm chi phí khác như phí vận chuyển  phụ phí hàng cồng kềnh']\n",
    "\n",
    "product['clean_content'] = product['content'].apply(lambda x: Lib.clean_content(x, list_to_remove))"
   ]
  },
  {
   "cell_type": "code",
   "execution_count": null,
   "id": "dd459056",
   "metadata": {
    "executionInfo": {
     "elapsed": 23,
     "status": "aborted",
     "timestamp": 1646629004962,
     "user": {
      "displayName": "Phuong Dam",
      "photoUrl": "https://lh3.googleusercontent.com/a/default-user=s64",
      "userId": "01072403895711103873"
     },
     "user_tz": -420
    },
    "id": "dd459056",
    "outputId": "3f315c4f-2052-496c-82bd-a4b980724c9b"
   },
   "outputs": [
    {
     "data": {
      "text/plain": [
       "['',\n",
       " 'trọng lượng 300g',\n",
       " 'dung lượng pin 300',\n",
       " 'loại jack cắm usb cable',\n",
       " 'thời gian sạc đầy chỉ khoảng 60p',\n",
       " '2 tai nghe tự kết nối với nhau khi được lấy ra từ dock sạc',\n",
       " 'dock sạc tiện lợi cho tới 4 lần sạc đầy pin tai nghe',\n",
       " 'model i12',\n",
       " 'chất âm và thời lượng pin được cải thiện tối ưu',\n",
       " 'bluetooth 5',\n",
       " 'tai nghe bluetooth inpods 12   cảm biến vân tay  chống nước màu sắc đa dạng  5 màu sắc lựa chọn',\n",
       " 'độ nhạy cảm biến vân tay',\n",
       " 'inpod 12 là phiên bản nâng cấp mới nhất   tai nghe bluetooth 5 0 có thiết kế tỉ lệ chuẩn 1 1 với tai airpod chính hãng',\n",
       " 'thời gian chờ lên tới 140 giờ',\n",
       " 'các thiết bị tương thích  các thiết bị bluetooth như cho xiaomi  samsung  apple  huawei  oppo  vivo  lenovo  tablet',\n",
       " 'thời gian sử dụng',\n",
       " 'thời gian nghe nhạc liên tục từ 2 5 4h',\n",
       " 'bluetooth 5 0 mới nhất cho kết nối vô cùng ổn định',\n",
       " 'thời gian pin   thời gian nghe nhạc liên tục từ 2 5 4h   thời gian sạc đầy chỉ khoảng 60p   thời gian chờ lên tới 140 giờ',\n",
       " 'lược bỏ nút bấm trên thân tai thay vào đó là nút cảm ứng sử dụng dễ dàng và thuận tiện hơn',\n",
       " 'xuất xứ thương hiệu trung quốc',\n",
       " 'thao tác nhận cuộc gọi đến  chuyển nhạc một cách dễ dàng chỉ bằng 1 chạm',\n",
       " 'thương hiệu oem']"
      ]
     },
     "execution_count": 35,
     "metadata": {},
     "output_type": "execute_result"
    }
   ],
   "source": [
    "product['clean_content'][0]"
   ]
  },
  {
   "cell_type": "code",
   "execution_count": null,
   "id": "6b4a77f5",
   "metadata": {
    "executionInfo": {
     "elapsed": 23,
     "status": "aborted",
     "timestamp": 1646629004962,
     "user": {
      "displayName": "Phuong Dam",
      "photoUrl": "https://lh3.googleusercontent.com/a/default-user=s64",
      "userId": "01072403895711103873"
     },
     "user_tz": -420
    },
    "id": "6b4a77f5",
    "outputId": "a2307e0f-e44d-4b59-852c-2a60bbd96277"
   },
   "outputs": [
    {
     "data": {
      "text/html": [
       "<div>\n",
       "<style scoped>\n",
       "    .dataframe tbody tr th:only-of-type {\n",
       "        vertical-align: middle;\n",
       "    }\n",
       "\n",
       "    .dataframe tbody tr th {\n",
       "        vertical-align: top;\n",
       "    }\n",
       "\n",
       "    .dataframe thead th {\n",
       "        text-align: right;\n",
       "    }\n",
       "</style>\n",
       "<table border=\"1\" class=\"dataframe\">\n",
       "  <thead>\n",
       "    <tr style=\"text-align: right;\">\n",
       "      <th></th>\n",
       "      <th>item_id</th>\n",
       "      <th>name</th>\n",
       "      <th>description</th>\n",
       "      <th>rating</th>\n",
       "      <th>price</th>\n",
       "      <th>list_price</th>\n",
       "      <th>brand</th>\n",
       "      <th>group</th>\n",
       "      <th>url</th>\n",
       "      <th>image</th>\n",
       "      <th>main_group</th>\n",
       "      <th>content</th>\n",
       "      <th>clean_content</th>\n",
       "    </tr>\n",
       "  </thead>\n",
       "  <tbody>\n",
       "    <tr>\n",
       "      <th>0</th>\n",
       "      <td>48102821</td>\n",
       "      <td>Tai nghe Bluetooth Inpods 12 - Cảm biến vân ta...</td>\n",
       "      <td>THÔNG TIN CHI TIẾT\\nDung lượng pin 300\\nThời g...</td>\n",
       "      <td>4.0000</td>\n",
       "      <td>77000</td>\n",
       "      <td>300000</td>\n",
       "      <td>OEM</td>\n",
       "      <td>Thiết Bị Số - Phụ Kiện Số/Thiết Bị Âm Thanh và...</td>\n",
       "      <td>https://tai-nghe-bluetooth-inpods-12-cam-bien-...</td>\n",
       "      <td>https://salt.tikicdn.com/cache/280x280/ts/prod...</td>\n",
       "      <td>Thiết Bị Số - Phụ Kiện Số</td>\n",
       "      <td>Tai nghe Bluetooth Inpods 12 - Cảm biến vân ta...</td>\n",
       "      <td>trọng lượng 300g dung lượng pin 300 loại jack...</td>\n",
       "    </tr>\n",
       "    <tr>\n",
       "      <th>1</th>\n",
       "      <td>52333193</td>\n",
       "      <td>Tai nghe bluetooth không dây F9 True wireless ...</td>\n",
       "      <td>THÔNG TIN CHI TIẾT\\nDung lượng pin 2000mah\\nTh...</td>\n",
       "      <td>4.5000</td>\n",
       "      <td>132000</td>\n",
       "      <td>750000</td>\n",
       "      <td>OEM</td>\n",
       "      <td>Thiết Bị Số - Phụ Kiện Số/Thiết Bị Âm Thanh và...</td>\n",
       "      <td>https://tai-nghe-bluetooth-khong-day-f9-true-w...</td>\n",
       "      <td>https://salt.tikicdn.com/cache/280x280/ts/prod...</td>\n",
       "      <td>Thiết Bị Số - Phụ Kiện Số</td>\n",
       "      <td>Tai nghe bluetooth không dây F9 True wireless ...</td>\n",
       "      <td>công nghệ khử tiếng ồn cho âm thanh trung thự...</td>\n",
       "    </tr>\n",
       "  </tbody>\n",
       "</table>\n",
       "</div>"
      ],
      "text/plain": [
       "    item_id                                               name  \\\n",
       "0  48102821  Tai nghe Bluetooth Inpods 12 - Cảm biến vân ta...   \n",
       "1  52333193  Tai nghe bluetooth không dây F9 True wireless ...   \n",
       "\n",
       "                                         description  rating   price  \\\n",
       "0  THÔNG TIN CHI TIẾT\\nDung lượng pin 300\\nThời g...  4.0000   77000   \n",
       "1  THÔNG TIN CHI TIẾT\\nDung lượng pin 2000mah\\nTh...  4.5000  132000   \n",
       "\n",
       "   list_price brand                                              group  \\\n",
       "0      300000   OEM  Thiết Bị Số - Phụ Kiện Số/Thiết Bị Âm Thanh và...   \n",
       "1      750000   OEM  Thiết Bị Số - Phụ Kiện Số/Thiết Bị Âm Thanh và...   \n",
       "\n",
       "                                                 url  \\\n",
       "0  https://tai-nghe-bluetooth-inpods-12-cam-bien-...   \n",
       "1  https://tai-nghe-bluetooth-khong-day-f9-true-w...   \n",
       "\n",
       "                                               image  \\\n",
       "0  https://salt.tikicdn.com/cache/280x280/ts/prod...   \n",
       "1  https://salt.tikicdn.com/cache/280x280/ts/prod...   \n",
       "\n",
       "                  main_group  \\\n",
       "0  Thiết Bị Số - Phụ Kiện Số   \n",
       "1  Thiết Bị Số - Phụ Kiện Số   \n",
       "\n",
       "                                             content  \\\n",
       "0  Tai nghe Bluetooth Inpods 12 - Cảm biến vân ta...   \n",
       "1  Tai nghe bluetooth không dây F9 True wireless ...   \n",
       "\n",
       "                                       clean_content  \n",
       "0   trọng lượng 300g dung lượng pin 300 loại jack...  \n",
       "1   công nghệ khử tiếng ồn cho âm thanh trung thự...  "
      ]
     },
     "execution_count": 36,
     "metadata": {},
     "output_type": "execute_result"
    }
   ],
   "source": [
    "# join các câu thành 1 đoạn\n",
    "product['clean_content'] = product['clean_content'].apply(lambda x: ' '.join(x))\n",
    "product.head(2)"
   ]
  },
  {
   "cell_type": "code",
   "execution_count": null,
   "id": "6ee8692c",
   "metadata": {
    "executionInfo": {
     "elapsed": 24,
     "status": "aborted",
     "timestamp": 1646629004963,
     "user": {
      "displayName": "Phuong Dam",
      "photoUrl": "https://lh3.googleusercontent.com/a/default-user=s64",
      "userId": "01072403895711103873"
     },
     "user_tz": -420
    },
    "id": "6ee8692c",
    "outputId": "a349af06-be93-4082-f6bb-ba3770bdb103"
   },
   "outputs": [
    {
     "data": {
      "text/plain": [
       "' trọng lượng 300g dung lượng pin 300 loại jack cắm usb cable thời gian sạc đầy chỉ khoảng 60p 2 tai nghe tự kết nối với nhau khi được lấy ra từ dock sạc dock sạc tiện lợi cho tới 4 lần sạc đầy pin tai nghe model i12 chất âm và thời lượng pin được cải thiện tối ưu bluetooth 5 tai nghe bluetooth inpods 12   cảm biến vân tay  chống nước màu sắc đa dạng  5 màu sắc lựa chọn độ nhạy cảm biến vân tay inpod 12 là phiên bản nâng cấp mới nhất   tai nghe bluetooth 5 0 có thiết kế tỉ lệ chuẩn 1 1 với tai airpod chính hãng thời gian chờ lên tới 140 giờ các thiết bị tương thích  các thiết bị bluetooth như cho xiaomi  samsung  apple  huawei  oppo  vivo  lenovo  tablet thời gian sử dụng thời gian nghe nhạc liên tục từ 2 5 4h bluetooth 5 0 mới nhất cho kết nối vô cùng ổn định thời gian pin   thời gian nghe nhạc liên tục từ 2 5 4h   thời gian sạc đầy chỉ khoảng 60p   thời gian chờ lên tới 140 giờ lược bỏ nút bấm trên thân tai thay vào đó là nút cảm ứng sử dụng dễ dàng và thuận tiện hơn xuất xứ thương hiệu trung quốc thao tác nhận cuộc gọi đến  chuyển nhạc một cách dễ dàng chỉ bằng 1 chạm thương hiệu oem'"
      ]
     },
     "execution_count": 37,
     "metadata": {},
     "output_type": "execute_result"
    }
   ],
   "source": [
    "product['clean_content'][0]"
   ]
  },
  {
   "cell_type": "code",
   "execution_count": null,
   "id": "5d936faf",
   "metadata": {
    "id": "5d936faf"
   },
   "outputs": [],
   "source": [
    "# Thực hiện word_tokenize của package underthesea\n",
    "product['content_wt'] = product['clean_content'].apply(lambda x: word_tokenize(x, format='text'))"
   ]
  },
  {
   "cell_type": "code",
   "execution_count": null,
   "id": "2243886e",
   "metadata": {
    "executionInfo": {
     "elapsed": 23,
     "status": "aborted",
     "timestamp": 1646629004963,
     "user": {
      "displayName": "Phuong Dam",
      "photoUrl": "https://lh3.googleusercontent.com/a/default-user=s64",
      "userId": "01072403895711103873"
     },
     "user_tz": -420
    },
    "id": "2243886e",
    "outputId": "dc43920b-66e7-4296-9385-83229ba4bb3a"
   },
   "outputs": [
    {
     "data": {
      "text/plain": [
       "'trọng_lượng 300 g dung_lượng pin 300 loại jack cắm usb cable thời_gian sạc đầy chỉ khoảng 60 p 2 tai nghe tự kết_nối với nhau khi được lấy ra từ dock sạc dock sạc tiện_lợi cho tới 4 lần sạc đầy pin tai_nghe model i12 chất âm và thời_lượng pin được cải_thiện tối_ưu bluetooth 5 tai_nghe bluetooth inpods 12 cảm_biến vân tay chống nước màu_sắc đa_dạng 5 màu_sắc lựa_chọn độ nhạy_cảm_biến vân tay inpod 12 là phiên_bản nâng_cấp mới nhất tai_nghe bluetooth 5 0 có thiết_kế tỉ_lệ chuẩn 1 1 với tai airpod chính hãng thời_gian chờ lên tới 140 giờ các thiết_bị tương_thích các thiết_bị bluetooth như cho xiaomi samsung apple huawei oppo vivo lenovo tablet thời_gian sử_dụng thời_gian nghe nhạc liên_tục từ 2 5 4 h bluetooth 5 0 mới nhất cho kết_nối vô_cùng ổn_định thời_gian pin thời_gian nghe nhạc liên_tục từ 2 5 4 h thời_gian sạc đầy chỉ khoảng 60 p thời_gian chờ lên tới 140 giờ lược_bỏ nút bấm trên thân tai thay vào đó là nút cảm_ứng sử_dụng dễ_dàng và thuận_tiện hơn xuất_xứ thương_hiệu trung quốc thao_tác nhận cuộc gọi đến chuyển nhạc một_cách dễ_dàng chỉ bằng 1 chạm thương_hiệu oem'"
      ]
     },
     "execution_count": 39,
     "metadata": {},
     "output_type": "execute_result"
    }
   ],
   "source": [
    "product['content_wt'][0]"
   ]
  },
  {
   "cell_type": "markdown",
   "id": "96a86cd0",
   "metadata": {
    "id": "96a86cd0"
   },
   "source": [
    "# Step 4: Modeling & Evaluation"
   ]
  },
  {
   "cell_type": "markdown",
   "id": "90a4f3d3",
   "metadata": {
    "id": "90a4f3d3"
   },
   "source": [
    "## -- Gensim"
   ]
  },
  {
   "cell_type": "code",
   "execution_count": null,
   "id": "6f515820",
   "metadata": {
    "id": "6f515820",
    "scrolled": true
   },
   "outputs": [],
   "source": [
    "# import vietnamese stopwords\n",
    "STOP_WORD_FILE = 'data/vietnamese-stopwords.txt'\n",
    "with open(STOP_WORD_FILE, 'r', encoding='utf-8') as file:\n",
    "    stop_words = file.read()\n",
    "stop_words = stop_words.split('\\n') \n",
    "\n",
    "# create tfidf model, corpora dictionary, similarity in sparse matrix\n",
    "tfidf, dictionary, index_sparse_matrix= Lib.gensim_preparation(product, stop_words)"
   ]
  },
  {
   "cell_type": "code",
   "execution_count": null,
   "id": "7c2ddf69",
   "metadata": {
    "executionInfo": {
     "elapsed": 22,
     "status": "aborted",
     "timestamp": 1646629004963,
     "user": {
      "displayName": "Phuong Dam",
      "photoUrl": "https://lh3.googleusercontent.com/a/default-user=s64",
      "userId": "01072403895711103873"
     },
     "user_tz": -420
    },
    "id": "7c2ddf69",
    "outputId": "84c3e928-56ca-458d-f58b-1f0ee2ca9d13"
   },
   "outputs": [
    {
     "name": "stdout",
     "output_type": "stream",
     "text": [
      "*** SELECTED PRODUCT ***\n"
     ]
    },
    {
     "data": {
      "text/html": [
       "<div>\n",
       "<style scoped>\n",
       "    .dataframe tbody tr th:only-of-type {\n",
       "        vertical-align: middle;\n",
       "    }\n",
       "\n",
       "    .dataframe tbody tr th {\n",
       "        vertical-align: top;\n",
       "    }\n",
       "\n",
       "    .dataframe thead th {\n",
       "        text-align: right;\n",
       "    }\n",
       "</style>\n",
       "<table border=\"1\" class=\"dataframe\">\n",
       "  <thead>\n",
       "    <tr style=\"text-align: right;\">\n",
       "      <th></th>\n",
       "      <th>item_id</th>\n",
       "      <th>name</th>\n",
       "      <th>description</th>\n",
       "      <th>rating</th>\n",
       "      <th>price</th>\n",
       "      <th>list_price</th>\n",
       "      <th>brand</th>\n",
       "      <th>group</th>\n",
       "      <th>url</th>\n",
       "    </tr>\n",
       "  </thead>\n",
       "  <tbody>\n",
       "    <tr>\n",
       "      <th>4208</th>\n",
       "      <td>29246309</td>\n",
       "      <td>Máy sấy Electrolux 8 Kg EDV805JQSA</td>\n",
       "      <td>THÔNG TIN CHI TIẾT\\nBảng điều khiển Điều khiển...</td>\n",
       "      <td>4.4000</td>\n",
       "      <td>8790000</td>\n",
       "      <td>11290000</td>\n",
       "      <td>Electrolux</td>\n",
       "      <td>Điện Tử - Điện Lạnh/Máy sấy quần áo</td>\n",
       "      <td>https://may-say-electrolux-8-kg-edv805jqsa-p29...</td>\n",
       "    </tr>\n",
       "  </tbody>\n",
       "</table>\n",
       "</div>"
      ],
      "text/plain": [
       "       item_id                                name  \\\n",
       "4208  29246309  Máy sấy Electrolux 8 Kg EDV805JQSA   \n",
       "\n",
       "                                            description  rating    price  \\\n",
       "4208  THÔNG TIN CHI TIẾT\\nBảng điều khiển Điều khiển...  4.4000  8790000   \n",
       "\n",
       "      list_price       brand                                group  \\\n",
       "4208    11290000  Electrolux  Điện Tử - Điện Lạnh/Máy sấy quần áo   \n",
       "\n",
       "                                                    url  \n",
       "4208  https://may-say-electrolux-8-kg-edv805jqsa-p29...  "
      ]
     },
     "metadata": {},
     "output_type": "display_data"
    },
    {
     "name": "stdout",
     "output_type": "stream",
     "text": [
      "*** 5 RECOMMENDED PRODUCTS ***\n"
     ]
    },
    {
     "data": {
      "text/html": [
       "<div>\n",
       "<style scoped>\n",
       "    .dataframe tbody tr th:only-of-type {\n",
       "        vertical-align: middle;\n",
       "    }\n",
       "\n",
       "    .dataframe tbody tr th {\n",
       "        vertical-align: top;\n",
       "    }\n",
       "\n",
       "    .dataframe thead th {\n",
       "        text-align: right;\n",
       "    }\n",
       "</style>\n",
       "<table border=\"1\" class=\"dataframe\">\n",
       "  <thead>\n",
       "    <tr style=\"text-align: right;\">\n",
       "      <th></th>\n",
       "      <th>item_id</th>\n",
       "      <th>name</th>\n",
       "      <th>description</th>\n",
       "      <th>rating</th>\n",
       "      <th>price</th>\n",
       "      <th>list_price</th>\n",
       "      <th>brand</th>\n",
       "      <th>group</th>\n",
       "      <th>url</th>\n",
       "      <th>sim_score</th>\n",
       "    </tr>\n",
       "  </thead>\n",
       "  <tbody>\n",
       "    <tr>\n",
       "      <th>4205</th>\n",
       "      <td>29245831</td>\n",
       "      <td>Máy sấy Electrolux 8 Kg EDV805JQWA</td>\n",
       "      <td>THÔNG TIN CHI TIẾT\\nBảng điều khiển Điện tử\\nT...</td>\n",
       "      <td>5.0000</td>\n",
       "      <td>8149000</td>\n",
       "      <td>10690000</td>\n",
       "      <td>Electrolux</td>\n",
       "      <td>Điện Tử - Điện Lạnh/Máy sấy quần áo</td>\n",
       "      <td>https://may-say-electrolux-8-kg-edv805jqwa-p29...</td>\n",
       "      <td>0.9002</td>\n",
       "    </tr>\n",
       "    <tr>\n",
       "      <th>3937</th>\n",
       "      <td>29248443</td>\n",
       "      <td>Máy Sấy Cửa Trước Electrolux EDV705HQWA (7kg) ...</td>\n",
       "      <td>THÔNG TIN CHI TIẾT\\nBảng điều khiển Điện tử\\nT...</td>\n",
       "      <td>5.0000</td>\n",
       "      <td>6950000</td>\n",
       "      <td>9990000</td>\n",
       "      <td>Electrolux</td>\n",
       "      <td>Điện Tử - Điện Lạnh/Máy sấy quần áo</td>\n",
       "      <td>https://may-say-cua-truoc-electrolux-edv705hqw...</td>\n",
       "      <td>0.9000</td>\n",
       "    </tr>\n",
       "    <tr>\n",
       "      <th>3255</th>\n",
       "      <td>29245829</td>\n",
       "      <td>Máy sấy Electrolux 7 Kg EDV705HQWA</td>\n",
       "      <td>THÔNG TIN CHI TIẾT\\nBảng điều khiển Điện tử\\nT...</td>\n",
       "      <td>4.2000</td>\n",
       "      <td>6990000</td>\n",
       "      <td>9990000</td>\n",
       "      <td>Electrolux</td>\n",
       "      <td>Điện Tử - Điện Lạnh/Máy sấy quần áo</td>\n",
       "      <td>https://may-say-electrolux-7-kg-edv705hqwa-p29...</td>\n",
       "      <td>0.8996</td>\n",
       "    </tr>\n",
       "    <tr>\n",
       "      <th>3632</th>\n",
       "      <td>29244640</td>\n",
       "      <td>Máy sấy Electrolux 7 Kg EDV705HQWA</td>\n",
       "      <td>THÔNG TIN CHI TIẾT\\nBảng điều khiển Điện tử\\nT...</td>\n",
       "      <td>4.0000</td>\n",
       "      <td>6949000</td>\n",
       "      <td>9990000</td>\n",
       "      <td>Electrolux</td>\n",
       "      <td>Điện Tử - Điện Lạnh/Máy sấy quần áo</td>\n",
       "      <td>https://may-say-electrolux-7-kg-edv705hqwa-p29...</td>\n",
       "      <td>0.8996</td>\n",
       "    </tr>\n",
       "    <tr>\n",
       "      <th>3300</th>\n",
       "      <td>29247864</td>\n",
       "      <td>Máy sấy Electrolux 7 Kg EDV705HQWA</td>\n",
       "      <td>THÔNG TIN CHI TIẾT\\nBảng điều khiển Điều khiển...</td>\n",
       "      <td>4.6000</td>\n",
       "      <td>7079000</td>\n",
       "      <td>9990000</td>\n",
       "      <td>Electrolux</td>\n",
       "      <td>Điện Tử - Điện Lạnh/Máy sấy quần áo</td>\n",
       "      <td>https://may-say-electrolux-7-kg-edv705hqwa-p29...</td>\n",
       "      <td>0.8984</td>\n",
       "    </tr>\n",
       "  </tbody>\n",
       "</table>\n",
       "</div>"
      ],
      "text/plain": [
       "       item_id                                               name  \\\n",
       "4205  29245831                 Máy sấy Electrolux 8 Kg EDV805JQWA   \n",
       "3937  29248443  Máy Sấy Cửa Trước Electrolux EDV705HQWA (7kg) ...   \n",
       "3255  29245829                 Máy sấy Electrolux 7 Kg EDV705HQWA   \n",
       "3632  29244640                 Máy sấy Electrolux 7 Kg EDV705HQWA   \n",
       "3300  29247864                 Máy sấy Electrolux 7 Kg EDV705HQWA   \n",
       "\n",
       "                                            description  rating    price  \\\n",
       "4205  THÔNG TIN CHI TIẾT\\nBảng điều khiển Điện tử\\nT...  5.0000  8149000   \n",
       "3937  THÔNG TIN CHI TIẾT\\nBảng điều khiển Điện tử\\nT...  5.0000  6950000   \n",
       "3255  THÔNG TIN CHI TIẾT\\nBảng điều khiển Điện tử\\nT...  4.2000  6990000   \n",
       "3632  THÔNG TIN CHI TIẾT\\nBảng điều khiển Điện tử\\nT...  4.0000  6949000   \n",
       "3300  THÔNG TIN CHI TIẾT\\nBảng điều khiển Điều khiển...  4.6000  7079000   \n",
       "\n",
       "      list_price       brand                                group  \\\n",
       "4205    10690000  Electrolux  Điện Tử - Điện Lạnh/Máy sấy quần áo   \n",
       "3937     9990000  Electrolux  Điện Tử - Điện Lạnh/Máy sấy quần áo   \n",
       "3255     9990000  Electrolux  Điện Tử - Điện Lạnh/Máy sấy quần áo   \n",
       "3632     9990000  Electrolux  Điện Tử - Điện Lạnh/Máy sấy quần áo   \n",
       "3300     9990000  Electrolux  Điện Tử - Điện Lạnh/Máy sấy quần áo   \n",
       "\n",
       "                                                    url  sim_score  \n",
       "4205  https://may-say-electrolux-8-kg-edv805jqwa-p29...     0.9002  \n",
       "3937  https://may-say-cua-truoc-electrolux-edv705hqw...     0.9000  \n",
       "3255  https://may-say-electrolux-7-kg-edv705hqwa-p29...     0.8996  \n",
       "3632  https://may-say-electrolux-7-kg-edv705hqwa-p29...     0.8996  \n",
       "3300  https://may-say-electrolux-7-kg-edv705hqwa-p29...     0.8984  "
      ]
     },
     "execution_count": 41,
     "metadata": {},
     "output_type": "execute_result"
    }
   ],
   "source": [
    "# Select product item_id = 29246309\n",
    "Lib.gensim_get_recommendation(product, tfidf, dictionary, index_sparse_matrix, 29246309)"
   ]
  },
  {
   "cell_type": "code",
   "execution_count": null,
   "id": "045ae1ee",
   "metadata": {
    "id": "045ae1ee",
    "outputId": "4cea1b1b-312b-48f0-c707-e38be55ecc60"
   },
   "outputs": [
    {
     "name": "stdout",
     "output_type": "stream",
     "text": [
      "*** SELECTED PRODUCT ***\n"
     ]
    },
    {
     "data": {
      "text/html": [
       "<div>\n",
       "<style scoped>\n",
       "    .dataframe tbody tr th:only-of-type {\n",
       "        vertical-align: middle;\n",
       "    }\n",
       "\n",
       "    .dataframe tbody tr th {\n",
       "        vertical-align: top;\n",
       "    }\n",
       "\n",
       "    .dataframe thead th {\n",
       "        text-align: right;\n",
       "    }\n",
       "</style>\n",
       "<table border=\"1\" class=\"dataframe\">\n",
       "  <thead>\n",
       "    <tr style=\"text-align: right;\">\n",
       "      <th></th>\n",
       "      <th>item_id</th>\n",
       "      <th>name</th>\n",
       "      <th>description</th>\n",
       "      <th>rating</th>\n",
       "      <th>price</th>\n",
       "      <th>list_price</th>\n",
       "      <th>brand</th>\n",
       "      <th>group</th>\n",
       "      <th>url</th>\n",
       "    </tr>\n",
       "  </thead>\n",
       "  <tbody>\n",
       "    <tr>\n",
       "      <th>1001</th>\n",
       "      <td>43107185</td>\n",
       "      <td>Camera chống trộm Xiaomi Mi Home 360° 1080P 20...</td>\n",
       "      <td>THÔNG TIN CHI TIẾT\\nThương hiệu Xiaomi\\nXuất x...</td>\n",
       "      <td>4.3000</td>\n",
       "      <td>749000</td>\n",
       "      <td>899000</td>\n",
       "      <td>Xiaomi</td>\n",
       "      <td>Máy Ảnh - Máy Quay Phim/Camera Giám Sát/Camera IP</td>\n",
       "      <td>https://camera-chong-trom-xiaomi-mi-home-360-1...</td>\n",
       "    </tr>\n",
       "  </tbody>\n",
       "</table>\n",
       "</div>"
      ],
      "text/plain": [
       "       item_id                                               name  \\\n",
       "1001  43107185  Camera chống trộm Xiaomi Mi Home 360° 1080P 20...   \n",
       "\n",
       "                                            description  rating   price  \\\n",
       "1001  THÔNG TIN CHI TIẾT\\nThương hiệu Xiaomi\\nXuất x...  4.3000  749000   \n",
       "\n",
       "      list_price   brand                                              group  \\\n",
       "1001      899000  Xiaomi  Máy Ảnh - Máy Quay Phim/Camera Giám Sát/Camera IP   \n",
       "\n",
       "                                                    url  \n",
       "1001  https://camera-chong-trom-xiaomi-mi-home-360-1...  "
      ]
     },
     "metadata": {},
     "output_type": "display_data"
    },
    {
     "name": "stdout",
     "output_type": "stream",
     "text": [
      "*** 5 RECOMMENDED PRODUCTS ***\n"
     ]
    },
    {
     "data": {
      "text/html": [
       "<div>\n",
       "<style scoped>\n",
       "    .dataframe tbody tr th:only-of-type {\n",
       "        vertical-align: middle;\n",
       "    }\n",
       "\n",
       "    .dataframe tbody tr th {\n",
       "        vertical-align: top;\n",
       "    }\n",
       "\n",
       "    .dataframe thead th {\n",
       "        text-align: right;\n",
       "    }\n",
       "</style>\n",
       "<table border=\"1\" class=\"dataframe\">\n",
       "  <thead>\n",
       "    <tr style=\"text-align: right;\">\n",
       "      <th></th>\n",
       "      <th>item_id</th>\n",
       "      <th>name</th>\n",
       "      <th>description</th>\n",
       "      <th>rating</th>\n",
       "      <th>price</th>\n",
       "      <th>list_price</th>\n",
       "      <th>brand</th>\n",
       "      <th>group</th>\n",
       "      <th>url</th>\n",
       "      <th>sim_score</th>\n",
       "    </tr>\n",
       "  </thead>\n",
       "  <tbody>\n",
       "    <tr>\n",
       "      <th>1018</th>\n",
       "      <td>7230439</td>\n",
       "      <td>Camera chống trộm Xiaomi 360° 1080P Mi Home (T...</td>\n",
       "      <td>THÔNG TIN CHI TIẾT\\nThương hiệu Xiaomi\\nKích t...</td>\n",
       "      <td>4.7000</td>\n",
       "      <td>749000</td>\n",
       "      <td>899000</td>\n",
       "      <td>Xiaomi</td>\n",
       "      <td>Máy Ảnh - Máy Quay Phim/Camera Giám Sát/Camera IP</td>\n",
       "      <td>https://camera-chong-trom-xiaomi-360-1080p-mi-...</td>\n",
       "      <td>0.6225</td>\n",
       "    </tr>\n",
       "    <tr>\n",
       "      <th>1293</th>\n",
       "      <td>21068237</td>\n",
       "      <td>Camera chống trộm Xiaomi 360° 1080P Mi Home (T...</td>\n",
       "      <td>THÔNG TIN CHI TIẾT\\nThương hiệu Xiaomi\\nKích t...</td>\n",
       "      <td>0.0000</td>\n",
       "      <td>799000</td>\n",
       "      <td>899000</td>\n",
       "      <td>Xiaomi</td>\n",
       "      <td>Máy Ảnh - Máy Quay Phim/Camera Giám Sát/Camera IP</td>\n",
       "      <td>https://camera-chong-trom-xiaomi-360-1080p-mi-...</td>\n",
       "      <td>0.6150</td>\n",
       "    </tr>\n",
       "    <tr>\n",
       "      <th>1806</th>\n",
       "      <td>8406093</td>\n",
       "      <td>Camera Quan sát Xiaomi Mi Home 360° 1080P (Tặn...</td>\n",
       "      <td>THÔNG TIN CHI TIẾT\\nThương hiệu Xiaomi\\nKích t...</td>\n",
       "      <td>4.7000</td>\n",
       "      <td>890000</td>\n",
       "      <td>1075000</td>\n",
       "      <td>Xiaomi</td>\n",
       "      <td>Máy Ảnh - Máy Quay Phim/Camera Giám Sát/Camera IP</td>\n",
       "      <td>https://camera-quan-sat-xiaomi-mi-home-360-108...</td>\n",
       "      <td>0.5547</td>\n",
       "    </tr>\n",
       "    <tr>\n",
       "      <th>1114</th>\n",
       "      <td>7932267</td>\n",
       "      <td>Camera IP Xiaomi MJSXJ02CM Mi Home Security Ca...</td>\n",
       "      <td>THÔNG TIN CHI TIẾT\\nThương hiệu Xiaomi\\nKích t...</td>\n",
       "      <td>4.6000</td>\n",
       "      <td>729000</td>\n",
       "      <td>890000</td>\n",
       "      <td>Xiaomi</td>\n",
       "      <td>Máy Ảnh - Máy Quay Phim/Camera Giám Sát/Camera IP</td>\n",
       "      <td>https://camera-ip-xiaomi-mjsxj02cm-mi-home-sec...</td>\n",
       "      <td>0.5320</td>\n",
       "    </tr>\n",
       "    <tr>\n",
       "      <th>1173</th>\n",
       "      <td>10644571</td>\n",
       "      <td>Camera Hồng Ngoại IP Xiaomi Mi Smart Home Basi...</td>\n",
       "      <td>THÔNG TIN CHI TIẾT\\nThương hiệu Xiaomi\\nKích t...</td>\n",
       "      <td>4.5000</td>\n",
       "      <td>459000</td>\n",
       "      <td>530000</td>\n",
       "      <td>Xiaomi</td>\n",
       "      <td>Máy Ảnh - Máy Quay Phim/Camera Giám Sát/Camera IP</td>\n",
       "      <td>https://camera-hong-ngoai-ip-xiaomi-mi-smart-h...</td>\n",
       "      <td>0.4431</td>\n",
       "    </tr>\n",
       "  </tbody>\n",
       "</table>\n",
       "</div>"
      ],
      "text/plain": [
       "       item_id                                               name  \\\n",
       "1018   7230439  Camera chống trộm Xiaomi 360° 1080P Mi Home (T...   \n",
       "1293  21068237  Camera chống trộm Xiaomi 360° 1080P Mi Home (T...   \n",
       "1806   8406093  Camera Quan sát Xiaomi Mi Home 360° 1080P (Tặn...   \n",
       "1114   7932267  Camera IP Xiaomi MJSXJ02CM Mi Home Security Ca...   \n",
       "1173  10644571  Camera Hồng Ngoại IP Xiaomi Mi Smart Home Basi...   \n",
       "\n",
       "                                            description  rating   price  \\\n",
       "1018  THÔNG TIN CHI TIẾT\\nThương hiệu Xiaomi\\nKích t...  4.7000  749000   \n",
       "1293  THÔNG TIN CHI TIẾT\\nThương hiệu Xiaomi\\nKích t...  0.0000  799000   \n",
       "1806  THÔNG TIN CHI TIẾT\\nThương hiệu Xiaomi\\nKích t...  4.7000  890000   \n",
       "1114  THÔNG TIN CHI TIẾT\\nThương hiệu Xiaomi\\nKích t...  4.6000  729000   \n",
       "1173  THÔNG TIN CHI TIẾT\\nThương hiệu Xiaomi\\nKích t...  4.5000  459000   \n",
       "\n",
       "      list_price   brand                                              group  \\\n",
       "1018      899000  Xiaomi  Máy Ảnh - Máy Quay Phim/Camera Giám Sát/Camera IP   \n",
       "1293      899000  Xiaomi  Máy Ảnh - Máy Quay Phim/Camera Giám Sát/Camera IP   \n",
       "1806     1075000  Xiaomi  Máy Ảnh - Máy Quay Phim/Camera Giám Sát/Camera IP   \n",
       "1114      890000  Xiaomi  Máy Ảnh - Máy Quay Phim/Camera Giám Sát/Camera IP   \n",
       "1173      530000  Xiaomi  Máy Ảnh - Máy Quay Phim/Camera Giám Sát/Camera IP   \n",
       "\n",
       "                                                    url  sim_score  \n",
       "1018  https://camera-chong-trom-xiaomi-360-1080p-mi-...     0.6225  \n",
       "1293  https://camera-chong-trom-xiaomi-360-1080p-mi-...     0.6150  \n",
       "1806  https://camera-quan-sat-xiaomi-mi-home-360-108...     0.5547  \n",
       "1114  https://camera-ip-xiaomi-mjsxj02cm-mi-home-sec...     0.5320  \n",
       "1173  https://camera-hong-ngoai-ip-xiaomi-mi-smart-h...     0.4431  "
      ]
     },
     "execution_count": 42,
     "metadata": {},
     "output_type": "execute_result"
    }
   ],
   "source": [
    "# Select product item_id = 43107185\n",
    "Lib.gensim_get_recommendation(product, tfidf, dictionary, index_sparse_matrix, 43107185)"
   ]
  },
  {
   "cell_type": "markdown",
   "id": "54d81565",
   "metadata": {
    "id": "54d81565"
   },
   "source": [
    "## -- Cosine similarity"
   ]
  },
  {
   "cell_type": "code",
   "execution_count": null,
   "id": "3a8116ec",
   "metadata": {
    "id": "3a8116ec"
   },
   "outputs": [],
   "source": [
    "# tính toán cosine_similarities\n",
    "cosine_similarities = Lib.cosine_preparation(product, stop_words)"
   ]
  },
  {
   "cell_type": "code",
   "execution_count": null,
   "id": "47df95e0",
   "metadata": {
    "executionInfo": {
     "elapsed": 400,
     "status": "aborted",
     "timestamp": 1646629005341,
     "user": {
      "displayName": "Phuong Dam",
      "photoUrl": "https://lh3.googleusercontent.com/a/default-user=s64",
      "userId": "01072403895711103873"
     },
     "user_tz": -420
    },
    "id": "47df95e0",
    "outputId": "5f7c9c9f-3d0a-44f5-8d52-fa682b3d8d73",
    "scrolled": false
   },
   "outputs": [
    {
     "name": "stdout",
     "output_type": "stream",
     "text": [
      "*** SELECTED PRODUCT ***\n"
     ]
    },
    {
     "data": {
      "text/html": [
       "<div>\n",
       "<style scoped>\n",
       "    .dataframe tbody tr th:only-of-type {\n",
       "        vertical-align: middle;\n",
       "    }\n",
       "\n",
       "    .dataframe tbody tr th {\n",
       "        vertical-align: top;\n",
       "    }\n",
       "\n",
       "    .dataframe thead th {\n",
       "        text-align: right;\n",
       "    }\n",
       "</style>\n",
       "<table border=\"1\" class=\"dataframe\">\n",
       "  <thead>\n",
       "    <tr style=\"text-align: right;\">\n",
       "      <th></th>\n",
       "      <th>item_id</th>\n",
       "      <th>name</th>\n",
       "      <th>description</th>\n",
       "      <th>rating</th>\n",
       "      <th>price</th>\n",
       "      <th>list_price</th>\n",
       "      <th>brand</th>\n",
       "      <th>group</th>\n",
       "      <th>url</th>\n",
       "    </tr>\n",
       "  </thead>\n",
       "  <tbody>\n",
       "    <tr>\n",
       "      <th>4208</th>\n",
       "      <td>29246309</td>\n",
       "      <td>Máy sấy Electrolux 8 Kg EDV805JQSA</td>\n",
       "      <td>THÔNG TIN CHI TIẾT\\nBảng điều khiển Điều khiển...</td>\n",
       "      <td>4.4000</td>\n",
       "      <td>8790000</td>\n",
       "      <td>11290000</td>\n",
       "      <td>Electrolux</td>\n",
       "      <td>Điện Tử - Điện Lạnh/Máy sấy quần áo</td>\n",
       "      <td>https://may-say-electrolux-8-kg-edv805jqsa-p29...</td>\n",
       "    </tr>\n",
       "  </tbody>\n",
       "</table>\n",
       "</div>"
      ],
      "text/plain": [
       "       item_id                                name  \\\n",
       "4208  29246309  Máy sấy Electrolux 8 Kg EDV805JQSA   \n",
       "\n",
       "                                            description  rating    price  \\\n",
       "4208  THÔNG TIN CHI TIẾT\\nBảng điều khiển Điều khiển...  4.4000  8790000   \n",
       "\n",
       "      list_price       brand                                group  \\\n",
       "4208    11290000  Electrolux  Điện Tử - Điện Lạnh/Máy sấy quần áo   \n",
       "\n",
       "                                                    url  \n",
       "4208  https://may-say-electrolux-8-kg-edv805jqsa-p29...  "
      ]
     },
     "metadata": {},
     "output_type": "display_data"
    },
    {
     "name": "stdout",
     "output_type": "stream",
     "text": [
      "*** 5 RECOMMENDED PRODUCTS ***\n"
     ]
    },
    {
     "data": {
      "text/html": [
       "<div>\n",
       "<style scoped>\n",
       "    .dataframe tbody tr th:only-of-type {\n",
       "        vertical-align: middle;\n",
       "    }\n",
       "\n",
       "    .dataframe tbody tr th {\n",
       "        vertical-align: top;\n",
       "    }\n",
       "\n",
       "    .dataframe thead th {\n",
       "        text-align: right;\n",
       "    }\n",
       "</style>\n",
       "<table border=\"1\" class=\"dataframe\">\n",
       "  <thead>\n",
       "    <tr style=\"text-align: right;\">\n",
       "      <th></th>\n",
       "      <th>item_id</th>\n",
       "      <th>name</th>\n",
       "      <th>description</th>\n",
       "      <th>rating</th>\n",
       "      <th>price</th>\n",
       "      <th>list_price</th>\n",
       "      <th>brand</th>\n",
       "      <th>group</th>\n",
       "      <th>url</th>\n",
       "      <th>consine_sim_score</th>\n",
       "    </tr>\n",
       "  </thead>\n",
       "  <tbody>\n",
       "    <tr>\n",
       "      <th>3937</th>\n",
       "      <td>29248443</td>\n",
       "      <td>Máy Sấy Cửa Trước Electrolux EDV705HQWA (7kg) ...</td>\n",
       "      <td>THÔNG TIN CHI TIẾT\\nBảng điều khiển Điện tử\\nT...</td>\n",
       "      <td>5.0000</td>\n",
       "      <td>6950000</td>\n",
       "      <td>9990000</td>\n",
       "      <td>Electrolux</td>\n",
       "      <td>Điện Tử - Điện Lạnh/Máy sấy quần áo</td>\n",
       "      <td>https://may-say-cua-truoc-electrolux-edv705hqw...</td>\n",
       "      <td>0.9107</td>\n",
       "    </tr>\n",
       "    <tr>\n",
       "      <th>3632</th>\n",
       "      <td>29244640</td>\n",
       "      <td>Máy sấy Electrolux 7 Kg EDV705HQWA</td>\n",
       "      <td>THÔNG TIN CHI TIẾT\\nBảng điều khiển Điện tử\\nT...</td>\n",
       "      <td>4.0000</td>\n",
       "      <td>6949000</td>\n",
       "      <td>9990000</td>\n",
       "      <td>Electrolux</td>\n",
       "      <td>Điện Tử - Điện Lạnh/Máy sấy quần áo</td>\n",
       "      <td>https://may-say-electrolux-7-kg-edv705hqwa-p29...</td>\n",
       "      <td>0.9102</td>\n",
       "    </tr>\n",
       "    <tr>\n",
       "      <th>3255</th>\n",
       "      <td>29245829</td>\n",
       "      <td>Máy sấy Electrolux 7 Kg EDV705HQWA</td>\n",
       "      <td>THÔNG TIN CHI TIẾT\\nBảng điều khiển Điện tử\\nT...</td>\n",
       "      <td>4.2000</td>\n",
       "      <td>6990000</td>\n",
       "      <td>9990000</td>\n",
       "      <td>Electrolux</td>\n",
       "      <td>Điện Tử - Điện Lạnh/Máy sấy quần áo</td>\n",
       "      <td>https://may-say-electrolux-7-kg-edv705hqwa-p29...</td>\n",
       "      <td>0.9102</td>\n",
       "    </tr>\n",
       "    <tr>\n",
       "      <th>4205</th>\n",
       "      <td>29245831</td>\n",
       "      <td>Máy sấy Electrolux 8 Kg EDV805JQWA</td>\n",
       "      <td>THÔNG TIN CHI TIẾT\\nBảng điều khiển Điện tử\\nT...</td>\n",
       "      <td>5.0000</td>\n",
       "      <td>8149000</td>\n",
       "      <td>10690000</td>\n",
       "      <td>Electrolux</td>\n",
       "      <td>Điện Tử - Điện Lạnh/Máy sấy quần áo</td>\n",
       "      <td>https://may-say-electrolux-8-kg-edv805jqwa-p29...</td>\n",
       "      <td>0.9095</td>\n",
       "    </tr>\n",
       "    <tr>\n",
       "      <th>3300</th>\n",
       "      <td>29247864</td>\n",
       "      <td>Máy sấy Electrolux 7 Kg EDV705HQWA</td>\n",
       "      <td>THÔNG TIN CHI TIẾT\\nBảng điều khiển Điều khiển...</td>\n",
       "      <td>4.6000</td>\n",
       "      <td>7079000</td>\n",
       "      <td>9990000</td>\n",
       "      <td>Electrolux</td>\n",
       "      <td>Điện Tử - Điện Lạnh/Máy sấy quần áo</td>\n",
       "      <td>https://may-say-electrolux-7-kg-edv705hqwa-p29...</td>\n",
       "      <td>0.9087</td>\n",
       "    </tr>\n",
       "  </tbody>\n",
       "</table>\n",
       "</div>"
      ],
      "text/plain": [
       "       item_id                                               name  \\\n",
       "3937  29248443  Máy Sấy Cửa Trước Electrolux EDV705HQWA (7kg) ...   \n",
       "3632  29244640                 Máy sấy Electrolux 7 Kg EDV705HQWA   \n",
       "3255  29245829                 Máy sấy Electrolux 7 Kg EDV705HQWA   \n",
       "4205  29245831                 Máy sấy Electrolux 8 Kg EDV805JQWA   \n",
       "3300  29247864                 Máy sấy Electrolux 7 Kg EDV705HQWA   \n",
       "\n",
       "                                            description  rating    price  \\\n",
       "3937  THÔNG TIN CHI TIẾT\\nBảng điều khiển Điện tử\\nT...  5.0000  6950000   \n",
       "3632  THÔNG TIN CHI TIẾT\\nBảng điều khiển Điện tử\\nT...  4.0000  6949000   \n",
       "3255  THÔNG TIN CHI TIẾT\\nBảng điều khiển Điện tử\\nT...  4.2000  6990000   \n",
       "4205  THÔNG TIN CHI TIẾT\\nBảng điều khiển Điện tử\\nT...  5.0000  8149000   \n",
       "3300  THÔNG TIN CHI TIẾT\\nBảng điều khiển Điều khiển...  4.6000  7079000   \n",
       "\n",
       "      list_price       brand                                group  \\\n",
       "3937     9990000  Electrolux  Điện Tử - Điện Lạnh/Máy sấy quần áo   \n",
       "3632     9990000  Electrolux  Điện Tử - Điện Lạnh/Máy sấy quần áo   \n",
       "3255     9990000  Electrolux  Điện Tử - Điện Lạnh/Máy sấy quần áo   \n",
       "4205    10690000  Electrolux  Điện Tử - Điện Lạnh/Máy sấy quần áo   \n",
       "3300     9990000  Electrolux  Điện Tử - Điện Lạnh/Máy sấy quần áo   \n",
       "\n",
       "                                                    url  consine_sim_score  \n",
       "3937  https://may-say-cua-truoc-electrolux-edv705hqw...             0.9107  \n",
       "3632  https://may-say-electrolux-7-kg-edv705hqwa-p29...             0.9102  \n",
       "3255  https://may-say-electrolux-7-kg-edv705hqwa-p29...             0.9102  \n",
       "4205  https://may-say-electrolux-8-kg-edv805jqwa-p29...             0.9095  \n",
       "3300  https://may-say-electrolux-7-kg-edv705hqwa-p29...             0.9087  "
      ]
     },
     "execution_count": 44,
     "metadata": {},
     "output_type": "execute_result"
    }
   ],
   "source": [
    "# lấy 5 sản phẩm tương quan nhất của sản phẩm có item_id = 29246309\n",
    "Lib.cosine_recommendation(product, cosine_similarities, 29246309)"
   ]
  },
  {
   "cell_type": "code",
   "execution_count": null,
   "id": "0c083a48",
   "metadata": {
    "id": "0c083a48",
    "outputId": "b96448cd-6784-4261-ff10-040645114b44"
   },
   "outputs": [
    {
     "name": "stdout",
     "output_type": "stream",
     "text": [
      "*** SELECTED PRODUCT ***\n"
     ]
    },
    {
     "data": {
      "text/html": [
       "<div>\n",
       "<style scoped>\n",
       "    .dataframe tbody tr th:only-of-type {\n",
       "        vertical-align: middle;\n",
       "    }\n",
       "\n",
       "    .dataframe tbody tr th {\n",
       "        vertical-align: top;\n",
       "    }\n",
       "\n",
       "    .dataframe thead th {\n",
       "        text-align: right;\n",
       "    }\n",
       "</style>\n",
       "<table border=\"1\" class=\"dataframe\">\n",
       "  <thead>\n",
       "    <tr style=\"text-align: right;\">\n",
       "      <th></th>\n",
       "      <th>item_id</th>\n",
       "      <th>name</th>\n",
       "      <th>description</th>\n",
       "      <th>rating</th>\n",
       "      <th>price</th>\n",
       "      <th>list_price</th>\n",
       "      <th>brand</th>\n",
       "      <th>group</th>\n",
       "      <th>url</th>\n",
       "    </tr>\n",
       "  </thead>\n",
       "  <tbody>\n",
       "    <tr>\n",
       "      <th>1001</th>\n",
       "      <td>43107185</td>\n",
       "      <td>Camera chống trộm Xiaomi Mi Home 360° 1080P 20...</td>\n",
       "      <td>THÔNG TIN CHI TIẾT\\nThương hiệu Xiaomi\\nXuất x...</td>\n",
       "      <td>4.3000</td>\n",
       "      <td>749000</td>\n",
       "      <td>899000</td>\n",
       "      <td>Xiaomi</td>\n",
       "      <td>Máy Ảnh - Máy Quay Phim/Camera Giám Sát/Camera IP</td>\n",
       "      <td>https://camera-chong-trom-xiaomi-mi-home-360-1...</td>\n",
       "    </tr>\n",
       "  </tbody>\n",
       "</table>\n",
       "</div>"
      ],
      "text/plain": [
       "       item_id                                               name  \\\n",
       "1001  43107185  Camera chống trộm Xiaomi Mi Home 360° 1080P 20...   \n",
       "\n",
       "                                            description  rating   price  \\\n",
       "1001  THÔNG TIN CHI TIẾT\\nThương hiệu Xiaomi\\nXuất x...  4.3000  749000   \n",
       "\n",
       "      list_price   brand                                              group  \\\n",
       "1001      899000  Xiaomi  Máy Ảnh - Máy Quay Phim/Camera Giám Sát/Camera IP   \n",
       "\n",
       "                                                    url  \n",
       "1001  https://camera-chong-trom-xiaomi-mi-home-360-1...  "
      ]
     },
     "metadata": {},
     "output_type": "display_data"
    },
    {
     "name": "stdout",
     "output_type": "stream",
     "text": [
      "*** 5 RECOMMENDED PRODUCTS ***\n"
     ]
    },
    {
     "data": {
      "text/html": [
       "<div>\n",
       "<style scoped>\n",
       "    .dataframe tbody tr th:only-of-type {\n",
       "        vertical-align: middle;\n",
       "    }\n",
       "\n",
       "    .dataframe tbody tr th {\n",
       "        vertical-align: top;\n",
       "    }\n",
       "\n",
       "    .dataframe thead th {\n",
       "        text-align: right;\n",
       "    }\n",
       "</style>\n",
       "<table border=\"1\" class=\"dataframe\">\n",
       "  <thead>\n",
       "    <tr style=\"text-align: right;\">\n",
       "      <th></th>\n",
       "      <th>item_id</th>\n",
       "      <th>name</th>\n",
       "      <th>description</th>\n",
       "      <th>rating</th>\n",
       "      <th>price</th>\n",
       "      <th>list_price</th>\n",
       "      <th>brand</th>\n",
       "      <th>group</th>\n",
       "      <th>url</th>\n",
       "      <th>consine_sim_score</th>\n",
       "    </tr>\n",
       "  </thead>\n",
       "  <tbody>\n",
       "    <tr>\n",
       "      <th>1018</th>\n",
       "      <td>7230439</td>\n",
       "      <td>Camera chống trộm Xiaomi 360° 1080P Mi Home (T...</td>\n",
       "      <td>THÔNG TIN CHI TIẾT\\nThương hiệu Xiaomi\\nKích t...</td>\n",
       "      <td>4.7000</td>\n",
       "      <td>749000</td>\n",
       "      <td>899000</td>\n",
       "      <td>Xiaomi</td>\n",
       "      <td>Máy Ảnh - Máy Quay Phim/Camera Giám Sát/Camera IP</td>\n",
       "      <td>https://camera-chong-trom-xiaomi-360-1080p-mi-...</td>\n",
       "      <td>0.7104</td>\n",
       "    </tr>\n",
       "    <tr>\n",
       "      <th>1293</th>\n",
       "      <td>21068237</td>\n",
       "      <td>Camera chống trộm Xiaomi 360° 1080P Mi Home (T...</td>\n",
       "      <td>THÔNG TIN CHI TIẾT\\nThương hiệu Xiaomi\\nKích t...</td>\n",
       "      <td>0.0000</td>\n",
       "      <td>799000</td>\n",
       "      <td>899000</td>\n",
       "      <td>Xiaomi</td>\n",
       "      <td>Máy Ảnh - Máy Quay Phim/Camera Giám Sát/Camera IP</td>\n",
       "      <td>https://camera-chong-trom-xiaomi-360-1080p-mi-...</td>\n",
       "      <td>0.7018</td>\n",
       "    </tr>\n",
       "    <tr>\n",
       "      <th>1806</th>\n",
       "      <td>8406093</td>\n",
       "      <td>Camera Quan sát Xiaomi Mi Home 360° 1080P (Tặn...</td>\n",
       "      <td>THÔNG TIN CHI TIẾT\\nThương hiệu Xiaomi\\nKích t...</td>\n",
       "      <td>4.7000</td>\n",
       "      <td>890000</td>\n",
       "      <td>1075000</td>\n",
       "      <td>Xiaomi</td>\n",
       "      <td>Máy Ảnh - Máy Quay Phim/Camera Giám Sát/Camera IP</td>\n",
       "      <td>https://camera-quan-sat-xiaomi-mi-home-360-108...</td>\n",
       "      <td>0.6422</td>\n",
       "    </tr>\n",
       "    <tr>\n",
       "      <th>1114</th>\n",
       "      <td>7932267</td>\n",
       "      <td>Camera IP Xiaomi MJSXJ02CM Mi Home Security Ca...</td>\n",
       "      <td>THÔNG TIN CHI TIẾT\\nThương hiệu Xiaomi\\nKích t...</td>\n",
       "      <td>4.6000</td>\n",
       "      <td>729000</td>\n",
       "      <td>890000</td>\n",
       "      <td>Xiaomi</td>\n",
       "      <td>Máy Ảnh - Máy Quay Phim/Camera Giám Sát/Camera IP</td>\n",
       "      <td>https://camera-ip-xiaomi-mjsxj02cm-mi-home-sec...</td>\n",
       "      <td>0.6331</td>\n",
       "    </tr>\n",
       "    <tr>\n",
       "      <th>1173</th>\n",
       "      <td>10644571</td>\n",
       "      <td>Camera Hồng Ngoại IP Xiaomi Mi Smart Home Basi...</td>\n",
       "      <td>THÔNG TIN CHI TIẾT\\nThương hiệu Xiaomi\\nKích t...</td>\n",
       "      <td>4.5000</td>\n",
       "      <td>459000</td>\n",
       "      <td>530000</td>\n",
       "      <td>Xiaomi</td>\n",
       "      <td>Máy Ảnh - Máy Quay Phim/Camera Giám Sát/Camera IP</td>\n",
       "      <td>https://camera-hong-ngoai-ip-xiaomi-mi-smart-h...</td>\n",
       "      <td>0.5307</td>\n",
       "    </tr>\n",
       "  </tbody>\n",
       "</table>\n",
       "</div>"
      ],
      "text/plain": [
       "       item_id                                               name  \\\n",
       "1018   7230439  Camera chống trộm Xiaomi 360° 1080P Mi Home (T...   \n",
       "1293  21068237  Camera chống trộm Xiaomi 360° 1080P Mi Home (T...   \n",
       "1806   8406093  Camera Quan sát Xiaomi Mi Home 360° 1080P (Tặn...   \n",
       "1114   7932267  Camera IP Xiaomi MJSXJ02CM Mi Home Security Ca...   \n",
       "1173  10644571  Camera Hồng Ngoại IP Xiaomi Mi Smart Home Basi...   \n",
       "\n",
       "                                            description  rating   price  \\\n",
       "1018  THÔNG TIN CHI TIẾT\\nThương hiệu Xiaomi\\nKích t...  4.7000  749000   \n",
       "1293  THÔNG TIN CHI TIẾT\\nThương hiệu Xiaomi\\nKích t...  0.0000  799000   \n",
       "1806  THÔNG TIN CHI TIẾT\\nThương hiệu Xiaomi\\nKích t...  4.7000  890000   \n",
       "1114  THÔNG TIN CHI TIẾT\\nThương hiệu Xiaomi\\nKích t...  4.6000  729000   \n",
       "1173  THÔNG TIN CHI TIẾT\\nThương hiệu Xiaomi\\nKích t...  4.5000  459000   \n",
       "\n",
       "      list_price   brand                                              group  \\\n",
       "1018      899000  Xiaomi  Máy Ảnh - Máy Quay Phim/Camera Giám Sát/Camera IP   \n",
       "1293      899000  Xiaomi  Máy Ảnh - Máy Quay Phim/Camera Giám Sát/Camera IP   \n",
       "1806     1075000  Xiaomi  Máy Ảnh - Máy Quay Phim/Camera Giám Sát/Camera IP   \n",
       "1114      890000  Xiaomi  Máy Ảnh - Máy Quay Phim/Camera Giám Sát/Camera IP   \n",
       "1173      530000  Xiaomi  Máy Ảnh - Máy Quay Phim/Camera Giám Sát/Camera IP   \n",
       "\n",
       "                                                    url  consine_sim_score  \n",
       "1018  https://camera-chong-trom-xiaomi-360-1080p-mi-...             0.7104  \n",
       "1293  https://camera-chong-trom-xiaomi-360-1080p-mi-...             0.7018  \n",
       "1806  https://camera-quan-sat-xiaomi-mi-home-360-108...             0.6422  \n",
       "1114  https://camera-ip-xiaomi-mjsxj02cm-mi-home-sec...             0.6331  \n",
       "1173  https://camera-hong-ngoai-ip-xiaomi-mi-smart-h...             0.5307  "
      ]
     },
     "execution_count": 45,
     "metadata": {},
     "output_type": "execute_result"
    }
   ],
   "source": [
    "# lấy 5 sản phẩm tương quan nhất của sản phẩm có item_id = 43107185\n",
    "Lib.cosine_recommendation(product, cosine_similarities, 43107185)"
   ]
  },
  {
   "cell_type": "markdown",
   "id": "41de880b",
   "metadata": {
    "id": "41de880b"
   },
   "source": [
    "Nhận xét:\n",
    "- Có thể thấy Gensim và Consine similarity cho kết quả giống nhau và rất tốt các sản phẩm được recommended đều tương đồng với sản phẩm được chọn.\n",
    "- Có thể thấy Cosine similarity thực hiện đơn giản hơn (ít bước hơn) => Chọn Cosine Similarity đối với phương pháp Content-based Filtering. \n",
    "- => Hãy cùng xem xét việc gợi ý bằng phương pháp Collaborative Filtering thông qua ALS của pyspark"
   ]
  },
  {
   "cell_type": "markdown",
   "id": "271ff914",
   "metadata": {
    "id": "271ff914"
   },
   "source": [
    "## -- ALS"
   ]
  },
  {
   "cell_type": "code",
   "execution_count": 1,
   "id": "fT2R4YdGaX5-",
   "metadata": {
    "colab": {
     "base_uri": "https://localhost:8080/"
    },
    "collapsed": true,
    "executionInfo": {
     "elapsed": 30955,
     "status": "ok",
     "timestamp": 1648368501537,
     "user": {
      "displayName": "Phuong Dam",
      "photoUrl": "https://lh3.googleusercontent.com/a/default-user=s64",
      "userId": "01072403895711103873"
     },
     "user_tz": -420
    },
    "id": "fT2R4YdGaX5-",
    "outputId": "f22f3a98-c0dc-46ea-9acb-821c9ac21dcf"
   },
   "outputs": [
    {
     "name": "stdout",
     "output_type": "stream",
     "text": [
      "spark-2.4.0-bin-hadoop2.7/\n",
      "spark-2.4.0-bin-hadoop2.7/python/\n",
      "spark-2.4.0-bin-hadoop2.7/python/setup.cfg\n",
      "spark-2.4.0-bin-hadoop2.7/python/pyspark/\n",
      "spark-2.4.0-bin-hadoop2.7/python/pyspark/resultiterable.py\n",
      "spark-2.4.0-bin-hadoop2.7/python/pyspark/python/\n",
      "spark-2.4.0-bin-hadoop2.7/python/pyspark/python/pyspark/\n",
      "spark-2.4.0-bin-hadoop2.7/python/pyspark/python/pyspark/shell.py\n",
      "spark-2.4.0-bin-hadoop2.7/python/pyspark/heapq3.py\n",
      "spark-2.4.0-bin-hadoop2.7/python/pyspark/join.py\n",
      "spark-2.4.0-bin-hadoop2.7/python/pyspark/version.py\n",
      "spark-2.4.0-bin-hadoop2.7/python/pyspark/rdd.py\n",
      "spark-2.4.0-bin-hadoop2.7/python/pyspark/java_gateway.py\n",
      "spark-2.4.0-bin-hadoop2.7/python/pyspark/find_spark_home.py\n",
      "spark-2.4.0-bin-hadoop2.7/python/pyspark/_globals.py\n",
      "spark-2.4.0-bin-hadoop2.7/python/pyspark/worker.py\n",
      "spark-2.4.0-bin-hadoop2.7/python/pyspark/accumulators.py\n",
      "spark-2.4.0-bin-hadoop2.7/python/pyspark/mllib/\n",
      "spark-2.4.0-bin-hadoop2.7/python/pyspark/mllib/feature.py\n",
      "spark-2.4.0-bin-hadoop2.7/python/pyspark/mllib/random.py\n",
      "spark-2.4.0-bin-hadoop2.7/python/pyspark/mllib/recommendation.py\n",
      "spark-2.4.0-bin-hadoop2.7/python/pyspark/mllib/fpm.py\n",
      "spark-2.4.0-bin-hadoop2.7/python/pyspark/mllib/classification.py\n",
      "spark-2.4.0-bin-hadoop2.7/python/pyspark/mllib/stat/\n",
      "spark-2.4.0-bin-hadoop2.7/python/pyspark/mllib/stat/KernelDensity.py\n",
      "spark-2.4.0-bin-hadoop2.7/python/pyspark/mllib/stat/distribution.py\n",
      "spark-2.4.0-bin-hadoop2.7/python/pyspark/mllib/stat/test.py\n",
      "spark-2.4.0-bin-hadoop2.7/python/pyspark/mllib/stat/_statistics.py\n",
      "spark-2.4.0-bin-hadoop2.7/python/pyspark/mllib/stat/__init__.py\n",
      "spark-2.4.0-bin-hadoop2.7/python/pyspark/mllib/util.py\n",
      "spark-2.4.0-bin-hadoop2.7/python/pyspark/mllib/regression.py\n",
      "spark-2.4.0-bin-hadoop2.7/python/pyspark/mllib/clustering.py\n",
      "spark-2.4.0-bin-hadoop2.7/python/pyspark/mllib/linalg/\n",
      "spark-2.4.0-bin-hadoop2.7/python/pyspark/mllib/linalg/distributed.py\n",
      "spark-2.4.0-bin-hadoop2.7/python/pyspark/mllib/linalg/__init__.py\n",
      "spark-2.4.0-bin-hadoop2.7/python/pyspark/mllib/tree.py\n",
      "spark-2.4.0-bin-hadoop2.7/python/pyspark/mllib/__init__.py\n",
      "spark-2.4.0-bin-hadoop2.7/python/pyspark/mllib/evaluation.py\n",
      "spark-2.4.0-bin-hadoop2.7/python/pyspark/mllib/common.py\n",
      "spark-2.4.0-bin-hadoop2.7/python/pyspark/mllib/tests.py\n",
      "spark-2.4.0-bin-hadoop2.7/python/pyspark/util.py\n",
      "spark-2.4.0-bin-hadoop2.7/python/pyspark/test_broadcast.py\n",
      "spark-2.4.0-bin-hadoop2.7/python/pyspark/shell.py\n",
      "spark-2.4.0-bin-hadoop2.7/python/pyspark/ml/\n",
      "spark-2.4.0-bin-hadoop2.7/python/pyspark/ml/feature.py\n",
      "spark-2.4.0-bin-hadoop2.7/python/pyspark/ml/recommendation.py\n",
      "spark-2.4.0-bin-hadoop2.7/python/pyspark/ml/fpm.py\n",
      "spark-2.4.0-bin-hadoop2.7/python/pyspark/ml/classification.py\n",
      "spark-2.4.0-bin-hadoop2.7/python/pyspark/ml/stat.py\n",
      "spark-2.4.0-bin-hadoop2.7/python/pyspark/ml/util.py\n",
      "spark-2.4.0-bin-hadoop2.7/python/pyspark/ml/tuning.py\n",
      "spark-2.4.0-bin-hadoop2.7/python/pyspark/ml/regression.py\n",
      "spark-2.4.0-bin-hadoop2.7/python/pyspark/ml/base.py\n",
      "spark-2.4.0-bin-hadoop2.7/python/pyspark/ml/clustering.py\n",
      "spark-2.4.0-bin-hadoop2.7/python/pyspark/ml/wrapper.py\n",
      "spark-2.4.0-bin-hadoop2.7/python/pyspark/ml/pipeline.py\n",
      "spark-2.4.0-bin-hadoop2.7/python/pyspark/ml/linalg/\n",
      "spark-2.4.0-bin-hadoop2.7/python/pyspark/ml/linalg/__init__.py\n",
      "spark-2.4.0-bin-hadoop2.7/python/pyspark/ml/param/\n",
      "spark-2.4.0-bin-hadoop2.7/python/pyspark/ml/param/_shared_params_code_gen.py\n",
      "spark-2.4.0-bin-hadoop2.7/python/pyspark/ml/param/shared.py\n",
      "spark-2.4.0-bin-hadoop2.7/python/pyspark/ml/param/__init__.py\n",
      "spark-2.4.0-bin-hadoop2.7/python/pyspark/ml/__init__.py\n",
      "spark-2.4.0-bin-hadoop2.7/python/pyspark/ml/evaluation.py\n",
      "spark-2.4.0-bin-hadoop2.7/python/pyspark/ml/common.py\n",
      "spark-2.4.0-bin-hadoop2.7/python/pyspark/ml/tests.py\n",
      "spark-2.4.0-bin-hadoop2.7/python/pyspark/ml/image.py\n",
      "spark-2.4.0-bin-hadoop2.7/python/pyspark/test_serializers.py\n",
      "spark-2.4.0-bin-hadoop2.7/python/pyspark/cloudpickle.py\n",
      "spark-2.4.0-bin-hadoop2.7/python/pyspark/serializers.py\n",
      "spark-2.4.0-bin-hadoop2.7/python/pyspark/daemon.py\n",
      "spark-2.4.0-bin-hadoop2.7/python/pyspark/files.py\n",
      "spark-2.4.0-bin-hadoop2.7/python/pyspark/rddsampler.py\n",
      "spark-2.4.0-bin-hadoop2.7/python/pyspark/statcounter.py\n",
      "spark-2.4.0-bin-hadoop2.7/python/pyspark/streaming/\n",
      "spark-2.4.0-bin-hadoop2.7/python/pyspark/streaming/kafka.py\n",
      "spark-2.4.0-bin-hadoop2.7/python/pyspark/streaming/util.py\n",
      "spark-2.4.0-bin-hadoop2.7/python/pyspark/streaming/kinesis.py\n",
      "spark-2.4.0-bin-hadoop2.7/python/pyspark/streaming/flume.py\n",
      "spark-2.4.0-bin-hadoop2.7/python/pyspark/streaming/__init__.py\n",
      "spark-2.4.0-bin-hadoop2.7/python/pyspark/streaming/context.py\n",
      "spark-2.4.0-bin-hadoop2.7/python/pyspark/streaming/tests.py\n",
      "spark-2.4.0-bin-hadoop2.7/python/pyspark/streaming/dstream.py\n",
      "spark-2.4.0-bin-hadoop2.7/python/pyspark/streaming/listener.py\n",
      "spark-2.4.0-bin-hadoop2.7/python/pyspark/taskcontext.py\n",
      "spark-2.4.0-bin-hadoop2.7/python/pyspark/__init__.py\n",
      "spark-2.4.0-bin-hadoop2.7/python/pyspark/storagelevel.py\n",
      "spark-2.4.0-bin-hadoop2.7/python/pyspark/broadcast.py\n",
      "spark-2.4.0-bin-hadoop2.7/python/pyspark/profiler.py\n",
      "spark-2.4.0-bin-hadoop2.7/python/pyspark/traceback_utils.py\n",
      "spark-2.4.0-bin-hadoop2.7/python/pyspark/context.py\n",
      "spark-2.4.0-bin-hadoop2.7/python/pyspark/status.py\n",
      "spark-2.4.0-bin-hadoop2.7/python/pyspark/sql/\n",
      "spark-2.4.0-bin-hadoop2.7/python/pyspark/sql/streaming.py\n",
      "spark-2.4.0-bin-hadoop2.7/python/pyspark/sql/readwriter.py\n",
      "spark-2.4.0-bin-hadoop2.7/python/pyspark/sql/catalog.py\n",
      "spark-2.4.0-bin-hadoop2.7/python/pyspark/sql/session.py\n",
      "spark-2.4.0-bin-hadoop2.7/python/pyspark/sql/column.py\n",
      "spark-2.4.0-bin-hadoop2.7/python/pyspark/sql/functions.py\n",
      "spark-2.4.0-bin-hadoop2.7/python/pyspark/sql/dataframe.py\n",
      "spark-2.4.0-bin-hadoop2.7/python/pyspark/sql/window.py\n",
      "spark-2.4.0-bin-hadoop2.7/python/pyspark/sql/udf.py\n",
      "spark-2.4.0-bin-hadoop2.7/python/pyspark/sql/__init__.py\n",
      "spark-2.4.0-bin-hadoop2.7/python/pyspark/sql/utils.py\n",
      "spark-2.4.0-bin-hadoop2.7/python/pyspark/sql/group.py\n",
      "spark-2.4.0-bin-hadoop2.7/python/pyspark/sql/context.py\n",
      "spark-2.4.0-bin-hadoop2.7/python/pyspark/sql/tests.py\n",
      "spark-2.4.0-bin-hadoop2.7/python/pyspark/sql/conf.py\n",
      "spark-2.4.0-bin-hadoop2.7/python/pyspark/sql/types.py\n",
      "spark-2.4.0-bin-hadoop2.7/python/pyspark/tests.py\n",
      "spark-2.4.0-bin-hadoop2.7/python/pyspark/conf.py\n",
      "spark-2.4.0-bin-hadoop2.7/python/pyspark/shuffle.py\n",
      "spark-2.4.0-bin-hadoop2.7/python/.gitignore\n",
      "spark-2.4.0-bin-hadoop2.7/python/docs/\n",
      "spark-2.4.0-bin-hadoop2.7/python/docs/epytext.py\n",
      "spark-2.4.0-bin-hadoop2.7/python/docs/make2.bat\n",
      "spark-2.4.0-bin-hadoop2.7/python/docs/pyspark.sql.rst\n",
      "spark-2.4.0-bin-hadoop2.7/python/docs/make.bat\n",
      "spark-2.4.0-bin-hadoop2.7/python/docs/index.rst\n",
      "spark-2.4.0-bin-hadoop2.7/python/docs/_templates/\n",
      "spark-2.4.0-bin-hadoop2.7/python/docs/_templates/layout.html\n",
      "spark-2.4.0-bin-hadoop2.7/python/docs/_static/\n",
      "spark-2.4.0-bin-hadoop2.7/python/docs/_static/pyspark.js\n",
      "spark-2.4.0-bin-hadoop2.7/python/docs/_static/pyspark.css\n",
      "spark-2.4.0-bin-hadoop2.7/python/docs/pyspark.ml.rst\n",
      "spark-2.4.0-bin-hadoop2.7/python/docs/pyspark.streaming.rst\n",
      "spark-2.4.0-bin-hadoop2.7/python/docs/conf.py\n",
      "spark-2.4.0-bin-hadoop2.7/python/docs/pyspark.mllib.rst\n",
      "spark-2.4.0-bin-hadoop2.7/python/docs/pyspark.rst\n",
      "spark-2.4.0-bin-hadoop2.7/python/docs/Makefile\n",
      "spark-2.4.0-bin-hadoop2.7/python/test_coverage/\n",
      "spark-2.4.0-bin-hadoop2.7/python/test_coverage/conf/\n",
      "spark-2.4.0-bin-hadoop2.7/python/test_coverage/conf/spark-defaults.conf\n",
      "spark-2.4.0-bin-hadoop2.7/python/test_coverage/sitecustomize.py\n",
      "spark-2.4.0-bin-hadoop2.7/python/test_coverage/coverage_daemon.py\n",
      "spark-2.4.0-bin-hadoop2.7/python/run-tests-with-coverage\n",
      "spark-2.4.0-bin-hadoop2.7/python/pyspark.egg-info/\n",
      "spark-2.4.0-bin-hadoop2.7/python/pyspark.egg-info/top_level.txt\n",
      "spark-2.4.0-bin-hadoop2.7/python/pyspark.egg-info/dependency_links.txt\n",
      "spark-2.4.0-bin-hadoop2.7/python/pyspark.egg-info/requires.txt\n",
      "spark-2.4.0-bin-hadoop2.7/python/pyspark.egg-info/PKG-INFO\n",
      "spark-2.4.0-bin-hadoop2.7/python/pyspark.egg-info/SOURCES.txt\n",
      "spark-2.4.0-bin-hadoop2.7/python/MANIFEST.in\n",
      "spark-2.4.0-bin-hadoop2.7/python/test_support/\n",
      "spark-2.4.0-bin-hadoop2.7/python/test_support/userlibrary.py\n",
      "spark-2.4.0-bin-hadoop2.7/python/test_support/userlib-0.1.zip\n",
      "spark-2.4.0-bin-hadoop2.7/python/test_support/SimpleHTTPServer.py\n",
      "spark-2.4.0-bin-hadoop2.7/python/test_support/hello/\n",
      "spark-2.4.0-bin-hadoop2.7/python/test_support/hello/sub_hello/\n",
      "spark-2.4.0-bin-hadoop2.7/python/test_support/hello/sub_hello/sub_hello.txt\n",
      "spark-2.4.0-bin-hadoop2.7/python/test_support/hello/hello.txt\n",
      "spark-2.4.0-bin-hadoop2.7/python/test_support/sql/\n",
      "spark-2.4.0-bin-hadoop2.7/python/test_support/sql/people_array.json\n",
      "spark-2.4.0-bin-hadoop2.7/python/test_support/sql/text-test.txt\n",
      "spark-2.4.0-bin-hadoop2.7/python/test_support/sql/ages_newlines.csv\n",
      "spark-2.4.0-bin-hadoop2.7/python/test_support/sql/people.json\n",
      "spark-2.4.0-bin-hadoop2.7/python/test_support/sql/parquet_partitioned/\n",
      "spark-2.4.0-bin-hadoop2.7/python/test_support/sql/parquet_partitioned/year=2014/\n",
      "spark-2.4.0-bin-hadoop2.7/python/test_support/sql/parquet_partitioned/year=2014/month=9/\n",
      "spark-2.4.0-bin-hadoop2.7/python/test_support/sql/parquet_partitioned/year=2014/month=9/day=1/\n",
      "spark-2.4.0-bin-hadoop2.7/python/test_support/sql/parquet_partitioned/year=2014/month=9/day=1/part-r-00008.gz.parquet\n",
      "spark-2.4.0-bin-hadoop2.7/python/test_support/sql/parquet_partitioned/year=2014/month=9/day=1/.part-r-00008.gz.parquet.crc\n",
      "spark-2.4.0-bin-hadoop2.7/python/test_support/sql/parquet_partitioned/year=2015/\n",
      "spark-2.4.0-bin-hadoop2.7/python/test_support/sql/parquet_partitioned/year=2015/month=10/\n",
      "spark-2.4.0-bin-hadoop2.7/python/test_support/sql/parquet_partitioned/year=2015/month=10/day=26/\n",
      "spark-2.4.0-bin-hadoop2.7/python/test_support/sql/parquet_partitioned/year=2015/month=10/day=26/part-r-00005.gz.parquet\n",
      "spark-2.4.0-bin-hadoop2.7/python/test_support/sql/parquet_partitioned/year=2015/month=10/day=26/.part-r-00005.gz.parquet.crc\n",
      "spark-2.4.0-bin-hadoop2.7/python/test_support/sql/parquet_partitioned/year=2015/month=10/day=25/\n",
      "spark-2.4.0-bin-hadoop2.7/python/test_support/sql/parquet_partitioned/year=2015/month=10/day=25/.part-r-00002.gz.parquet.crc\n",
      "spark-2.4.0-bin-hadoop2.7/python/test_support/sql/parquet_partitioned/year=2015/month=10/day=25/part-r-00002.gz.parquet\n",
      "spark-2.4.0-bin-hadoop2.7/python/test_support/sql/parquet_partitioned/year=2015/month=10/day=25/part-r-00004.gz.parquet\n",
      "spark-2.4.0-bin-hadoop2.7/python/test_support/sql/parquet_partitioned/year=2015/month=10/day=25/.part-r-00004.gz.parquet.crc\n",
      "spark-2.4.0-bin-hadoop2.7/python/test_support/sql/parquet_partitioned/year=2015/month=9/\n",
      "spark-2.4.0-bin-hadoop2.7/python/test_support/sql/parquet_partitioned/year=2015/month=9/day=1/\n",
      "spark-2.4.0-bin-hadoop2.7/python/test_support/sql/parquet_partitioned/year=2015/month=9/day=1/.part-r-00007.gz.parquet.crc\n",
      "spark-2.4.0-bin-hadoop2.7/python/test_support/sql/parquet_partitioned/year=2015/month=9/day=1/part-r-00007.gz.parquet\n",
      "spark-2.4.0-bin-hadoop2.7/python/test_support/sql/parquet_partitioned/_common_metadata\n",
      "spark-2.4.0-bin-hadoop2.7/python/test_support/sql/parquet_partitioned/_metadata\n",
      "spark-2.4.0-bin-hadoop2.7/python/test_support/sql/parquet_partitioned/_SUCCESS\n",
      "spark-2.4.0-bin-hadoop2.7/python/test_support/sql/streaming/\n",
      "spark-2.4.0-bin-hadoop2.7/python/test_support/sql/streaming/text-test.txt\n",
      "spark-2.4.0-bin-hadoop2.7/python/test_support/sql/ages.csv\n",
      "spark-2.4.0-bin-hadoop2.7/python/test_support/sql/people1.json\n",
      "spark-2.4.0-bin-hadoop2.7/python/test_support/sql/orc_partitioned/\n",
      "spark-2.4.0-bin-hadoop2.7/python/test_support/sql/orc_partitioned/b=0/\n",
      "spark-2.4.0-bin-hadoop2.7/python/test_support/sql/orc_partitioned/b=0/c=0/\n",
      "spark-2.4.0-bin-hadoop2.7/python/test_support/sql/orc_partitioned/b=0/c=0/part-r-00000-829af031-b970-49d6-ad39-30460a0be2c8.orc\n",
      "spark-2.4.0-bin-hadoop2.7/python/test_support/sql/orc_partitioned/b=0/c=0/.part-r-00000-829af031-b970-49d6-ad39-30460a0be2c8.orc.crc\n",
      "spark-2.4.0-bin-hadoop2.7/python/test_support/sql/orc_partitioned/_SUCCESS\n",
      "spark-2.4.0-bin-hadoop2.7/python/test_support/sql/orc_partitioned/b=1/\n",
      "spark-2.4.0-bin-hadoop2.7/python/test_support/sql/orc_partitioned/b=1/c=1/\n",
      "spark-2.4.0-bin-hadoop2.7/python/test_support/sql/orc_partitioned/b=1/c=1/part-r-00000-829af031-b970-49d6-ad39-30460a0be2c8.orc\n",
      "spark-2.4.0-bin-hadoop2.7/python/test_support/sql/orc_partitioned/b=1/c=1/.part-r-00000-829af031-b970-49d6-ad39-30460a0be2c8.orc.crc\n",
      "spark-2.4.0-bin-hadoop2.7/python/test_support/sql/people_array_utf16le.json\n",
      "spark-2.4.0-bin-hadoop2.7/python/run-tests.py\n",
      "spark-2.4.0-bin-hadoop2.7/python/run-tests\n",
      "spark-2.4.0-bin-hadoop2.7/python/.coveragerc\n",
      "spark-2.4.0-bin-hadoop2.7/python/lib/\n",
      "spark-2.4.0-bin-hadoop2.7/python/lib/pyspark.zip\n",
      "spark-2.4.0-bin-hadoop2.7/python/lib/PY4J_LICENSE.txt\n",
      "spark-2.4.0-bin-hadoop2.7/python/lib/py4j-0.10.7-src.zip\n",
      "spark-2.4.0-bin-hadoop2.7/python/setup.py\n",
      "spark-2.4.0-bin-hadoop2.7/python/README.md\n",
      "spark-2.4.0-bin-hadoop2.7/python/dist/\n",
      "spark-2.4.0-bin-hadoop2.7/python/pylintrc\n",
      "spark-2.4.0-bin-hadoop2.7/conf/\n",
      "spark-2.4.0-bin-hadoop2.7/conf/fairscheduler.xml.template\n",
      "spark-2.4.0-bin-hadoop2.7/conf/spark-defaults.conf.template\n",
      "spark-2.4.0-bin-hadoop2.7/conf/docker.properties.template\n",
      "spark-2.4.0-bin-hadoop2.7/conf/log4j.properties.template\n",
      "spark-2.4.0-bin-hadoop2.7/conf/metrics.properties.template\n",
      "spark-2.4.0-bin-hadoop2.7/conf/slaves.template\n",
      "spark-2.4.0-bin-hadoop2.7/conf/spark-env.sh.template\n",
      "spark-2.4.0-bin-hadoop2.7/licenses/\n",
      "spark-2.4.0-bin-hadoop2.7/licenses/LICENSE-heapq.txt\n",
      "spark-2.4.0-bin-hadoop2.7/licenses/LICENSE-paranamer.txt\n",
      "spark-2.4.0-bin-hadoop2.7/licenses/LICENSE-graphlib-dot.txt\n",
      "spark-2.4.0-bin-hadoop2.7/licenses/LICENSE-minlog.txt\n",
      "spark-2.4.0-bin-hadoop2.7/licenses/LICENSE-slf4j.txt\n",
      "spark-2.4.0-bin-hadoop2.7/licenses/LICENSE-jquery.txt\n",
      "spark-2.4.0-bin-hadoop2.7/licenses/LICENSE-scopt.txt\n",
      "spark-2.4.0-bin-hadoop2.7/licenses/LICENSE-vis.txt\n",
      "spark-2.4.0-bin-hadoop2.7/licenses/LICENSE-sbt-launch-lib.txt\n",
      "spark-2.4.0-bin-hadoop2.7/licenses/LICENSE-spire.txt\n",
      "spark-2.4.0-bin-hadoop2.7/licenses/LICENSE-matchMedia-polyfill.txt\n",
      "spark-2.4.0-bin-hadoop2.7/licenses/LICENSE-kryo.txt\n",
      "spark-2.4.0-bin-hadoop2.7/licenses/LICENSE-arpack.txt\n",
      "spark-2.4.0-bin-hadoop2.7/licenses/LICENSE-scala.txt\n",
      "spark-2.4.0-bin-hadoop2.7/licenses/LICENSE-javassist.html\n",
      "spark-2.4.0-bin-hadoop2.7/licenses/LICENSE-json-formatter.txt\n",
      "spark-2.4.0-bin-hadoop2.7/licenses/LICENSE-jodd.txt\n",
      "spark-2.4.0-bin-hadoop2.7/licenses/LICENSE-automaton.txt\n",
      "spark-2.4.0-bin-hadoop2.7/licenses/LICENSE-janino.txt\n",
      "spark-2.4.0-bin-hadoop2.7/licenses/LICENSE-dagre-d3.txt\n",
      "spark-2.4.0-bin-hadoop2.7/licenses/LICENSE-sorttable.js.txt\n",
      "spark-2.4.0-bin-hadoop2.7/licenses/LICENSE-py4j.txt\n",
      "spark-2.4.0-bin-hadoop2.7/licenses/LICENSE-d3.min.js.txt\n",
      "spark-2.4.0-bin-hadoop2.7/licenses/LICENSE-respond.txt\n",
      "spark-2.4.0-bin-hadoop2.7/licenses/LICENSE-CC0.txt\n",
      "spark-2.4.0-bin-hadoop2.7/licenses/LICENSE-zstd.txt\n",
      "spark-2.4.0-bin-hadoop2.7/licenses/LICENSE-cloudpickle.txt\n",
      "spark-2.4.0-bin-hadoop2.7/licenses/LICENSE-pmml-model.txt\n",
      "spark-2.4.0-bin-hadoop2.7/licenses/LICENSE-pyrolite.txt\n",
      "spark-2.4.0-bin-hadoop2.7/licenses/LICENSE-netlib.txt\n",
      "spark-2.4.0-bin-hadoop2.7/licenses/LICENSE-AnchorJS.txt\n",
      "spark-2.4.0-bin-hadoop2.7/licenses/LICENSE-modernizr.txt\n",
      "spark-2.4.0-bin-hadoop2.7/licenses/LICENSE-machinist.txt\n",
      "spark-2.4.0-bin-hadoop2.7/licenses/LICENSE-javolution.txt\n",
      "spark-2.4.0-bin-hadoop2.7/licenses/LICENSE-xmlenc.txt\n",
      "spark-2.4.0-bin-hadoop2.7/licenses/LICENSE-join.txt\n",
      "spark-2.4.0-bin-hadoop2.7/licenses/LICENSE-jline.txt\n",
      "spark-2.4.0-bin-hadoop2.7/licenses/LICENSE-antlr.txt\n",
      "spark-2.4.0-bin-hadoop2.7/licenses/LICENSE-jtransforms.html\n",
      "spark-2.4.0-bin-hadoop2.7/licenses/LICENSE-leveldbjni.txt\n",
      "spark-2.4.0-bin-hadoop2.7/licenses/LICENSE-protobuf.txt\n",
      "spark-2.4.0-bin-hadoop2.7/licenses/LICENSE-bootstrap.txt\n",
      "spark-2.4.0-bin-hadoop2.7/licenses/LICENSE-zstd-jni.txt\n",
      "spark-2.4.0-bin-hadoop2.7/licenses/LICENSE-datatables.txt\n",
      "spark-2.4.0-bin-hadoop2.7/licenses/LICENSE-f2j.txt\n",
      "spark-2.4.0-bin-hadoop2.7/licenses/LICENSE-reflectasm.txt\n",
      "spark-2.4.0-bin-hadoop2.7/sbin/\n",
      "spark-2.4.0-bin-hadoop2.7/sbin/start-slave.sh\n",
      "spark-2.4.0-bin-hadoop2.7/sbin/stop-history-server.sh\n",
      "spark-2.4.0-bin-hadoop2.7/sbin/stop-slave.sh\n",
      "spark-2.4.0-bin-hadoop2.7/sbin/stop-mesos-dispatcher.sh\n",
      "spark-2.4.0-bin-hadoop2.7/sbin/start-all.sh\n",
      "spark-2.4.0-bin-hadoop2.7/sbin/spark-daemon.sh\n",
      "spark-2.4.0-bin-hadoop2.7/sbin/start-master.sh\n",
      "spark-2.4.0-bin-hadoop2.7/sbin/spark-daemons.sh\n",
      "spark-2.4.0-bin-hadoop2.7/sbin/spark-config.sh\n",
      "spark-2.4.0-bin-hadoop2.7/sbin/start-slaves.sh\n",
      "spark-2.4.0-bin-hadoop2.7/sbin/start-mesos-shuffle-service.sh\n",
      "spark-2.4.0-bin-hadoop2.7/sbin/start-history-server.sh\n",
      "spark-2.4.0-bin-hadoop2.7/sbin/start-shuffle-service.sh\n",
      "spark-2.4.0-bin-hadoop2.7/sbin/slaves.sh\n",
      "spark-2.4.0-bin-hadoop2.7/sbin/stop-slaves.sh\n",
      "spark-2.4.0-bin-hadoop2.7/sbin/stop-thriftserver.sh\n",
      "spark-2.4.0-bin-hadoop2.7/sbin/stop-master.sh\n",
      "spark-2.4.0-bin-hadoop2.7/sbin/stop-shuffle-service.sh\n",
      "spark-2.4.0-bin-hadoop2.7/sbin/start-mesos-dispatcher.sh\n",
      "spark-2.4.0-bin-hadoop2.7/sbin/stop-mesos-shuffle-service.sh\n",
      "spark-2.4.0-bin-hadoop2.7/sbin/start-thriftserver.sh\n",
      "spark-2.4.0-bin-hadoop2.7/sbin/stop-all.sh\n",
      "spark-2.4.0-bin-hadoop2.7/kubernetes/\n",
      "spark-2.4.0-bin-hadoop2.7/kubernetes/tests/\n",
      "spark-2.4.0-bin-hadoop2.7/kubernetes/tests/pyfiles.py\n",
      "spark-2.4.0-bin-hadoop2.7/kubernetes/tests/worker_memory_check.py\n",
      "spark-2.4.0-bin-hadoop2.7/kubernetes/tests/py_container_checks.py\n",
      "spark-2.4.0-bin-hadoop2.7/kubernetes/dockerfiles/\n",
      "spark-2.4.0-bin-hadoop2.7/kubernetes/dockerfiles/spark/\n",
      "spark-2.4.0-bin-hadoop2.7/kubernetes/dockerfiles/spark/Dockerfile\n",
      "spark-2.4.0-bin-hadoop2.7/kubernetes/dockerfiles/spark/bindings/\n",
      "spark-2.4.0-bin-hadoop2.7/kubernetes/dockerfiles/spark/bindings/python/\n",
      "spark-2.4.0-bin-hadoop2.7/kubernetes/dockerfiles/spark/bindings/python/Dockerfile\n",
      "spark-2.4.0-bin-hadoop2.7/kubernetes/dockerfiles/spark/bindings/R/\n",
      "spark-2.4.0-bin-hadoop2.7/kubernetes/dockerfiles/spark/bindings/R/Dockerfile\n",
      "spark-2.4.0-bin-hadoop2.7/kubernetes/dockerfiles/spark/entrypoint.sh\n",
      "spark-2.4.0-bin-hadoop2.7/jars/\n",
      "spark-2.4.0-bin-hadoop2.7/jars/commons-lang3-3.5.jar\n",
      "spark-2.4.0-bin-hadoop2.7/jars/arrow-format-0.10.0.jar\n",
      "spark-2.4.0-bin-hadoop2.7/jars/hadoop-yarn-common-2.7.3.jar\n",
      "spark-2.4.0-bin-hadoop2.7/jars/hadoop-mapreduce-client-jobclient-2.7.3.jar\n",
      "spark-2.4.0-bin-hadoop2.7/jars/json4s-jackson_2.11-3.5.3.jar\n",
      "spark-2.4.0-bin-hadoop2.7/jars/jersey-container-servlet-2.22.2.jar\n",
      "spark-2.4.0-bin-hadoop2.7/jars/hive-jdbc-1.2.1.spark2.jar\n",
      "spark-2.4.0-bin-hadoop2.7/jars/curator-framework-2.7.1.jar\n",
      "spark-2.4.0-bin-hadoop2.7/jars/parquet-column-1.10.0.jar\n",
      "spark-2.4.0-bin-hadoop2.7/jars/pyrolite-4.13.jar\n",
      "spark-2.4.0-bin-hadoop2.7/jars/bonecp-0.8.0.RELEASE.jar\n",
      "spark-2.4.0-bin-hadoop2.7/jars/hppc-0.7.2.jar\n",
      "spark-2.4.0-bin-hadoop2.7/jars/metrics-jvm-3.1.5.jar\n",
      "spark-2.4.0-bin-hadoop2.7/jars/jersey-guava-2.22.2.jar\n",
      "spark-2.4.0-bin-hadoop2.7/jars/guice-3.0.jar\n",
      "spark-2.4.0-bin-hadoop2.7/jars/super-csv-2.2.0.jar\n",
      "spark-2.4.0-bin-hadoop2.7/jars/jsp-api-2.1.jar\n",
      "spark-2.4.0-bin-hadoop2.7/jars/commons-net-3.1.jar\n",
      "spark-2.4.0-bin-hadoop2.7/jars/validation-api-1.1.0.Final.jar\n",
      "spark-2.4.0-bin-hadoop2.7/jars/json4s-ast_2.11-3.5.3.jar\n",
      "spark-2.4.0-bin-hadoop2.7/jars/javax.inject-1.jar\n",
      "spark-2.4.0-bin-hadoop2.7/jars/hadoop-mapreduce-client-shuffle-2.7.3.jar\n",
      "spark-2.4.0-bin-hadoop2.7/jars/avro-ipc-1.8.2.jar\n",
      "spark-2.4.0-bin-hadoop2.7/jars/spark-network-shuffle_2.11-2.4.0.jar\n",
      "spark-2.4.0-bin-hadoop2.7/jars/orc-shims-1.5.2.jar\n",
      "spark-2.4.0-bin-hadoop2.7/jars/jersey-container-servlet-core-2.22.2.jar\n",
      "spark-2.4.0-bin-hadoop2.7/jars/zjsonpatch-0.3.0.jar\n",
      "spark-2.4.0-bin-hadoop2.7/jars/scala-compiler-2.11.12.jar\n",
      "spark-2.4.0-bin-hadoop2.7/jars/spark-graphx_2.11-2.4.0.jar\n",
      "spark-2.4.0-bin-hadoop2.7/jars/curator-client-2.7.1.jar\n",
      "spark-2.4.0-bin-hadoop2.7/jars/jersey-media-jaxb-2.22.2.jar\n",
      "spark-2.4.0-bin-hadoop2.7/jars/avro-mapred-1.8.2-hadoop2.jar\n",
      "spark-2.4.0-bin-hadoop2.7/jars/antlr4-runtime-4.7.jar\n",
      "spark-2.4.0-bin-hadoop2.7/jars/spark-kubernetes_2.11-2.4.0.jar\n",
      "spark-2.4.0-bin-hadoop2.7/jars/jackson-module-jaxb-annotations-2.6.7.jar\n",
      "spark-2.4.0-bin-hadoop2.7/jars/okhttp-3.8.1.jar\n",
      "spark-2.4.0-bin-hadoop2.7/jars/leveldbjni-all-1.8.jar\n",
      "spark-2.4.0-bin-hadoop2.7/jars/spark-tags_2.11-2.4.0-tests.jar\n",
      "spark-2.4.0-bin-hadoop2.7/jars/jackson-mapper-asl-1.9.13.jar\n",
      "spark-2.4.0-bin-hadoop2.7/jars/ST4-4.0.4.jar\n",
      "spark-2.4.0-bin-hadoop2.7/jars/eigenbase-properties-1.1.5.jar\n",
      "spark-2.4.0-bin-hadoop2.7/jars/jackson-jaxrs-1.9.13.jar\n",
      "spark-2.4.0-bin-hadoop2.7/jars/commons-beanutils-1.7.0.jar\n",
      "spark-2.4.0-bin-hadoop2.7/jars/jackson-annotations-2.6.7.jar\n",
      "spark-2.4.0-bin-hadoop2.7/jars/kubernetes-model-2.0.0.jar\n",
      "spark-2.4.0-bin-hadoop2.7/jars/spark-tags_2.11-2.4.0.jar\n",
      "spark-2.4.0-bin-hadoop2.7/jars/jackson-module-paranamer-2.7.9.jar\n",
      "spark-2.4.0-bin-hadoop2.7/jars/jdo-api-3.0.1.jar\n",
      "spark-2.4.0-bin-hadoop2.7/jars/jersey-server-2.22.2.jar\n",
      "spark-2.4.0-bin-hadoop2.7/jars/scala-parser-combinators_2.11-1.1.0.jar\n",
      "spark-2.4.0-bin-hadoop2.7/jars/snappy-java-1.1.7.1.jar\n",
      "spark-2.4.0-bin-hadoop2.7/jars/arrow-memory-0.10.0.jar\n",
      "spark-2.4.0-bin-hadoop2.7/jars/hk2-utils-2.4.0-b34.jar\n",
      "spark-2.4.0-bin-hadoop2.7/jars/spark-repl_2.11-2.4.0.jar\n",
      "spark-2.4.0-bin-hadoop2.7/jars/joda-time-2.9.3.jar\n",
      "spark-2.4.0-bin-hadoop2.7/jars/commons-crypto-1.0.0.jar\n",
      "spark-2.4.0-bin-hadoop2.7/jars/aopalliance-1.0.jar\n",
      "spark-2.4.0-bin-hadoop2.7/jars/log4j-1.2.17.jar\n",
      "spark-2.4.0-bin-hadoop2.7/jars/commons-pool-1.5.4.jar\n",
      "spark-2.4.0-bin-hadoop2.7/jars/xz-1.5.jar\n",
      "spark-2.4.0-bin-hadoop2.7/jars/hk2-locator-2.4.0-b34.jar\n",
      "spark-2.4.0-bin-hadoop2.7/jars/libthrift-0.9.3.jar\n",
      "spark-2.4.0-bin-hadoop2.7/jars/chill-java-0.9.3.jar\n",
      "spark-2.4.0-bin-hadoop2.7/jars/logging-interceptor-3.8.1.jar\n",
      "spark-2.4.0-bin-hadoop2.7/jars/opencsv-2.3.jar\n",
      "spark-2.4.0-bin-hadoop2.7/jars/lz4-java-1.4.0.jar\n",
      "spark-2.4.0-bin-hadoop2.7/jars/spark-streaming_2.11-2.4.0.jar\n",
      "spark-2.4.0-bin-hadoop2.7/jars/slf4j-log4j12-1.7.16.jar\n",
      "spark-2.4.0-bin-hadoop2.7/jars/calcite-core-1.2.0-incubating.jar\n",
      "spark-2.4.0-bin-hadoop2.7/jars/breeze_2.11-0.13.2.jar\n",
      "spark-2.4.0-bin-hadoop2.7/jars/parquet-hadoop-bundle-1.6.0.jar\n",
      "spark-2.4.0-bin-hadoop2.7/jars/spark-hive-thriftserver_2.11-2.4.0.jar\n",
      "spark-2.4.0-bin-hadoop2.7/jars/javax.inject-2.4.0-b34.jar\n",
      "spark-2.4.0-bin-hadoop2.7/jars/metrics-json-3.1.5.jar\n",
      "spark-2.4.0-bin-hadoop2.7/jars/aopalliance-repackaged-2.4.0-b34.jar\n",
      "spark-2.4.0-bin-hadoop2.7/jars/spark-mesos_2.11-2.4.0.jar\n",
      "spark-2.4.0-bin-hadoop2.7/jars/jcl-over-slf4j-1.7.16.jar\n",
      "spark-2.4.0-bin-hadoop2.7/jars/antlr-runtime-3.4.jar\n",
      "spark-2.4.0-bin-hadoop2.7/jars/httpcore-4.4.10.jar\n",
      "spark-2.4.0-bin-hadoop2.7/jars/metrics-graphite-3.1.5.jar\n",
      "spark-2.4.0-bin-hadoop2.7/jars/netty-3.9.9.Final.jar\n",
      "spark-2.4.0-bin-hadoop2.7/jars/guava-14.0.1.jar\n",
      "spark-2.4.0-bin-hadoop2.7/jars/jaxb-api-2.2.2.jar\n",
      "spark-2.4.0-bin-hadoop2.7/jars/datanucleus-core-3.2.10.jar\n",
      "spark-2.4.0-bin-hadoop2.7/jars/compress-lzf-1.0.3.jar\n",
      "spark-2.4.0-bin-hadoop2.7/jars/antlr-2.7.7.jar\n",
      "spark-2.4.0-bin-hadoop2.7/jars/jersey-common-2.22.2.jar\n",
      "spark-2.4.0-bin-hadoop2.7/jars/hadoop-yarn-client-2.7.3.jar\n",
      "spark-2.4.0-bin-hadoop2.7/jars/commons-lang-2.6.jar\n",
      "spark-2.4.0-bin-hadoop2.7/jars/datanucleus-api-jdo-3.2.6.jar\n",
      "spark-2.4.0-bin-hadoop2.7/jars/commons-digester-1.8.jar\n",
      "spark-2.4.0-bin-hadoop2.7/jars/hadoop-annotations-2.7.3.jar\n",
      "spark-2.4.0-bin-hadoop2.7/jars/jtransforms-2.4.0.jar\n",
      "spark-2.4.0-bin-hadoop2.7/jars/jodd-core-3.5.2.jar\n",
      "spark-2.4.0-bin-hadoop2.7/jars/snakeyaml-1.15.jar\n",
      "spark-2.4.0-bin-hadoop2.7/jars/commons-cli-1.2.jar\n",
      "spark-2.4.0-bin-hadoop2.7/jars/parquet-format-2.4.0.jar\n",
      "spark-2.4.0-bin-hadoop2.7/jars/commons-configuration-1.6.jar\n",
      "spark-2.4.0-bin-hadoop2.7/jars/jpam-1.1.jar\n",
      "spark-2.4.0-bin-hadoop2.7/jars/kryo-shaded-4.0.2.jar\n",
      "spark-2.4.0-bin-hadoop2.7/jars/zookeeper-3.4.6.jar\n",
      "spark-2.4.0-bin-hadoop2.7/jars/javax.ws.rs-api-2.0.1.jar\n",
      "spark-2.4.0-bin-hadoop2.7/jars/jackson-core-asl-1.9.13.jar\n",
      "spark-2.4.0-bin-hadoop2.7/jars/hadoop-mapreduce-client-core-2.7.3.jar\n",
      "spark-2.4.0-bin-hadoop2.7/jars/json4s-scalap_2.11-3.5.3.jar\n",
      "spark-2.4.0-bin-hadoop2.7/jars/spark-kvstore_2.11-2.4.0.jar\n",
      "spark-2.4.0-bin-hadoop2.7/jars/avro-1.8.2.jar\n",
      "spark-2.4.0-bin-hadoop2.7/jars/hadoop-yarn-api-2.7.3.jar\n",
      "spark-2.4.0-bin-hadoop2.7/jars/api-asn1-api-1.0.0-M20.jar\n",
      "spark-2.4.0-bin-hadoop2.7/jars/paranamer-2.8.jar\n",
      "spark-2.4.0-bin-hadoop2.7/jars/RoaringBitmap-0.5.11.jar\n",
      "spark-2.4.0-bin-hadoop2.7/jars/janino-3.0.9.jar\n",
      "spark-2.4.0-bin-hadoop2.7/jars/stringtemplate-3.2.1.jar\n",
      "spark-2.4.0-bin-hadoop2.7/jars/apacheds-i18n-2.0.0-M15.jar\n",
      "spark-2.4.0-bin-hadoop2.7/jars/apache-log4j-extras-1.2.17.jar\n",
      "spark-2.4.0-bin-hadoop2.7/jars/xbean-asm6-shaded-4.8.jar\n",
      "spark-2.4.0-bin-hadoop2.7/jars/curator-recipes-2.7.1.jar\n",
      "spark-2.4.0-bin-hadoop2.7/jars/oro-2.0.8.jar\n",
      "spark-2.4.0-bin-hadoop2.7/jars/javax.annotation-api-1.2.jar\n",
      "spark-2.4.0-bin-hadoop2.7/jars/chill_2.11-0.9.3.jar\n",
      "spark-2.4.0-bin-hadoop2.7/jars/spark-mllib_2.11-2.4.0.jar\n",
      "spark-2.4.0-bin-hadoop2.7/jars/hive-exec-1.2.1.spark2.jar\n",
      "spark-2.4.0-bin-hadoop2.7/jars/hadoop-common-2.7.3.jar\n",
      "spark-2.4.0-bin-hadoop2.7/jars/commons-dbcp-1.4.jar\n",
      "spark-2.4.0-bin-hadoop2.7/jars/mesos-1.4.0-shaded-protobuf.jar\n",
      "spark-2.4.0-bin-hadoop2.7/jars/spark-core_2.11-2.4.0.jar\n",
      "spark-2.4.0-bin-hadoop2.7/jars/okio-1.13.0.jar\n",
      "spark-2.4.0-bin-hadoop2.7/jars/jackson-databind-2.6.7.1.jar\n",
      "spark-2.4.0-bin-hadoop2.7/jars/spark-catalyst_2.11-2.4.0.jar\n",
      "spark-2.4.0-bin-hadoop2.7/jars/netty-all-4.1.17.Final.jar\n",
      "spark-2.4.0-bin-hadoop2.7/jars/commons-compiler-3.0.9.jar\n",
      "spark-2.4.0-bin-hadoop2.7/jars/parquet-hadoop-1.10.0.jar\n",
      "spark-2.4.0-bin-hadoop2.7/jars/commons-math3-3.4.1.jar\n",
      "spark-2.4.0-bin-hadoop2.7/jars/httpclient-4.5.6.jar\n",
      "spark-2.4.0-bin-hadoop2.7/jars/jul-to-slf4j-1.7.16.jar\n",
      "spark-2.4.0-bin-hadoop2.7/jars/stax-api-1.0-2.jar\n",
      "spark-2.4.0-bin-hadoop2.7/jars/core-1.1.2.jar\n",
      "spark-2.4.0-bin-hadoop2.7/jars/commons-codec-1.10.jar\n",
      "spark-2.4.0-bin-hadoop2.7/jars/gson-2.2.4.jar\n",
      "spark-2.4.0-bin-hadoop2.7/jars/zstd-jni-1.3.2-2.jar\n",
      "spark-2.4.0-bin-hadoop2.7/jars/javolution-5.5.1.jar\n",
      "spark-2.4.0-bin-hadoop2.7/jars/univocity-parsers-2.7.3.jar\n",
      "spark-2.4.0-bin-hadoop2.7/jars/apacheds-kerberos-codec-2.0.0-M15.jar\n",
      "spark-2.4.0-bin-hadoop2.7/jars/kubernetes-client-3.0.0.jar\n",
      "spark-2.4.0-bin-hadoop2.7/jars/parquet-common-1.10.0.jar\n",
      "spark-2.4.0-bin-hadoop2.7/jars/hadoop-yarn-server-common-2.7.3.jar\n",
      "spark-2.4.0-bin-hadoop2.7/jars/libfb303-0.9.3.jar\n",
      "spark-2.4.0-bin-hadoop2.7/jars/orc-mapreduce-1.5.2-nohive.jar\n",
      "spark-2.4.0-bin-hadoop2.7/jars/jersey-client-2.22.2.jar\n",
      "spark-2.4.0-bin-hadoop2.7/jars/xercesImpl-2.9.1.jar\n",
      "spark-2.4.0-bin-hadoop2.7/jars/commons-collections-3.2.2.jar\n",
      "spark-2.4.0-bin-hadoop2.7/jars/machinist_2.11-0.6.1.jar\n",
      "spark-2.4.0-bin-hadoop2.7/jars/htrace-core-3.1.0-incubating.jar\n",
      "spark-2.4.0-bin-hadoop2.7/jars/jta-1.1.jar\n",
      "spark-2.4.0-bin-hadoop2.7/jars/osgi-resource-locator-1.0.1.jar\n",
      "spark-2.4.0-bin-hadoop2.7/jars/datanucleus-rdbms-3.2.9.jar\n",
      "spark-2.4.0-bin-hadoop2.7/jars/spark-unsafe_2.11-2.4.0.jar\n",
      "spark-2.4.0-bin-hadoop2.7/jars/javassist-3.18.1-GA.jar\n",
      "spark-2.4.0-bin-hadoop2.7/jars/spire-macros_2.11-0.13.0.jar\n",
      "spark-2.4.0-bin-hadoop2.7/jars/calcite-linq4j-1.2.0-incubating.jar\n",
      "spark-2.4.0-bin-hadoop2.7/jars/jline-2.14.6.jar\n",
      "spark-2.4.0-bin-hadoop2.7/jars/spark-launcher_2.11-2.4.0.jar\n",
      "spark-2.4.0-bin-hadoop2.7/jars/hadoop-client-2.7.3.jar\n",
      "spark-2.4.0-bin-hadoop2.7/jars/hive-metastore-1.2.1.spark2.jar\n",
      "spark-2.4.0-bin-hadoop2.7/jars/hadoop-yarn-server-web-proxy-2.7.3.jar\n",
      "spark-2.4.0-bin-hadoop2.7/jars/spire_2.11-0.13.0.jar\n",
      "spark-2.4.0-bin-hadoop2.7/jars/jackson-core-2.6.7.jar\n",
      "spark-2.4.0-bin-hadoop2.7/jars/api-util-1.0.0-M20.jar\n",
      "spark-2.4.0-bin-hadoop2.7/jars/commons-httpclient-3.1.jar\n",
      "spark-2.4.0-bin-hadoop2.7/jars/orc-core-1.5.2-nohive.jar\n",
      "spark-2.4.0-bin-hadoop2.7/jars/aircompressor-0.10.jar\n",
      "spark-2.4.0-bin-hadoop2.7/jars/guice-servlet-3.0.jar\n",
      "spark-2.4.0-bin-hadoop2.7/jars/scala-xml_2.11-1.0.5.jar\n",
      "spark-2.4.0-bin-hadoop2.7/jars/hadoop-mapreduce-client-common-2.7.3.jar\n",
      "spark-2.4.0-bin-hadoop2.7/jars/spark-hive_2.11-2.4.0.jar\n",
      "spark-2.4.0-bin-hadoop2.7/jars/protobuf-java-2.5.0.jar\n",
      "spark-2.4.0-bin-hadoop2.7/jars/parquet-jackson-1.10.0.jar\n",
      "spark-2.4.0-bin-hadoop2.7/jars/spark-sketch_2.11-2.4.0.jar\n",
      "spark-2.4.0-bin-hadoop2.7/jars/hive-beeline-1.2.1.spark2.jar\n",
      "spark-2.4.0-bin-hadoop2.7/jars/spark-network-common_2.11-2.4.0.jar\n",
      "spark-2.4.0-bin-hadoop2.7/jars/commons-beanutils-core-1.8.0.jar\n",
      "spark-2.4.0-bin-hadoop2.7/jars/stream-2.7.0.jar\n",
      "spark-2.4.0-bin-hadoop2.7/jars/commons-compress-1.8.1.jar\n",
      "spark-2.4.0-bin-hadoop2.7/jars/macro-compat_2.11-1.1.1.jar\n",
      "spark-2.4.0-bin-hadoop2.7/jars/activation-1.1.1.jar\n",
      "spark-2.4.0-bin-hadoop2.7/jars/breeze-macros_2.11-0.13.2.jar\n",
      "spark-2.4.0-bin-hadoop2.7/jars/derby-10.12.1.1.jar\n",
      "spark-2.4.0-bin-hadoop2.7/jars/shapeless_2.11-2.3.2.jar\n",
      "spark-2.4.0-bin-hadoop2.7/jars/minlog-1.3.0.jar\n",
      "spark-2.4.0-bin-hadoop2.7/jars/commons-logging-1.1.3.jar\n",
      "spark-2.4.0-bin-hadoop2.7/jars/spark-sql_2.11-2.4.0.jar\n",
      "spark-2.4.0-bin-hadoop2.7/jars/spark-mllib-local_2.11-2.4.0.jar\n",
      "spark-2.4.0-bin-hadoop2.7/jars/hive-cli-1.2.1.spark2.jar\n",
      "spark-2.4.0-bin-hadoop2.7/jars/metrics-core-3.1.5.jar\n",
      "spark-2.4.0-bin-hadoop2.7/jars/jackson-module-scala_2.11-2.6.7.1.jar\n",
      "spark-2.4.0-bin-hadoop2.7/jars/automaton-1.11-8.jar\n",
      "spark-2.4.0-bin-hadoop2.7/jars/objenesis-2.5.1.jar\n",
      "spark-2.4.0-bin-hadoop2.7/jars/json4s-core_2.11-3.5.3.jar\n",
      "spark-2.4.0-bin-hadoop2.7/jars/py4j-0.10.7.jar\n",
      "spark-2.4.0-bin-hadoop2.7/jars/jetty-6.1.26.jar\n",
      "spark-2.4.0-bin-hadoop2.7/jars/slf4j-api-1.7.16.jar\n",
      "spark-2.4.0-bin-hadoop2.7/jars/commons-io-2.4.jar\n",
      "spark-2.4.0-bin-hadoop2.7/jars/jackson-xc-1.9.13.jar\n",
      "spark-2.4.0-bin-hadoop2.7/jars/scala-reflect-2.11.12.jar\n",
      "spark-2.4.0-bin-hadoop2.7/jars/xmlenc-0.52.jar\n",
      "spark-2.4.0-bin-hadoop2.7/jars/spark-yarn_2.11-2.4.0.jar\n",
      "spark-2.4.0-bin-hadoop2.7/jars/jetty-util-6.1.26.jar\n",
      "spark-2.4.0-bin-hadoop2.7/jars/ivy-2.4.0.jar\n",
      "spark-2.4.0-bin-hadoop2.7/jars/scala-library-2.11.12.jar\n",
      "spark-2.4.0-bin-hadoop2.7/jars/snappy-0.2.jar\n",
      "spark-2.4.0-bin-hadoop2.7/jars/jsr305-1.3.9.jar\n",
      "spark-2.4.0-bin-hadoop2.7/jars/arpack_combined_all-0.1.jar\n",
      "spark-2.4.0-bin-hadoop2.7/jars/stax-api-1.0.1.jar\n",
      "spark-2.4.0-bin-hadoop2.7/jars/hadoop-mapreduce-client-app-2.7.3.jar\n",
      "spark-2.4.0-bin-hadoop2.7/jars/hk2-api-2.4.0-b34.jar\n",
      "spark-2.4.0-bin-hadoop2.7/jars/jackson-dataformat-yaml-2.6.7.jar\n",
      "spark-2.4.0-bin-hadoop2.7/jars/arrow-vector-0.10.0.jar\n",
      "spark-2.4.0-bin-hadoop2.7/jars/flatbuffers-1.2.0-3f79e055.jar\n",
      "spark-2.4.0-bin-hadoop2.7/jars/calcite-avatica-1.2.0-incubating.jar\n",
      "spark-2.4.0-bin-hadoop2.7/jars/generex-1.0.1.jar\n",
      "spark-2.4.0-bin-hadoop2.7/jars/JavaEWAH-0.3.2.jar\n",
      "spark-2.4.0-bin-hadoop2.7/jars/parquet-encoding-1.10.0.jar\n",
      "spark-2.4.0-bin-hadoop2.7/jars/javax.servlet-api-3.1.0.jar\n",
      "spark-2.4.0-bin-hadoop2.7/jars/hadoop-hdfs-2.7.3.jar\n",
      "spark-2.4.0-bin-hadoop2.7/jars/hadoop-auth-2.7.3.jar\n",
      "spark-2.4.0-bin-hadoop2.7/bin/\n",
      "spark-2.4.0-bin-hadoop2.7/bin/beeline\n",
      "spark-2.4.0-bin-hadoop2.7/bin/pyspark\n",
      "spark-2.4.0-bin-hadoop2.7/bin/pyspark.cmd\n",
      "spark-2.4.0-bin-hadoop2.7/bin/find-spark-home\n",
      "spark-2.4.0-bin-hadoop2.7/bin/spark-submit2.cmd\n",
      "spark-2.4.0-bin-hadoop2.7/bin/spark-class.cmd\n",
      "spark-2.4.0-bin-hadoop2.7/bin/run-example\n",
      "spark-2.4.0-bin-hadoop2.7/bin/sparkR2.cmd\n",
      "spark-2.4.0-bin-hadoop2.7/bin/spark-sql2.cmd\n",
      "spark-2.4.0-bin-hadoop2.7/bin/spark-submit.cmd\n",
      "spark-2.4.0-bin-hadoop2.7/bin/run-example.cmd\n",
      "spark-2.4.0-bin-hadoop2.7/bin/sparkR.cmd\n",
      "spark-2.4.0-bin-hadoop2.7/bin/spark-class2.cmd\n",
      "spark-2.4.0-bin-hadoop2.7/bin/spark-submit\n",
      "spark-2.4.0-bin-hadoop2.7/bin/sparkR\n",
      "spark-2.4.0-bin-hadoop2.7/bin/spark-sql.cmd\n",
      "spark-2.4.0-bin-hadoop2.7/bin/load-spark-env.cmd\n",
      "spark-2.4.0-bin-hadoop2.7/bin/pyspark2.cmd\n",
      "spark-2.4.0-bin-hadoop2.7/bin/docker-image-tool.sh\n",
      "spark-2.4.0-bin-hadoop2.7/bin/spark-shell\n",
      "spark-2.4.0-bin-hadoop2.7/bin/find-spark-home.cmd\n",
      "spark-2.4.0-bin-hadoop2.7/bin/spark-shell.cmd\n",
      "spark-2.4.0-bin-hadoop2.7/bin/load-spark-env.sh\n",
      "spark-2.4.0-bin-hadoop2.7/bin/spark-sql\n",
      "spark-2.4.0-bin-hadoop2.7/bin/spark-shell2.cmd\n",
      "spark-2.4.0-bin-hadoop2.7/bin/spark-class\n",
      "spark-2.4.0-bin-hadoop2.7/bin/beeline.cmd\n",
      "spark-2.4.0-bin-hadoop2.7/RELEASE\n",
      "spark-2.4.0-bin-hadoop2.7/R/\n",
      "spark-2.4.0-bin-hadoop2.7/R/lib/\n",
      "spark-2.4.0-bin-hadoop2.7/R/lib/SparkR/\n",
      "spark-2.4.0-bin-hadoop2.7/R/lib/SparkR/NAMESPACE\n",
      "spark-2.4.0-bin-hadoop2.7/R/lib/SparkR/doc/\n",
      "spark-2.4.0-bin-hadoop2.7/R/lib/SparkR/doc/sparkr-vignettes.Rmd\n",
      "spark-2.4.0-bin-hadoop2.7/R/lib/SparkR/doc/sparkr-vignettes.html\n",
      "spark-2.4.0-bin-hadoop2.7/R/lib/SparkR/doc/sparkr-vignettes.R\n",
      "spark-2.4.0-bin-hadoop2.7/R/lib/SparkR/doc/index.html\n",
      "spark-2.4.0-bin-hadoop2.7/R/lib/SparkR/DESCRIPTION\n",
      "spark-2.4.0-bin-hadoop2.7/R/lib/SparkR/R/\n",
      "spark-2.4.0-bin-hadoop2.7/R/lib/SparkR/R/SparkR.rdb\n",
      "spark-2.4.0-bin-hadoop2.7/R/lib/SparkR/R/SparkR\n",
      "spark-2.4.0-bin-hadoop2.7/R/lib/SparkR/R/SparkR.rdx\n",
      "spark-2.4.0-bin-hadoop2.7/R/lib/SparkR/html/\n",
      "spark-2.4.0-bin-hadoop2.7/R/lib/SparkR/html/R.css\n",
      "spark-2.4.0-bin-hadoop2.7/R/lib/SparkR/html/00Index.html\n",
      "spark-2.4.0-bin-hadoop2.7/R/lib/SparkR/help/\n",
      "spark-2.4.0-bin-hadoop2.7/R/lib/SparkR/help/AnIndex\n",
      "spark-2.4.0-bin-hadoop2.7/R/lib/SparkR/help/SparkR.rdb\n",
      "spark-2.4.0-bin-hadoop2.7/R/lib/SparkR/help/aliases.rds\n",
      "spark-2.4.0-bin-hadoop2.7/R/lib/SparkR/help/SparkR.rdx\n",
      "spark-2.4.0-bin-hadoop2.7/R/lib/SparkR/help/paths.rds\n",
      "spark-2.4.0-bin-hadoop2.7/R/lib/SparkR/profile/\n",
      "spark-2.4.0-bin-hadoop2.7/R/lib/SparkR/profile/general.R\n",
      "spark-2.4.0-bin-hadoop2.7/R/lib/SparkR/profile/shell.R\n",
      "spark-2.4.0-bin-hadoop2.7/R/lib/SparkR/tests/\n",
      "spark-2.4.0-bin-hadoop2.7/R/lib/SparkR/tests/testthat/\n",
      "spark-2.4.0-bin-hadoop2.7/R/lib/SparkR/tests/testthat/test_basic.R\n",
      "spark-2.4.0-bin-hadoop2.7/R/lib/SparkR/Meta/\n",
      "spark-2.4.0-bin-hadoop2.7/R/lib/SparkR/Meta/vignette.rds\n",
      "spark-2.4.0-bin-hadoop2.7/R/lib/SparkR/Meta/package.rds\n",
      "spark-2.4.0-bin-hadoop2.7/R/lib/SparkR/Meta/Rd.rds\n",
      "spark-2.4.0-bin-hadoop2.7/R/lib/SparkR/Meta/nsInfo.rds\n",
      "spark-2.4.0-bin-hadoop2.7/R/lib/SparkR/Meta/hsearch.rds\n",
      "spark-2.4.0-bin-hadoop2.7/R/lib/SparkR/Meta/features.rds\n",
      "spark-2.4.0-bin-hadoop2.7/R/lib/SparkR/Meta/links.rds\n",
      "spark-2.4.0-bin-hadoop2.7/R/lib/SparkR/worker/\n",
      "spark-2.4.0-bin-hadoop2.7/R/lib/SparkR/worker/daemon.R\n",
      "spark-2.4.0-bin-hadoop2.7/R/lib/SparkR/worker/worker.R\n",
      "spark-2.4.0-bin-hadoop2.7/R/lib/SparkR/INDEX\n",
      "spark-2.4.0-bin-hadoop2.7/R/lib/sparkr.zip\n",
      "spark-2.4.0-bin-hadoop2.7/yarn/\n",
      "spark-2.4.0-bin-hadoop2.7/yarn/spark-2.4.0-yarn-shuffle.jar\n",
      "spark-2.4.0-bin-hadoop2.7/examples/\n",
      "spark-2.4.0-bin-hadoop2.7/examples/jars/\n",
      "spark-2.4.0-bin-hadoop2.7/examples/jars/spark-examples_2.11-2.4.0.jar\n",
      "spark-2.4.0-bin-hadoop2.7/examples/jars/scopt_2.11-3.7.0.jar\n",
      "spark-2.4.0-bin-hadoop2.7/examples/src/\n",
      "spark-2.4.0-bin-hadoop2.7/examples/src/main/\n",
      "spark-2.4.0-bin-hadoop2.7/examples/src/main/python/\n",
      "spark-2.4.0-bin-hadoop2.7/examples/src/main/python/als.py\n",
      "spark-2.4.0-bin-hadoop2.7/examples/src/main/python/pagerank.py\n",
      "spark-2.4.0-bin-hadoop2.7/examples/src/main/python/mllib/\n",
      "spark-2.4.0-bin-hadoop2.7/examples/src/main/python/mllib/ranking_metrics_example.py\n",
      "spark-2.4.0-bin-hadoop2.7/examples/src/main/python/mllib/gradient_boosting_regression_example.py\n",
      "spark-2.4.0-bin-hadoop2.7/examples/src/main/python/mllib/decision_tree_classification_example.py\n",
      "spark-2.4.0-bin-hadoop2.7/examples/src/main/python/mllib/tf_idf_example.py\n",
      "spark-2.4.0-bin-hadoop2.7/examples/src/main/python/mllib/decision_tree_regression_example.py\n",
      "spark-2.4.0-bin-hadoop2.7/examples/src/main/python/mllib/k_means_example.py\n",
      "spark-2.4.0-bin-hadoop2.7/examples/src/main/python/mllib/streaming_linear_regression_example.py\n",
      "spark-2.4.0-bin-hadoop2.7/examples/src/main/python/mllib/random_forest_regression_example.py\n",
      "spark-2.4.0-bin-hadoop2.7/examples/src/main/python/mllib/random_forest_classification_example.py\n",
      "spark-2.4.0-bin-hadoop2.7/examples/src/main/python/mllib/pca_rowmatrix_example.py\n",
      "spark-2.4.0-bin-hadoop2.7/examples/src/main/python/mllib/elementwise_product_example.py\n",
      "spark-2.4.0-bin-hadoop2.7/examples/src/main/python/mllib/stratified_sampling_example.py\n",
      "spark-2.4.0-bin-hadoop2.7/examples/src/main/python/mllib/multi_class_metrics_example.py\n",
      "spark-2.4.0-bin-hadoop2.7/examples/src/main/python/mllib/gradient_boosting_classification_example.py\n",
      "spark-2.4.0-bin-hadoop2.7/examples/src/main/python/mllib/fpgrowth_example.py\n",
      "spark-2.4.0-bin-hadoop2.7/examples/src/main/python/mllib/binary_classification_metrics_example.py\n",
      "spark-2.4.0-bin-hadoop2.7/examples/src/main/python/mllib/sampled_rdds.py\n",
      "spark-2.4.0-bin-hadoop2.7/examples/src/main/python/mllib/logistic_regression_with_lbfgs_example.py\n",
      "spark-2.4.0-bin-hadoop2.7/examples/src/main/python/mllib/kernel_density_estimation_example.py\n",
      "spark-2.4.0-bin-hadoop2.7/examples/src/main/python/mllib/logistic_regression.py\n",
      "spark-2.4.0-bin-hadoop2.7/examples/src/main/python/mllib/hypothesis_testing_example.py\n",
      "spark-2.4.0-bin-hadoop2.7/examples/src/main/python/mllib/svm_with_sgd_example.py\n",
      "spark-2.4.0-bin-hadoop2.7/examples/src/main/python/mllib/streaming_k_means_example.py\n",
      "spark-2.4.0-bin-hadoop2.7/examples/src/main/python/mllib/correlations.py\n",
      "spark-2.4.0-bin-hadoop2.7/examples/src/main/python/mllib/correlations_example.py\n",
      "spark-2.4.0-bin-hadoop2.7/examples/src/main/python/mllib/regression_metrics_example.py\n",
      "spark-2.4.0-bin-hadoop2.7/examples/src/main/python/mllib/naive_bayes_example.py\n",
      "spark-2.4.0-bin-hadoop2.7/examples/src/main/python/mllib/gaussian_mixture_model.py\n",
      "spark-2.4.0-bin-hadoop2.7/examples/src/main/python/mllib/hypothesis_testing_kolmogorov_smirnov_test_example.py\n",
      "spark-2.4.0-bin-hadoop2.7/examples/src/main/python/mllib/word2vec.py\n",
      "spark-2.4.0-bin-hadoop2.7/examples/src/main/python/mllib/latent_dirichlet_allocation_example.py\n",
      "spark-2.4.0-bin-hadoop2.7/examples/src/main/python/mllib/recommendation_example.py\n",
      "spark-2.4.0-bin-hadoop2.7/examples/src/main/python/mllib/linear_regression_with_sgd_example.py\n",
      "spark-2.4.0-bin-hadoop2.7/examples/src/main/python/mllib/random_rdd_generation.py\n",
      "spark-2.4.0-bin-hadoop2.7/examples/src/main/python/mllib/bisecting_k_means_example.py\n",
      "spark-2.4.0-bin-hadoop2.7/examples/src/main/python/mllib/summary_statistics_example.py\n",
      "spark-2.4.0-bin-hadoop2.7/examples/src/main/python/mllib/word2vec_example.py\n",
      "spark-2.4.0-bin-hadoop2.7/examples/src/main/python/mllib/kmeans.py\n",
      "spark-2.4.0-bin-hadoop2.7/examples/src/main/python/mllib/standard_scaler_example.py\n",
      "spark-2.4.0-bin-hadoop2.7/examples/src/main/python/mllib/multi_label_metrics_example.py\n",
      "spark-2.4.0-bin-hadoop2.7/examples/src/main/python/mllib/svd_example.py\n",
      "spark-2.4.0-bin-hadoop2.7/examples/src/main/python/mllib/normalizer_example.py\n",
      "spark-2.4.0-bin-hadoop2.7/examples/src/main/python/mllib/power_iteration_clustering_example.py\n",
      "spark-2.4.0-bin-hadoop2.7/examples/src/main/python/mllib/isotonic_regression_example.py\n",
      "spark-2.4.0-bin-hadoop2.7/examples/src/main/python/mllib/gaussian_mixture_example.py\n",
      "spark-2.4.0-bin-hadoop2.7/examples/src/main/python/parquet_inputformat.py\n",
      "spark-2.4.0-bin-hadoop2.7/examples/src/main/python/logistic_regression.py\n",
      "spark-2.4.0-bin-hadoop2.7/examples/src/main/python/ml/\n",
      "spark-2.4.0-bin-hadoop2.7/examples/src/main/python/ml/rformula_example.py\n",
      "spark-2.4.0-bin-hadoop2.7/examples/src/main/python/ml/min_max_scaler_example.py\n",
      "spark-2.4.0-bin-hadoop2.7/examples/src/main/python/ml/min_hash_lsh_example.py\n",
      "spark-2.4.0-bin-hadoop2.7/examples/src/main/python/ml/gradient_boosted_tree_regressor_example.py\n",
      "spark-2.4.0-bin-hadoop2.7/examples/src/main/python/ml/decision_tree_classification_example.py\n",
      "spark-2.4.0-bin-hadoop2.7/examples/src/main/python/ml/logistic_regression_with_elastic_net.py\n",
      "spark-2.4.0-bin-hadoop2.7/examples/src/main/python/ml/tf_idf_example.py\n",
      "spark-2.4.0-bin-hadoop2.7/examples/src/main/python/ml/decision_tree_regression_example.py\n",
      "spark-2.4.0-bin-hadoop2.7/examples/src/main/python/ml/vector_slicer_example.py\n",
      "spark-2.4.0-bin-hadoop2.7/examples/src/main/python/ml/als_example.py\n",
      "spark-2.4.0-bin-hadoop2.7/examples/src/main/python/ml/cross_validator.py\n",
      "spark-2.4.0-bin-hadoop2.7/examples/src/main/python/ml/onehot_encoder_estimator_example.py\n",
      "spark-2.4.0-bin-hadoop2.7/examples/src/main/python/ml/gradient_boosted_tree_classifier_example.py\n",
      "spark-2.4.0-bin-hadoop2.7/examples/src/main/python/ml/generalized_linear_regression_example.py\n",
      "spark-2.4.0-bin-hadoop2.7/examples/src/main/python/ml/random_forest_regressor_example.py\n",
      "spark-2.4.0-bin-hadoop2.7/examples/src/main/python/ml/chisq_selector_example.py\n",
      "spark-2.4.0-bin-hadoop2.7/examples/src/main/python/ml/max_abs_scaler_example.py\n",
      "spark-2.4.0-bin-hadoop2.7/examples/src/main/python/ml/n_gram_example.py\n",
      "spark-2.4.0-bin-hadoop2.7/examples/src/main/python/ml/elementwise_product_example.py\n",
      "spark-2.4.0-bin-hadoop2.7/examples/src/main/python/ml/binarizer_example.py\n",
      "spark-2.4.0-bin-hadoop2.7/examples/src/main/python/ml/bucketed_random_projection_lsh_example.py\n",
      "spark-2.4.0-bin-hadoop2.7/examples/src/main/python/ml/imputer_example.py\n",
      "spark-2.4.0-bin-hadoop2.7/examples/src/main/python/ml/correlation_example.py\n",
      "spark-2.4.0-bin-hadoop2.7/examples/src/main/python/ml/count_vectorizer_example.py\n",
      "spark-2.4.0-bin-hadoop2.7/examples/src/main/python/ml/multilayer_perceptron_classification.py\n",
      "spark-2.4.0-bin-hadoop2.7/examples/src/main/python/ml/stopwords_remover_example.py\n",
      "spark-2.4.0-bin-hadoop2.7/examples/src/main/python/ml/fpgrowth_example.py\n",
      "spark-2.4.0-bin-hadoop2.7/examples/src/main/python/ml/kmeans_example.py\n",
      "spark-2.4.0-bin-hadoop2.7/examples/src/main/python/ml/chi_square_test_example.py\n",
      "spark-2.4.0-bin-hadoop2.7/examples/src/main/python/ml/aft_survival_regression.py\n",
      "spark-2.4.0-bin-hadoop2.7/examples/src/main/python/ml/dct_example.py\n",
      "spark-2.4.0-bin-hadoop2.7/examples/src/main/python/ml/dataframe_example.py\n",
      "spark-2.4.0-bin-hadoop2.7/examples/src/main/python/ml/pca_example.py\n",
      "spark-2.4.0-bin-hadoop2.7/examples/src/main/python/ml/pipeline_example.py\n",
      "spark-2.4.0-bin-hadoop2.7/examples/src/main/python/ml/polynomial_expansion_example.py\n",
      "spark-2.4.0-bin-hadoop2.7/examples/src/main/python/ml/tokenizer_example.py\n",
      "spark-2.4.0-bin-hadoop2.7/examples/src/main/python/ml/estimator_transformer_param_example.py\n",
      "spark-2.4.0-bin-hadoop2.7/examples/src/main/python/ml/naive_bayes_example.py\n",
      "spark-2.4.0-bin-hadoop2.7/examples/src/main/python/ml/string_indexer_example.py\n",
      "spark-2.4.0-bin-hadoop2.7/examples/src/main/python/ml/summarizer_example.py\n",
      "spark-2.4.0-bin-hadoop2.7/examples/src/main/python/ml/bucketizer_example.py\n",
      "spark-2.4.0-bin-hadoop2.7/examples/src/main/python/ml/vector_assembler_example.py\n",
      "spark-2.4.0-bin-hadoop2.7/examples/src/main/python/ml/sql_transformer.py\n",
      "spark-2.4.0-bin-hadoop2.7/examples/src/main/python/ml/feature_hasher_example.py\n",
      "spark-2.4.0-bin-hadoop2.7/examples/src/main/python/ml/vector_indexer_example.py\n",
      "spark-2.4.0-bin-hadoop2.7/examples/src/main/python/ml/train_validation_split.py\n",
      "spark-2.4.0-bin-hadoop2.7/examples/src/main/python/ml/vector_size_hint_example.py\n",
      "spark-2.4.0-bin-hadoop2.7/examples/src/main/python/ml/one_vs_rest_example.py\n",
      "spark-2.4.0-bin-hadoop2.7/examples/src/main/python/ml/logistic_regression_summary_example.py\n",
      "spark-2.4.0-bin-hadoop2.7/examples/src/main/python/ml/bisecting_k_means_example.py\n",
      "spark-2.4.0-bin-hadoop2.7/examples/src/main/python/ml/multiclass_logistic_regression_with_elastic_net.py\n",
      "spark-2.4.0-bin-hadoop2.7/examples/src/main/python/ml/index_to_string_example.py\n",
      "spark-2.4.0-bin-hadoop2.7/examples/src/main/python/ml/linear_regression_with_elastic_net.py\n",
      "spark-2.4.0-bin-hadoop2.7/examples/src/main/python/ml/linearsvc.py\n",
      "spark-2.4.0-bin-hadoop2.7/examples/src/main/python/ml/word2vec_example.py\n",
      "spark-2.4.0-bin-hadoop2.7/examples/src/main/python/ml/standard_scaler_example.py\n",
      "spark-2.4.0-bin-hadoop2.7/examples/src/main/python/ml/prefixspan_example.py\n",
      "spark-2.4.0-bin-hadoop2.7/examples/src/main/python/ml/lda_example.py\n",
      "spark-2.4.0-bin-hadoop2.7/examples/src/main/python/ml/normalizer_example.py\n",
      "spark-2.4.0-bin-hadoop2.7/examples/src/main/python/ml/quantile_discretizer_example.py\n",
      "spark-2.4.0-bin-hadoop2.7/examples/src/main/python/ml/random_forest_classifier_example.py\n",
      "spark-2.4.0-bin-hadoop2.7/examples/src/main/python/ml/isotonic_regression_example.py\n",
      "spark-2.4.0-bin-hadoop2.7/examples/src/main/python/ml/gaussian_mixture_example.py\n",
      "spark-2.4.0-bin-hadoop2.7/examples/src/main/python/transitive_closure.py\n",
      "spark-2.4.0-bin-hadoop2.7/examples/src/main/python/streaming/\n",
      "spark-2.4.0-bin-hadoop2.7/examples/src/main/python/streaming/flume_wordcount.py\n",
      "spark-2.4.0-bin-hadoop2.7/examples/src/main/python/streaming/queue_stream.py\n",
      "spark-2.4.0-bin-hadoop2.7/examples/src/main/python/streaming/recoverable_network_wordcount.py\n",
      "spark-2.4.0-bin-hadoop2.7/examples/src/main/python/streaming/kafka_wordcount.py\n",
      "spark-2.4.0-bin-hadoop2.7/examples/src/main/python/streaming/hdfs_wordcount.py\n",
      "spark-2.4.0-bin-hadoop2.7/examples/src/main/python/streaming/direct_kafka_wordcount.py\n",
      "spark-2.4.0-bin-hadoop2.7/examples/src/main/python/streaming/stateful_network_wordcount.py\n",
      "spark-2.4.0-bin-hadoop2.7/examples/src/main/python/streaming/network_wordcount.py\n",
      "spark-2.4.0-bin-hadoop2.7/examples/src/main/python/streaming/sql_network_wordcount.py\n",
      "spark-2.4.0-bin-hadoop2.7/examples/src/main/python/streaming/network_wordjoinsentiments.py\n",
      "spark-2.4.0-bin-hadoop2.7/examples/src/main/python/wordcount.py\n",
      "spark-2.4.0-bin-hadoop2.7/examples/src/main/python/status_api_demo.py\n",
      "spark-2.4.0-bin-hadoop2.7/examples/src/main/python/sql/\n",
      "spark-2.4.0-bin-hadoop2.7/examples/src/main/python/sql/basic.py\n",
      "spark-2.4.0-bin-hadoop2.7/examples/src/main/python/sql/arrow.py\n",
      "spark-2.4.0-bin-hadoop2.7/examples/src/main/python/sql/streaming/\n",
      "spark-2.4.0-bin-hadoop2.7/examples/src/main/python/sql/streaming/structured_kafka_wordcount.py\n",
      "spark-2.4.0-bin-hadoop2.7/examples/src/main/python/sql/streaming/structured_network_wordcount_windowed.py\n",
      "spark-2.4.0-bin-hadoop2.7/examples/src/main/python/sql/streaming/structured_network_wordcount.py\n",
      "spark-2.4.0-bin-hadoop2.7/examples/src/main/python/sql/datasource.py\n",
      "spark-2.4.0-bin-hadoop2.7/examples/src/main/python/sql/hive.py\n",
      "spark-2.4.0-bin-hadoop2.7/examples/src/main/python/kmeans.py\n",
      "spark-2.4.0-bin-hadoop2.7/examples/src/main/python/sort.py\n",
      "spark-2.4.0-bin-hadoop2.7/examples/src/main/python/pi.py\n",
      "spark-2.4.0-bin-hadoop2.7/examples/src/main/python/avro_inputformat.py\n",
      "spark-2.4.0-bin-hadoop2.7/examples/src/main/scala/\n",
      "spark-2.4.0-bin-hadoop2.7/examples/src/main/scala/org/\n",
      "spark-2.4.0-bin-hadoop2.7/examples/src/main/scala/org/apache/\n",
      "spark-2.4.0-bin-hadoop2.7/examples/src/main/scala/org/apache/spark/\n",
      "spark-2.4.0-bin-hadoop2.7/examples/src/main/scala/org/apache/spark/examples/\n",
      "spark-2.4.0-bin-hadoop2.7/examples/src/main/scala/org/apache/spark/examples/LocalPi.scala\n",
      "spark-2.4.0-bin-hadoop2.7/examples/src/main/scala/org/apache/spark/examples/SparkTC.scala\n",
      "spark-2.4.0-bin-hadoop2.7/examples/src/main/scala/org/apache/spark/examples/pythonconverters/\n",
      "spark-2.4.0-bin-hadoop2.7/examples/src/main/scala/org/apache/spark/examples/pythonconverters/AvroConverters.scala\n",
      "spark-2.4.0-bin-hadoop2.7/examples/src/main/scala/org/apache/spark/examples/HdfsTest.scala\n",
      "spark-2.4.0-bin-hadoop2.7/examples/src/main/scala/org/apache/spark/examples/SparkHdfsLR.scala\n",
      "spark-2.4.0-bin-hadoop2.7/examples/src/main/scala/org/apache/spark/examples/graphx/\n",
      "spark-2.4.0-bin-hadoop2.7/examples/src/main/scala/org/apache/spark/examples/graphx/LiveJournalPageRank.scala\n",
      "spark-2.4.0-bin-hadoop2.7/examples/src/main/scala/org/apache/spark/examples/graphx/Analytics.scala\n",
      "spark-2.4.0-bin-hadoop2.7/examples/src/main/scala/org/apache/spark/examples/graphx/ConnectedComponentsExample.scala\n",
      "spark-2.4.0-bin-hadoop2.7/examples/src/main/scala/org/apache/spark/examples/graphx/TriangleCountingExample.scala\n",
      "spark-2.4.0-bin-hadoop2.7/examples/src/main/scala/org/apache/spark/examples/graphx/SynthBenchmark.scala\n",
      "spark-2.4.0-bin-hadoop2.7/examples/src/main/scala/org/apache/spark/examples/graphx/ComprehensiveExample.scala\n",
      "spark-2.4.0-bin-hadoop2.7/examples/src/main/scala/org/apache/spark/examples/graphx/SSSPExample.scala\n",
      "spark-2.4.0-bin-hadoop2.7/examples/src/main/scala/org/apache/spark/examples/graphx/AggregateMessagesExample.scala\n",
      "spark-2.4.0-bin-hadoop2.7/examples/src/main/scala/org/apache/spark/examples/graphx/PageRankExample.scala\n",
      "spark-2.4.0-bin-hadoop2.7/examples/src/main/scala/org/apache/spark/examples/SparkPageRank.scala\n",
      "spark-2.4.0-bin-hadoop2.7/examples/src/main/scala/org/apache/spark/examples/LocalKMeans.scala\n",
      "spark-2.4.0-bin-hadoop2.7/examples/src/main/scala/org/apache/spark/examples/BroadcastTest.scala\n",
      "spark-2.4.0-bin-hadoop2.7/examples/src/main/scala/org/apache/spark/examples/SparkLR.scala\n",
      "spark-2.4.0-bin-hadoop2.7/examples/src/main/scala/org/apache/spark/examples/mllib/\n",
      "spark-2.4.0-bin-hadoop2.7/examples/src/main/scala/org/apache/spark/examples/mllib/StreamingTestExample.scala\n",
      "spark-2.4.0-bin-hadoop2.7/examples/src/main/scala/org/apache/spark/examples/mllib/StreamingLinearRegressionExample.scala\n",
      "spark-2.4.0-bin-hadoop2.7/examples/src/main/scala/org/apache/spark/examples/mllib/LatentDirichletAllocationExample.scala\n",
      "spark-2.4.0-bin-hadoop2.7/examples/src/main/scala/org/apache/spark/examples/mllib/StandardScalerExample.scala\n",
      "spark-2.4.0-bin-hadoop2.7/examples/src/main/scala/org/apache/spark/examples/mllib/GaussianMixtureExample.scala\n",
      "spark-2.4.0-bin-hadoop2.7/examples/src/main/scala/org/apache/spark/examples/mllib/ElementwiseProductExample.scala\n",
      "spark-2.4.0-bin-hadoop2.7/examples/src/main/scala/org/apache/spark/examples/mllib/LBFGSExample.scala\n",
      "spark-2.4.0-bin-hadoop2.7/examples/src/main/scala/org/apache/spark/examples/mllib/SampledRDDs.scala\n",
      "spark-2.4.0-bin-hadoop2.7/examples/src/main/scala/org/apache/spark/examples/mllib/GradientBoostedTreesRunner.scala\n",
      "spark-2.4.0-bin-hadoop2.7/examples/src/main/scala/org/apache/spark/examples/mllib/TallSkinnyPCA.scala\n",
      "spark-2.4.0-bin-hadoop2.7/examples/src/main/scala/org/apache/spark/examples/mllib/DecisionTreeRunner.scala\n",
      "spark-2.4.0-bin-hadoop2.7/examples/src/main/scala/org/apache/spark/examples/mllib/GradientBoostingClassificationExample.scala\n",
      "spark-2.4.0-bin-hadoop2.7/examples/src/main/scala/org/apache/spark/examples/mllib/PrefixSpanExample.scala\n",
      "spark-2.4.0-bin-hadoop2.7/examples/src/main/scala/org/apache/spark/examples/mllib/Correlations.scala\n",
      "spark-2.4.0-bin-hadoop2.7/examples/src/main/scala/org/apache/spark/examples/mllib/SimpleFPGrowth.scala\n",
      "spark-2.4.0-bin-hadoop2.7/examples/src/main/scala/org/apache/spark/examples/mllib/Word2VecExample.scala\n",
      "spark-2.4.0-bin-hadoop2.7/examples/src/main/scala/org/apache/spark/examples/mllib/RankingMetricsExample.scala\n",
      "spark-2.4.0-bin-hadoop2.7/examples/src/main/scala/org/apache/spark/examples/mllib/NaiveBayesExample.scala\n",
      "spark-2.4.0-bin-hadoop2.7/examples/src/main/scala/org/apache/spark/examples/mllib/IsotonicRegressionExample.scala\n",
      "spark-2.4.0-bin-hadoop2.7/examples/src/main/scala/org/apache/spark/examples/mllib/LinearRegression.scala\n",
      "spark-2.4.0-bin-hadoop2.7/examples/src/main/scala/org/apache/spark/examples/mllib/MultivariateSummarizer.scala\n",
      "spark-2.4.0-bin-hadoop2.7/examples/src/main/scala/org/apache/spark/examples/mllib/TallSkinnySVD.scala\n",
      "spark-2.4.0-bin-hadoop2.7/examples/src/main/scala/org/apache/spark/examples/mllib/FPGrowthExample.scala\n",
      "spark-2.4.0-bin-hadoop2.7/examples/src/main/scala/org/apache/spark/examples/mllib/SVMWithSGDExample.scala\n",
      "spark-2.4.0-bin-hadoop2.7/examples/src/main/scala/org/apache/spark/examples/mllib/RecommendationExample.scala\n",
      "spark-2.4.0-bin-hadoop2.7/examples/src/main/scala/org/apache/spark/examples/mllib/PCAOnSourceVectorExample.scala\n",
      "spark-2.4.0-bin-hadoop2.7/examples/src/main/scala/org/apache/spark/examples/mllib/MovieLensALS.scala\n",
      "spark-2.4.0-bin-hadoop2.7/examples/src/main/scala/org/apache/spark/examples/mllib/DecisionTreeClassificationExample.scala\n",
      "spark-2.4.0-bin-hadoop2.7/examples/src/main/scala/org/apache/spark/examples/mllib/KMeansExample.scala\n",
      "spark-2.4.0-bin-hadoop2.7/examples/src/main/scala/org/apache/spark/examples/mllib/PMMLModelExportExample.scala\n",
      "spark-2.4.0-bin-hadoop2.7/examples/src/main/scala/org/apache/spark/examples/mllib/LogisticRegressionWithLBFGSExample.scala\n",
      "spark-2.4.0-bin-hadoop2.7/examples/src/main/scala/org/apache/spark/examples/mllib/StratifiedSamplingExample.scala\n",
      "spark-2.4.0-bin-hadoop2.7/examples/src/main/scala/org/apache/spark/examples/mllib/CosineSimilarity.scala\n",
      "spark-2.4.0-bin-hadoop2.7/examples/src/main/scala/org/apache/spark/examples/mllib/GradientBoostingRegressionExample.scala\n",
      "spark-2.4.0-bin-hadoop2.7/examples/src/main/scala/org/apache/spark/examples/mllib/SummaryStatisticsExample.scala\n",
      "spark-2.4.0-bin-hadoop2.7/examples/src/main/scala/org/apache/spark/examples/mllib/StreamingLogisticRegression.scala\n",
      "spark-2.4.0-bin-hadoop2.7/examples/src/main/scala/org/apache/spark/examples/mllib/RegressionMetricsExample.scala\n",
      "spark-2.4.0-bin-hadoop2.7/examples/src/main/scala/org/apache/spark/examples/mllib/DenseKMeans.scala\n",
      "spark-2.4.0-bin-hadoop2.7/examples/src/main/scala/org/apache/spark/examples/mllib/HypothesisTestingKolmogorovSmirnovTestExample.scala\n",
      "spark-2.4.0-bin-hadoop2.7/examples/src/main/scala/org/apache/spark/examples/mllib/RandomForestClassificationExample.scala\n",
      "spark-2.4.0-bin-hadoop2.7/examples/src/main/scala/org/apache/spark/examples/mllib/LDAExample.scala\n",
      "spark-2.4.0-bin-hadoop2.7/examples/src/main/scala/org/apache/spark/examples/mllib/DecisionTreeRegressionExample.scala\n",
      "spark-2.4.0-bin-hadoop2.7/examples/src/main/scala/org/apache/spark/examples/mllib/PCAExample.scala\n",
      "spark-2.4.0-bin-hadoop2.7/examples/src/main/scala/org/apache/spark/examples/mllib/KernelDensityEstimationExample.scala\n",
      "spark-2.4.0-bin-hadoop2.7/examples/src/main/scala/org/apache/spark/examples/mllib/MulticlassMetricsExample.scala\n",
      "spark-2.4.0-bin-hadoop2.7/examples/src/main/scala/org/apache/spark/examples/mllib/BinaryClassification.scala\n",
      "spark-2.4.0-bin-hadoop2.7/examples/src/main/scala/org/apache/spark/examples/mllib/PowerIterationClusteringExample.scala\n",
      "spark-2.4.0-bin-hadoop2.7/examples/src/main/scala/org/apache/spark/examples/mllib/SVDExample.scala\n",
      "spark-2.4.0-bin-hadoop2.7/examples/src/main/scala/org/apache/spark/examples/mllib/StreamingKMeansExample.scala\n",
      "spark-2.4.0-bin-hadoop2.7/examples/src/main/scala/org/apache/spark/examples/mllib/BisectingKMeansExample.scala\n",
      "spark-2.4.0-bin-hadoop2.7/examples/src/main/scala/org/apache/spark/examples/mllib/MultiLabelMetricsExample.scala\n",
      "spark-2.4.0-bin-hadoop2.7/examples/src/main/scala/org/apache/spark/examples/mllib/BinaryClassificationMetricsExample.scala\n",
      "spark-2.4.0-bin-hadoop2.7/examples/src/main/scala/org/apache/spark/examples/mllib/RandomRDDGeneration.scala\n",
      "spark-2.4.0-bin-hadoop2.7/examples/src/main/scala/org/apache/spark/examples/mllib/AssociationRulesExample.scala\n",
      "spark-2.4.0-bin-hadoop2.7/examples/src/main/scala/org/apache/spark/examples/mllib/HypothesisTestingExample.scala\n",
      "spark-2.4.0-bin-hadoop2.7/examples/src/main/scala/org/apache/spark/examples/mllib/TFIDFExample.scala\n",
      "spark-2.4.0-bin-hadoop2.7/examples/src/main/scala/org/apache/spark/examples/mllib/LinearRegressionWithSGDExample.scala\n",
      "spark-2.4.0-bin-hadoop2.7/examples/src/main/scala/org/apache/spark/examples/mllib/PCAOnRowMatrixExample.scala\n",
      "spark-2.4.0-bin-hadoop2.7/examples/src/main/scala/org/apache/spark/examples/mllib/NormalizerExample.scala\n",
      "spark-2.4.0-bin-hadoop2.7/examples/src/main/scala/org/apache/spark/examples/mllib/SparseNaiveBayes.scala\n",
      "spark-2.4.0-bin-hadoop2.7/examples/src/main/scala/org/apache/spark/examples/mllib/ChiSqSelectorExample.scala\n",
      "spark-2.4.0-bin-hadoop2.7/examples/src/main/scala/org/apache/spark/examples/mllib/CorrelationsExample.scala\n",
      "spark-2.4.0-bin-hadoop2.7/examples/src/main/scala/org/apache/spark/examples/mllib/RandomForestRegressionExample.scala\n",
      "spark-2.4.0-bin-hadoop2.7/examples/src/main/scala/org/apache/spark/examples/mllib/AbstractParams.scala\n",
      "spark-2.4.0-bin-hadoop2.7/examples/src/main/scala/org/apache/spark/examples/SkewedGroupByTest.scala\n",
      "spark-2.4.0-bin-hadoop2.7/examples/src/main/scala/org/apache/spark/examples/SparkPi.scala\n",
      "spark-2.4.0-bin-hadoop2.7/examples/src/main/scala/org/apache/spark/examples/ml/\n",
      "spark-2.4.0-bin-hadoop2.7/examples/src/main/scala/org/apache/spark/examples/ml/OneVsRestExample.scala\n",
      "spark-2.4.0-bin-hadoop2.7/examples/src/main/scala/org/apache/spark/examples/ml/DecisionTreeExample.scala\n",
      "spark-2.4.0-bin-hadoop2.7/examples/src/main/scala/org/apache/spark/examples/ml/CountVectorizerExample.scala\n",
      "spark-2.4.0-bin-hadoop2.7/examples/src/main/scala/org/apache/spark/examples/ml/ImputerExample.scala\n",
      "spark-2.4.0-bin-hadoop2.7/examples/src/main/scala/org/apache/spark/examples/ml/StandardScalerExample.scala\n",
      "spark-2.4.0-bin-hadoop2.7/examples/src/main/scala/org/apache/spark/examples/ml/GaussianMixtureExample.scala\n",
      "spark-2.4.0-bin-hadoop2.7/examples/src/main/scala/org/apache/spark/examples/ml/BucketedRandomProjectionLSHExample.scala\n",
      "spark-2.4.0-bin-hadoop2.7/examples/src/main/scala/org/apache/spark/examples/ml/ElementwiseProductExample.scala\n",
      "spark-2.4.0-bin-hadoop2.7/examples/src/main/scala/org/apache/spark/examples/ml/CorrelationExample.scala\n",
      "spark-2.4.0-bin-hadoop2.7/examples/src/main/scala/org/apache/spark/examples/ml/ModelSelectionViaCrossValidationExample.scala\n",
      "spark-2.4.0-bin-hadoop2.7/examples/src/main/scala/org/apache/spark/examples/ml/ModelSelectionViaTrainValidationSplitExample.scala\n",
      "spark-2.4.0-bin-hadoop2.7/examples/src/main/scala/org/apache/spark/examples/ml/RandomForestRegressorExample.scala\n",
      "spark-2.4.0-bin-hadoop2.7/examples/src/main/scala/org/apache/spark/examples/ml/MultilayerPerceptronClassifierExample.scala\n",
      "spark-2.4.0-bin-hadoop2.7/examples/src/main/scala/org/apache/spark/examples/ml/LogisticRegressionWithElasticNetExample.scala\n",
      "spark-2.4.0-bin-hadoop2.7/examples/src/main/scala/org/apache/spark/examples/ml/LogisticRegressionExample.scala\n",
      "spark-2.4.0-bin-hadoop2.7/examples/src/main/scala/org/apache/spark/examples/ml/VectorSizeHintExample.scala\n",
      "spark-2.4.0-bin-hadoop2.7/examples/src/main/scala/org/apache/spark/examples/ml/SummarizerExample.scala\n",
      "spark-2.4.0-bin-hadoop2.7/examples/src/main/scala/org/apache/spark/examples/ml/PrefixSpanExample.scala\n",
      "spark-2.4.0-bin-hadoop2.7/examples/src/main/scala/org/apache/spark/examples/ml/ALSExample.scala\n",
      "spark-2.4.0-bin-hadoop2.7/examples/src/main/scala/org/apache/spark/examples/ml/MinMaxScalerExample.scala\n",
      "spark-2.4.0-bin-hadoop2.7/examples/src/main/scala/org/apache/spark/examples/ml/Word2VecExample.scala\n",
      "spark-2.4.0-bin-hadoop2.7/examples/src/main/scala/org/apache/spark/examples/ml/InteractionExample.scala\n",
      "spark-2.4.0-bin-hadoop2.7/examples/src/main/scala/org/apache/spark/examples/ml/NaiveBayesExample.scala\n",
      "spark-2.4.0-bin-hadoop2.7/examples/src/main/scala/org/apache/spark/examples/ml/IsotonicRegressionExample.scala\n",
      "spark-2.4.0-bin-hadoop2.7/examples/src/main/scala/org/apache/spark/examples/ml/StringIndexerExample.scala\n",
      "spark-2.4.0-bin-hadoop2.7/examples/src/main/scala/org/apache/spark/examples/ml/ChiSquareTestExample.scala\n",
      "spark-2.4.0-bin-hadoop2.7/examples/src/main/scala/org/apache/spark/examples/ml/FPGrowthExample.scala\n",
      "spark-2.4.0-bin-hadoop2.7/examples/src/main/scala/org/apache/spark/examples/ml/DecisionTreeClassificationExample.scala\n",
      "spark-2.4.0-bin-hadoop2.7/examples/src/main/scala/org/apache/spark/examples/ml/KMeansExample.scala\n",
      "spark-2.4.0-bin-hadoop2.7/examples/src/main/scala/org/apache/spark/examples/ml/StopWordsRemoverExample.scala\n",
      "spark-2.4.0-bin-hadoop2.7/examples/src/main/scala/org/apache/spark/examples/ml/FeatureHasherExample.scala\n",
      "spark-2.4.0-bin-hadoop2.7/examples/src/main/scala/org/apache/spark/examples/ml/LinearRegressionWithElasticNetExample.scala\n",
      "spark-2.4.0-bin-hadoop2.7/examples/src/main/scala/org/apache/spark/examples/ml/LogisticRegressionSummaryExample.scala\n",
      "spark-2.4.0-bin-hadoop2.7/examples/src/main/scala/org/apache/spark/examples/ml/IndexToStringExample.scala\n",
      "spark-2.4.0-bin-hadoop2.7/examples/src/main/scala/org/apache/spark/examples/ml/GradientBoostedTreeClassifierExample.scala\n",
      "spark-2.4.0-bin-hadoop2.7/examples/src/main/scala/org/apache/spark/examples/ml/GradientBoostedTreeRegressorExample.scala\n",
      "spark-2.4.0-bin-hadoop2.7/examples/src/main/scala/org/apache/spark/examples/ml/SQLTransformerExample.scala\n",
      "spark-2.4.0-bin-hadoop2.7/examples/src/main/scala/org/apache/spark/examples/ml/LDAExample.scala\n",
      "spark-2.4.0-bin-hadoop2.7/examples/src/main/scala/org/apache/spark/examples/ml/DecisionTreeRegressionExample.scala\n",
      "spark-2.4.0-bin-hadoop2.7/examples/src/main/scala/org/apache/spark/examples/ml/LinearSVCExample.scala\n",
      "spark-2.4.0-bin-hadoop2.7/examples/src/main/scala/org/apache/spark/examples/ml/TfIdfExample.scala\n",
      "spark-2.4.0-bin-hadoop2.7/examples/src/main/scala/org/apache/spark/examples/ml/PCAExample.scala\n",
      "spark-2.4.0-bin-hadoop2.7/examples/src/main/scala/org/apache/spark/examples/ml/MulticlassLogisticRegressionWithElasticNetExample.scala\n",
      "spark-2.4.0-bin-hadoop2.7/examples/src/main/scala/org/apache/spark/examples/ml/GeneralizedLinearRegressionExample.scala\n",
      "spark-2.4.0-bin-hadoop2.7/examples/src/main/scala/org/apache/spark/examples/ml/MinHashLSHExample.scala\n",
      "spark-2.4.0-bin-hadoop2.7/examples/src/main/scala/org/apache/spark/examples/ml/QuantileDiscretizerExample.scala\n",
      "spark-2.4.0-bin-hadoop2.7/examples/src/main/scala/org/apache/spark/examples/ml/DeveloperApiExample.scala\n",
      "spark-2.4.0-bin-hadoop2.7/examples/src/main/scala/org/apache/spark/examples/ml/VectorIndexerExample.scala\n",
      "spark-2.4.0-bin-hadoop2.7/examples/src/main/scala/org/apache/spark/examples/ml/LinearRegressionExample.scala\n",
      "spark-2.4.0-bin-hadoop2.7/examples/src/main/scala/org/apache/spark/examples/ml/DCTExample.scala\n",
      "spark-2.4.0-bin-hadoop2.7/examples/src/main/scala/org/apache/spark/examples/ml/PolynomialExpansionExample.scala\n",
      "spark-2.4.0-bin-hadoop2.7/examples/src/main/scala/org/apache/spark/examples/ml/OneHotEncoderEstimatorExample.scala\n",
      "spark-2.4.0-bin-hadoop2.7/examples/src/main/scala/org/apache/spark/examples/ml/BinarizerExample.scala\n",
      "spark-2.4.0-bin-hadoop2.7/examples/src/main/scala/org/apache/spark/examples/ml/PowerIterationClusteringExample.scala\n",
      "spark-2.4.0-bin-hadoop2.7/examples/src/main/scala/org/apache/spark/examples/ml/DataFrameExample.scala\n",
      "spark-2.4.0-bin-hadoop2.7/examples/src/main/scala/org/apache/spark/examples/ml/RandomForestExample.scala\n",
      "spark-2.4.0-bin-hadoop2.7/examples/src/main/scala/org/apache/spark/examples/ml/MaxAbsScalerExample.scala\n",
      "spark-2.4.0-bin-hadoop2.7/examples/src/main/scala/org/apache/spark/examples/ml/RFormulaExample.scala\n",
      "spark-2.4.0-bin-hadoop2.7/examples/src/main/scala/org/apache/spark/examples/ml/TokenizerExample.scala\n",
      "spark-2.4.0-bin-hadoop2.7/examples/src/main/scala/org/apache/spark/examples/ml/VectorSlicerExample.scala\n",
      "spark-2.4.0-bin-hadoop2.7/examples/src/main/scala/org/apache/spark/examples/ml/RandomForestClassifierExample.scala\n",
      "spark-2.4.0-bin-hadoop2.7/examples/src/main/scala/org/apache/spark/examples/ml/NGramExample.scala\n",
      "spark-2.4.0-bin-hadoop2.7/examples/src/main/scala/org/apache/spark/examples/ml/BisectingKMeansExample.scala\n",
      "spark-2.4.0-bin-hadoop2.7/examples/src/main/scala/org/apache/spark/examples/ml/PipelineExample.scala\n",
      "spark-2.4.0-bin-hadoop2.7/examples/src/main/scala/org/apache/spark/examples/ml/VectorAssemblerExample.scala\n",
      "spark-2.4.0-bin-hadoop2.7/examples/src/main/scala/org/apache/spark/examples/ml/AFTSurvivalRegressionExample.scala\n",
      "spark-2.4.0-bin-hadoop2.7/examples/src/main/scala/org/apache/spark/examples/ml/BucketizerExample.scala\n",
      "spark-2.4.0-bin-hadoop2.7/examples/src/main/scala/org/apache/spark/examples/ml/UnaryTransformerExample.scala\n",
      "spark-2.4.0-bin-hadoop2.7/examples/src/main/scala/org/apache/spark/examples/ml/GBTExample.scala\n",
      "spark-2.4.0-bin-hadoop2.7/examples/src/main/scala/org/apache/spark/examples/ml/NormalizerExample.scala\n",
      "spark-2.4.0-bin-hadoop2.7/examples/src/main/scala/org/apache/spark/examples/ml/EstimatorTransformerParamExample.scala\n",
      "spark-2.4.0-bin-hadoop2.7/examples/src/main/scala/org/apache/spark/examples/ml/ChiSqSelectorExample.scala\n",
      "spark-2.4.0-bin-hadoop2.7/examples/src/main/scala/org/apache/spark/examples/streaming/\n",
      "spark-2.4.0-bin-hadoop2.7/examples/src/main/scala/org/apache/spark/examples/streaming/CustomReceiver.scala\n",
      "spark-2.4.0-bin-hadoop2.7/examples/src/main/scala/org/apache/spark/examples/streaming/SqlNetworkWordCount.scala\n",
      "spark-2.4.0-bin-hadoop2.7/examples/src/main/scala/org/apache/spark/examples/streaming/RawNetworkGrep.scala\n",
      "spark-2.4.0-bin-hadoop2.7/examples/src/main/scala/org/apache/spark/examples/streaming/StatefulNetworkWordCount.scala\n",
      "spark-2.4.0-bin-hadoop2.7/examples/src/main/scala/org/apache/spark/examples/streaming/RecoverableNetworkWordCount.scala\n",
      "spark-2.4.0-bin-hadoop2.7/examples/src/main/scala/org/apache/spark/examples/streaming/clickstream/\n",
      "spark-2.4.0-bin-hadoop2.7/examples/src/main/scala/org/apache/spark/examples/streaming/clickstream/PageViewGenerator.scala\n",
      "spark-2.4.0-bin-hadoop2.7/examples/src/main/scala/org/apache/spark/examples/streaming/clickstream/PageViewStream.scala\n",
      "spark-2.4.0-bin-hadoop2.7/examples/src/main/scala/org/apache/spark/examples/streaming/DirectKafkaWordCount.scala\n",
      "spark-2.4.0-bin-hadoop2.7/examples/src/main/scala/org/apache/spark/examples/streaming/HdfsWordCount.scala\n",
      "spark-2.4.0-bin-hadoop2.7/examples/src/main/scala/org/apache/spark/examples/streaming/QueueStream.scala\n",
      "spark-2.4.0-bin-hadoop2.7/examples/src/main/scala/org/apache/spark/examples/streaming/StreamingExamples.scala\n",
      "spark-2.4.0-bin-hadoop2.7/examples/src/main/scala/org/apache/spark/examples/streaming/NetworkWordCount.scala\n",
      "spark-2.4.0-bin-hadoop2.7/examples/src/main/scala/org/apache/spark/examples/SparkKMeans.scala\n",
      "spark-2.4.0-bin-hadoop2.7/examples/src/main/scala/org/apache/spark/examples/DFSReadWriteTest.scala\n",
      "spark-2.4.0-bin-hadoop2.7/examples/src/main/scala/org/apache/spark/examples/ExceptionHandlingTest.scala\n",
      "spark-2.4.0-bin-hadoop2.7/examples/src/main/scala/org/apache/spark/examples/SparkALS.scala\n",
      "spark-2.4.0-bin-hadoop2.7/examples/src/main/scala/org/apache/spark/examples/LogQuery.scala\n",
      "spark-2.4.0-bin-hadoop2.7/examples/src/main/scala/org/apache/spark/examples/LocalLR.scala\n",
      "spark-2.4.0-bin-hadoop2.7/examples/src/main/scala/org/apache/spark/examples/sql/\n",
      "spark-2.4.0-bin-hadoop2.7/examples/src/main/scala/org/apache/spark/examples/sql/SparkSQLExample.scala\n",
      "spark-2.4.0-bin-hadoop2.7/examples/src/main/scala/org/apache/spark/examples/sql/hive/\n",
      "spark-2.4.0-bin-hadoop2.7/examples/src/main/scala/org/apache/spark/examples/sql/hive/SparkHiveExample.scala\n",
      "spark-2.4.0-bin-hadoop2.7/examples/src/main/scala/org/apache/spark/examples/sql/RDDRelation.scala\n",
      "spark-2.4.0-bin-hadoop2.7/examples/src/main/scala/org/apache/spark/examples/sql/streaming/\n",
      "spark-2.4.0-bin-hadoop2.7/examples/src/main/scala/org/apache/spark/examples/sql/streaming/StructuredNetworkWordCount.scala\n",
      "spark-2.4.0-bin-hadoop2.7/examples/src/main/scala/org/apache/spark/examples/sql/streaming/StructuredNetworkWordCountWindowed.scala\n",
      "spark-2.4.0-bin-hadoop2.7/examples/src/main/scala/org/apache/spark/examples/sql/streaming/StructuredKafkaWordCount.scala\n",
      "spark-2.4.0-bin-hadoop2.7/examples/src/main/scala/org/apache/spark/examples/sql/streaming/StructuredSessionization.scala\n",
      "spark-2.4.0-bin-hadoop2.7/examples/src/main/scala/org/apache/spark/examples/sql/UserDefinedUntypedAggregation.scala\n",
      "spark-2.4.0-bin-hadoop2.7/examples/src/main/scala/org/apache/spark/examples/sql/UserDefinedTypedAggregation.scala\n",
      "spark-2.4.0-bin-hadoop2.7/examples/src/main/scala/org/apache/spark/examples/sql/SQLDataSourceExample.scala\n",
      "spark-2.4.0-bin-hadoop2.7/examples/src/main/scala/org/apache/spark/examples/MultiBroadcastTest.scala\n",
      "spark-2.4.0-bin-hadoop2.7/examples/src/main/scala/org/apache/spark/examples/LocalALS.scala\n",
      "spark-2.4.0-bin-hadoop2.7/examples/src/main/scala/org/apache/spark/examples/DriverSubmissionTest.scala\n",
      "spark-2.4.0-bin-hadoop2.7/examples/src/main/scala/org/apache/spark/examples/LocalFileLR.scala\n",
      "spark-2.4.0-bin-hadoop2.7/examples/src/main/scala/org/apache/spark/examples/SimpleSkewedGroupByTest.scala\n",
      "spark-2.4.0-bin-hadoop2.7/examples/src/main/scala/org/apache/spark/examples/GroupByTest.scala\n",
      "spark-2.4.0-bin-hadoop2.7/examples/src/main/scala/org/apache/spark/examples/SparkRemoteFileTest.scala\n",
      "spark-2.4.0-bin-hadoop2.7/examples/src/main/java/\n",
      "spark-2.4.0-bin-hadoop2.7/examples/src/main/java/org/\n",
      "spark-2.4.0-bin-hadoop2.7/examples/src/main/java/org/apache/\n",
      "spark-2.4.0-bin-hadoop2.7/examples/src/main/java/org/apache/spark/\n",
      "spark-2.4.0-bin-hadoop2.7/examples/src/main/java/org/apache/spark/examples/\n",
      "spark-2.4.0-bin-hadoop2.7/examples/src/main/java/org/apache/spark/examples/JavaSparkPi.java\n",
      "spark-2.4.0-bin-hadoop2.7/examples/src/main/java/org/apache/spark/examples/JavaTC.java\n",
      "spark-2.4.0-bin-hadoop2.7/examples/src/main/java/org/apache/spark/examples/JavaHdfsLR.java\n",
      "spark-2.4.0-bin-hadoop2.7/examples/src/main/java/org/apache/spark/examples/JavaStatusTrackerDemo.java\n",
      "spark-2.4.0-bin-hadoop2.7/examples/src/main/java/org/apache/spark/examples/mllib/\n",
      "spark-2.4.0-bin-hadoop2.7/examples/src/main/java/org/apache/spark/examples/mllib/JavaGradientBoostingClassificationExample.java\n",
      "spark-2.4.0-bin-hadoop2.7/examples/src/main/java/org/apache/spark/examples/mllib/JavaHypothesisTestingExample.java\n",
      "spark-2.4.0-bin-hadoop2.7/examples/src/main/java/org/apache/spark/examples/mllib/JavaElementwiseProductExample.java\n",
      "spark-2.4.0-bin-hadoop2.7/examples/src/main/java/org/apache/spark/examples/mllib/JavaGaussianMixtureExample.java\n",
      "spark-2.4.0-bin-hadoop2.7/examples/src/main/java/org/apache/spark/examples/mllib/JavaAssociationRulesExample.java\n",
      "spark-2.4.0-bin-hadoop2.7/examples/src/main/java/org/apache/spark/examples/mllib/JavaDecisionTreeRegressionExample.java\n",
      "spark-2.4.0-bin-hadoop2.7/examples/src/main/java/org/apache/spark/examples/mllib/JavaBinaryClassificationMetricsExample.java\n",
      "spark-2.4.0-bin-hadoop2.7/examples/src/main/java/org/apache/spark/examples/mllib/JavaLBFGSExample.java\n",
      "spark-2.4.0-bin-hadoop2.7/examples/src/main/java/org/apache/spark/examples/mllib/JavaPowerIterationClusteringExample.java\n",
      "spark-2.4.0-bin-hadoop2.7/examples/src/main/java/org/apache/spark/examples/mllib/JavaMulticlassClassificationMetricsExample.java\n",
      "spark-2.4.0-bin-hadoop2.7/examples/src/main/java/org/apache/spark/examples/mllib/JavaRankingMetricsExample.java\n",
      "spark-2.4.0-bin-hadoop2.7/examples/src/main/java/org/apache/spark/examples/mllib/JavaRecommendationExample.java\n",
      "spark-2.4.0-bin-hadoop2.7/examples/src/main/java/org/apache/spark/examples/mllib/JavaHypothesisTestingKolmogorovSmirnovTestExample.java\n",
      "spark-2.4.0-bin-hadoop2.7/examples/src/main/java/org/apache/spark/examples/mllib/JavaRegressionMetricsExample.java\n",
      "spark-2.4.0-bin-hadoop2.7/examples/src/main/java/org/apache/spark/examples/mllib/JavaSVDExample.java\n",
      "spark-2.4.0-bin-hadoop2.7/examples/src/main/java/org/apache/spark/examples/mllib/JavaRandomForestClassificationExample.java\n",
      "spark-2.4.0-bin-hadoop2.7/examples/src/main/java/org/apache/spark/examples/mllib/JavaRandomForestRegressionExample.java\n",
      "spark-2.4.0-bin-hadoop2.7/examples/src/main/java/org/apache/spark/examples/mllib/JavaSummaryStatisticsExample.java\n",
      "spark-2.4.0-bin-hadoop2.7/examples/src/main/java/org/apache/spark/examples/mllib/JavaGradientBoostingRegressionExample.java\n",
      "spark-2.4.0-bin-hadoop2.7/examples/src/main/java/org/apache/spark/examples/mllib/JavaIsotonicRegressionExample.java\n",
      "spark-2.4.0-bin-hadoop2.7/examples/src/main/java/org/apache/spark/examples/mllib/JavaDecisionTreeClassificationExample.java\n",
      "spark-2.4.0-bin-hadoop2.7/examples/src/main/java/org/apache/spark/examples/mllib/JavaALS.java\n",
      "spark-2.4.0-bin-hadoop2.7/examples/src/main/java/org/apache/spark/examples/mllib/JavaKMeansExample.java\n",
      "spark-2.4.0-bin-hadoop2.7/examples/src/main/java/org/apache/spark/examples/mllib/JavaSVMWithSGDExample.java\n",
      "spark-2.4.0-bin-hadoop2.7/examples/src/main/java/org/apache/spark/examples/mllib/JavaLinearRegressionWithSGDExample.java\n",
      "spark-2.4.0-bin-hadoop2.7/examples/src/main/java/org/apache/spark/examples/mllib/JavaLatentDirichletAllocationExample.java\n",
      "spark-2.4.0-bin-hadoop2.7/examples/src/main/java/org/apache/spark/examples/mllib/JavaMultiLabelClassificationMetricsExample.java\n",
      "spark-2.4.0-bin-hadoop2.7/examples/src/main/java/org/apache/spark/examples/mllib/JavaBisectingKMeansExample.java\n",
      "spark-2.4.0-bin-hadoop2.7/examples/src/main/java/org/apache/spark/examples/mllib/JavaStratifiedSamplingExample.java\n",
      "spark-2.4.0-bin-hadoop2.7/examples/src/main/java/org/apache/spark/examples/mllib/JavaSimpleFPGrowth.java\n",
      "spark-2.4.0-bin-hadoop2.7/examples/src/main/java/org/apache/spark/examples/mllib/JavaLogisticRegressionWithLBFGSExample.java\n",
      "spark-2.4.0-bin-hadoop2.7/examples/src/main/java/org/apache/spark/examples/mllib/JavaPrefixSpanExample.java\n",
      "spark-2.4.0-bin-hadoop2.7/examples/src/main/java/org/apache/spark/examples/mllib/JavaPCAExample.java\n",
      "spark-2.4.0-bin-hadoop2.7/examples/src/main/java/org/apache/spark/examples/mllib/JavaCorrelationsExample.java\n",
      "spark-2.4.0-bin-hadoop2.7/examples/src/main/java/org/apache/spark/examples/mllib/JavaStreamingTestExample.java\n",
      "spark-2.4.0-bin-hadoop2.7/examples/src/main/java/org/apache/spark/examples/mllib/JavaNaiveBayesExample.java\n",
      "spark-2.4.0-bin-hadoop2.7/examples/src/main/java/org/apache/spark/examples/mllib/JavaChiSqSelectorExample.java\n",
      "spark-2.4.0-bin-hadoop2.7/examples/src/main/java/org/apache/spark/examples/mllib/JavaKernelDensityEstimationExample.java\n",
      "spark-2.4.0-bin-hadoop2.7/examples/src/main/java/org/apache/spark/examples/ml/\n",
      "spark-2.4.0-bin-hadoop2.7/examples/src/main/java/org/apache/spark/examples/ml/JavaBinarizerExample.java\n",
      "spark-2.4.0-bin-hadoop2.7/examples/src/main/java/org/apache/spark/examples/ml/JavaElementwiseProductExample.java\n",
      "spark-2.4.0-bin-hadoop2.7/examples/src/main/java/org/apache/spark/examples/ml/JavaInteractionExample.java\n",
      "spark-2.4.0-bin-hadoop2.7/examples/src/main/java/org/apache/spark/examples/ml/JavaGaussianMixtureExample.java\n",
      "spark-2.4.0-bin-hadoop2.7/examples/src/main/java/org/apache/spark/examples/ml/JavaBucketedRandomProjectionLSHExample.java\n",
      "spark-2.4.0-bin-hadoop2.7/examples/src/main/java/org/apache/spark/examples/ml/JavaLogisticRegressionWithElasticNetExample.java\n",
      "spark-2.4.0-bin-hadoop2.7/examples/src/main/java/org/apache/spark/examples/ml/JavaBucketizerExample.java\n",
      "spark-2.4.0-bin-hadoop2.7/examples/src/main/java/org/apache/spark/examples/ml/JavaDecisionTreeRegressionExample.java\n",
      "spark-2.4.0-bin-hadoop2.7/examples/src/main/java/org/apache/spark/examples/ml/JavaIndexToStringExample.java\n",
      "spark-2.4.0-bin-hadoop2.7/examples/src/main/java/org/apache/spark/examples/ml/JavaCorrelationExample.java\n",
      "spark-2.4.0-bin-hadoop2.7/examples/src/main/java/org/apache/spark/examples/ml/JavaMaxAbsScalerExample.java\n",
      "spark-2.4.0-bin-hadoop2.7/examples/src/main/java/org/apache/spark/examples/ml/JavaGradientBoostedTreeClassifierExample.java\n",
      "spark-2.4.0-bin-hadoop2.7/examples/src/main/java/org/apache/spark/examples/ml/JavaPowerIterationClusteringExample.java\n",
      "spark-2.4.0-bin-hadoop2.7/examples/src/main/java/org/apache/spark/examples/ml/JavaDocument.java\n",
      "spark-2.4.0-bin-hadoop2.7/examples/src/main/java/org/apache/spark/examples/ml/JavaLogisticRegressionSummaryExample.java\n",
      "spark-2.4.0-bin-hadoop2.7/examples/src/main/java/org/apache/spark/examples/ml/JavaStandardScalerExample.java\n",
      "spark-2.4.0-bin-hadoop2.7/examples/src/main/java/org/apache/spark/examples/ml/JavaMulticlassLogisticRegressionWithElasticNetExample.java\n",
      "spark-2.4.0-bin-hadoop2.7/examples/src/main/java/org/apache/spark/examples/ml/JavaChiSquareTestExample.java\n",
      "spark-2.4.0-bin-hadoop2.7/examples/src/main/java/org/apache/spark/examples/ml/JavaFPGrowthExample.java\n",
      "spark-2.4.0-bin-hadoop2.7/examples/src/main/java/org/apache/spark/examples/ml/JavaQuantileDiscretizerExample.java\n",
      "spark-2.4.0-bin-hadoop2.7/examples/src/main/java/org/apache/spark/examples/ml/JavaPolynomialExpansionExample.java\n",
      "spark-2.4.0-bin-hadoop2.7/examples/src/main/java/org/apache/spark/examples/ml/JavaTokenizerExample.java\n",
      "spark-2.4.0-bin-hadoop2.7/examples/src/main/java/org/apache/spark/examples/ml/JavaFeatureHasherExample.java\n",
      "spark-2.4.0-bin-hadoop2.7/examples/src/main/java/org/apache/spark/examples/ml/JavaVectorIndexerExample.java\n",
      "spark-2.4.0-bin-hadoop2.7/examples/src/main/java/org/apache/spark/examples/ml/JavaVectorSlicerExample.java\n",
      "spark-2.4.0-bin-hadoop2.7/examples/src/main/java/org/apache/spark/examples/ml/JavaStringIndexerExample.java\n",
      "spark-2.4.0-bin-hadoop2.7/examples/src/main/java/org/apache/spark/examples/ml/JavaIsotonicRegressionExample.java\n",
      "spark-2.4.0-bin-hadoop2.7/examples/src/main/java/org/apache/spark/examples/ml/JavaMultilayerPerceptronClassifierExample.java\n",
      "spark-2.4.0-bin-hadoop2.7/examples/src/main/java/org/apache/spark/examples/ml/JavaOneVsRestExample.java\n",
      "spark-2.4.0-bin-hadoop2.7/examples/src/main/java/org/apache/spark/examples/ml/JavaRFormulaExample.java\n",
      "spark-2.4.0-bin-hadoop2.7/examples/src/main/java/org/apache/spark/examples/ml/JavaDecisionTreeClassificationExample.java\n",
      "spark-2.4.0-bin-hadoop2.7/examples/src/main/java/org/apache/spark/examples/ml/JavaLDAExample.java\n",
      "spark-2.4.0-bin-hadoop2.7/examples/src/main/java/org/apache/spark/examples/ml/JavaDCTExample.java\n",
      "spark-2.4.0-bin-hadoop2.7/examples/src/main/java/org/apache/spark/examples/ml/JavaKMeansExample.java\n",
      "spark-2.4.0-bin-hadoop2.7/examples/src/main/java/org/apache/spark/examples/ml/JavaModelSelectionViaCrossValidationExample.java\n",
      "spark-2.4.0-bin-hadoop2.7/examples/src/main/java/org/apache/spark/examples/ml/JavaSummarizerExample.java\n",
      "spark-2.4.0-bin-hadoop2.7/examples/src/main/java/org/apache/spark/examples/ml/JavaRandomForestClassifierExample.java\n",
      "spark-2.4.0-bin-hadoop2.7/examples/src/main/java/org/apache/spark/examples/ml/JavaImputerExample.java\n",
      "spark-2.4.0-bin-hadoop2.7/examples/src/main/java/org/apache/spark/examples/ml/JavaMinMaxScalerExample.java\n",
      "spark-2.4.0-bin-hadoop2.7/examples/src/main/java/org/apache/spark/examples/ml/JavaEstimatorTransformerParamExample.java\n",
      "spark-2.4.0-bin-hadoop2.7/examples/src/main/java/org/apache/spark/examples/ml/JavaOneHotEncoderEstimatorExample.java\n",
      "spark-2.4.0-bin-hadoop2.7/examples/src/main/java/org/apache/spark/examples/ml/JavaSQLTransformerExample.java\n",
      "spark-2.4.0-bin-hadoop2.7/examples/src/main/java/org/apache/spark/examples/ml/JavaLabeledDocument.java\n",
      "spark-2.4.0-bin-hadoop2.7/examples/src/main/java/org/apache/spark/examples/ml/JavaStopWordsRemoverExample.java\n",
      "spark-2.4.0-bin-hadoop2.7/examples/src/main/java/org/apache/spark/examples/ml/JavaTfIdfExample.java\n",
      "spark-2.4.0-bin-hadoop2.7/examples/src/main/java/org/apache/spark/examples/ml/JavaMinHashLSHExample.java\n",
      "spark-2.4.0-bin-hadoop2.7/examples/src/main/java/org/apache/spark/examples/ml/JavaBisectingKMeansExample.java\n",
      "spark-2.4.0-bin-hadoop2.7/examples/src/main/java/org/apache/spark/examples/ml/JavaLinearRegressionWithElasticNetExample.java\n",
      "spark-2.4.0-bin-hadoop2.7/examples/src/main/java/org/apache/spark/examples/ml/JavaNGramExample.java\n",
      "spark-2.4.0-bin-hadoop2.7/examples/src/main/java/org/apache/spark/examples/ml/JavaModelSelectionViaTrainValidationSplitExample.java\n",
      "spark-2.4.0-bin-hadoop2.7/examples/src/main/java/org/apache/spark/examples/ml/JavaPrefixSpanExample.java\n",
      "spark-2.4.0-bin-hadoop2.7/examples/src/main/java/org/apache/spark/examples/ml/JavaWord2VecExample.java\n",
      "spark-2.4.0-bin-hadoop2.7/examples/src/main/java/org/apache/spark/examples/ml/JavaGradientBoostedTreeRegressorExample.java\n",
      "spark-2.4.0-bin-hadoop2.7/examples/src/main/java/org/apache/spark/examples/ml/JavaAFTSurvivalRegressionExample.java\n",
      "spark-2.4.0-bin-hadoop2.7/examples/src/main/java/org/apache/spark/examples/ml/JavaPCAExample.java\n",
      "spark-2.4.0-bin-hadoop2.7/examples/src/main/java/org/apache/spark/examples/ml/JavaCountVectorizerExample.java\n",
      "spark-2.4.0-bin-hadoop2.7/examples/src/main/java/org/apache/spark/examples/ml/JavaGeneralizedLinearRegressionExample.java\n",
      "spark-2.4.0-bin-hadoop2.7/examples/src/main/java/org/apache/spark/examples/ml/JavaVectorSizeHintExample.java\n",
      "spark-2.4.0-bin-hadoop2.7/examples/src/main/java/org/apache/spark/examples/ml/JavaNaiveBayesExample.java\n",
      "spark-2.4.0-bin-hadoop2.7/examples/src/main/java/org/apache/spark/examples/ml/JavaNormalizerExample.java\n",
      "spark-2.4.0-bin-hadoop2.7/examples/src/main/java/org/apache/spark/examples/ml/JavaChiSqSelectorExample.java\n",
      "spark-2.4.0-bin-hadoop2.7/examples/src/main/java/org/apache/spark/examples/ml/JavaVectorAssemblerExample.java\n",
      "spark-2.4.0-bin-hadoop2.7/examples/src/main/java/org/apache/spark/examples/ml/JavaRandomForestRegressorExample.java\n",
      "spark-2.4.0-bin-hadoop2.7/examples/src/main/java/org/apache/spark/examples/ml/JavaLinearSVCExample.java\n",
      "spark-2.4.0-bin-hadoop2.7/examples/src/main/java/org/apache/spark/examples/ml/JavaPipelineExample.java\n",
      "spark-2.4.0-bin-hadoop2.7/examples/src/main/java/org/apache/spark/examples/ml/JavaALSExample.java\n",
      "spark-2.4.0-bin-hadoop2.7/examples/src/main/java/org/apache/spark/examples/streaming/\n",
      "spark-2.4.0-bin-hadoop2.7/examples/src/main/java/org/apache/spark/examples/streaming/JavaStatefulNetworkWordCount.java\n",
      "spark-2.4.0-bin-hadoop2.7/examples/src/main/java/org/apache/spark/examples/streaming/JavaNetworkWordCount.java\n",
      "spark-2.4.0-bin-hadoop2.7/examples/src/main/java/org/apache/spark/examples/streaming/JavaCustomReceiver.java\n",
      "spark-2.4.0-bin-hadoop2.7/examples/src/main/java/org/apache/spark/examples/streaming/JavaRecoverableNetworkWordCount.java\n",
      "spark-2.4.0-bin-hadoop2.7/examples/src/main/java/org/apache/spark/examples/streaming/JavaDirectKafkaWordCount.java\n",
      "spark-2.4.0-bin-hadoop2.7/examples/src/main/java/org/apache/spark/examples/streaming/JavaQueueStream.java\n",
      "spark-2.4.0-bin-hadoop2.7/examples/src/main/java/org/apache/spark/examples/streaming/JavaSqlNetworkWordCount.java\n",
      "spark-2.4.0-bin-hadoop2.7/examples/src/main/java/org/apache/spark/examples/streaming/JavaRecord.java\n",
      "spark-2.4.0-bin-hadoop2.7/examples/src/main/java/org/apache/spark/examples/sql/\n",
      "spark-2.4.0-bin-hadoop2.7/examples/src/main/java/org/apache/spark/examples/sql/JavaSparkSQLExample.java\n",
      "spark-2.4.0-bin-hadoop2.7/examples/src/main/java/org/apache/spark/examples/sql/hive/\n",
      "spark-2.4.0-bin-hadoop2.7/examples/src/main/java/org/apache/spark/examples/sql/hive/JavaSparkHiveExample.java\n",
      "spark-2.4.0-bin-hadoop2.7/examples/src/main/java/org/apache/spark/examples/sql/JavaUserDefinedTypedAggregation.java\n",
      "spark-2.4.0-bin-hadoop2.7/examples/src/main/java/org/apache/spark/examples/sql/JavaUserDefinedUntypedAggregation.java\n",
      "spark-2.4.0-bin-hadoop2.7/examples/src/main/java/org/apache/spark/examples/sql/streaming/\n",
      "spark-2.4.0-bin-hadoop2.7/examples/src/main/java/org/apache/spark/examples/sql/streaming/JavaStructuredKafkaWordCount.java\n",
      "spark-2.4.0-bin-hadoop2.7/examples/src/main/java/org/apache/spark/examples/sql/streaming/JavaStructuredNetworkWordCount.java\n",
      "spark-2.4.0-bin-hadoop2.7/examples/src/main/java/org/apache/spark/examples/sql/streaming/JavaStructuredNetworkWordCountWindowed.java\n",
      "spark-2.4.0-bin-hadoop2.7/examples/src/main/java/org/apache/spark/examples/sql/streaming/JavaStructuredSessionization.java\n",
      "spark-2.4.0-bin-hadoop2.7/examples/src/main/java/org/apache/spark/examples/sql/JavaSQLDataSourceExample.java\n",
      "spark-2.4.0-bin-hadoop2.7/examples/src/main/java/org/apache/spark/examples/JavaWordCount.java\n",
      "spark-2.4.0-bin-hadoop2.7/examples/src/main/java/org/apache/spark/examples/JavaLogQuery.java\n",
      "spark-2.4.0-bin-hadoop2.7/examples/src/main/java/org/apache/spark/examples/JavaPageRank.java\n",
      "spark-2.4.0-bin-hadoop2.7/examples/src/main/r/\n",
      "spark-2.4.0-bin-hadoop2.7/examples/src/main/r/RSparkSQLExample.R\n",
      "spark-2.4.0-bin-hadoop2.7/examples/src/main/r/ml/\n",
      "spark-2.4.0-bin-hadoop2.7/examples/src/main/r/ml/glm.R\n",
      "spark-2.4.0-bin-hadoop2.7/examples/src/main/r/ml/als.R\n",
      "spark-2.4.0-bin-hadoop2.7/examples/src/main/r/ml/kmeans.R\n",
      "spark-2.4.0-bin-hadoop2.7/examples/src/main/r/ml/mlp.R\n",
      "spark-2.4.0-bin-hadoop2.7/examples/src/main/r/ml/lda.R\n",
      "spark-2.4.0-bin-hadoop2.7/examples/src/main/r/ml/ml.R\n",
      "spark-2.4.0-bin-hadoop2.7/examples/src/main/r/ml/naiveBayes.R\n",
      "spark-2.4.0-bin-hadoop2.7/examples/src/main/r/ml/kstest.R\n",
      "spark-2.4.0-bin-hadoop2.7/examples/src/main/r/ml/gbt.R\n",
      "spark-2.4.0-bin-hadoop2.7/examples/src/main/r/ml/survreg.R\n",
      "spark-2.4.0-bin-hadoop2.7/examples/src/main/r/ml/svmLinear.R\n",
      "spark-2.4.0-bin-hadoop2.7/examples/src/main/r/ml/bisectingKmeans.R\n",
      "spark-2.4.0-bin-hadoop2.7/examples/src/main/r/ml/gaussianMixture.R\n",
      "spark-2.4.0-bin-hadoop2.7/examples/src/main/r/ml/isoreg.R\n",
      "spark-2.4.0-bin-hadoop2.7/examples/src/main/r/ml/randomForest.R\n",
      "spark-2.4.0-bin-hadoop2.7/examples/src/main/r/ml/decisionTree.R\n",
      "spark-2.4.0-bin-hadoop2.7/examples/src/main/r/ml/logit.R\n",
      "spark-2.4.0-bin-hadoop2.7/examples/src/main/r/ml/fpm.R\n",
      "spark-2.4.0-bin-hadoop2.7/examples/src/main/r/data-manipulation.R\n",
      "spark-2.4.0-bin-hadoop2.7/examples/src/main/r/streaming/\n",
      "spark-2.4.0-bin-hadoop2.7/examples/src/main/r/streaming/structured_network_wordcount.R\n",
      "spark-2.4.0-bin-hadoop2.7/examples/src/main/r/dataframe.R\n",
      "spark-2.4.0-bin-hadoop2.7/examples/src/main/resources/\n",
      "spark-2.4.0-bin-hadoop2.7/examples/src/main/resources/people.csv\n",
      "spark-2.4.0-bin-hadoop2.7/examples/src/main/resources/users.avro\n",
      "spark-2.4.0-bin-hadoop2.7/examples/src/main/resources/employees.json\n",
      "spark-2.4.0-bin-hadoop2.7/examples/src/main/resources/full_user.avsc\n",
      "spark-2.4.0-bin-hadoop2.7/examples/src/main/resources/people.json\n",
      "spark-2.4.0-bin-hadoop2.7/examples/src/main/resources/people.txt\n",
      "spark-2.4.0-bin-hadoop2.7/examples/src/main/resources/kv1.txt\n",
      "spark-2.4.0-bin-hadoop2.7/examples/src/main/resources/users.parquet\n",
      "spark-2.4.0-bin-hadoop2.7/examples/src/main/resources/users.orc\n",
      "spark-2.4.0-bin-hadoop2.7/examples/src/main/resources/user.avsc\n",
      "spark-2.4.0-bin-hadoop2.7/NOTICE\n",
      "spark-2.4.0-bin-hadoop2.7/data/\n",
      "spark-2.4.0-bin-hadoop2.7/data/graphx/\n",
      "spark-2.4.0-bin-hadoop2.7/data/graphx/users.txt\n",
      "spark-2.4.0-bin-hadoop2.7/data/graphx/followers.txt\n",
      "spark-2.4.0-bin-hadoop2.7/data/mllib/\n",
      "spark-2.4.0-bin-hadoop2.7/data/mllib/gmm_data.txt\n",
      "spark-2.4.0-bin-hadoop2.7/data/mllib/images/\n",
      "spark-2.4.0-bin-hadoop2.7/data/mllib/images/origin/\n",
      "spark-2.4.0-bin-hadoop2.7/data/mllib/images/origin/multi-channel/\n",
      "spark-2.4.0-bin-hadoop2.7/data/mllib/images/origin/multi-channel/chr30.4.184.jpg\n",
      "spark-2.4.0-bin-hadoop2.7/data/mllib/images/origin/multi-channel/grayscale.jpg\n",
      "spark-2.4.0-bin-hadoop2.7/data/mllib/images/origin/multi-channel/BGRA_alpha_60.png\n",
      "spark-2.4.0-bin-hadoop2.7/data/mllib/images/origin/multi-channel/BGRA.png\n",
      "spark-2.4.0-bin-hadoop2.7/data/mllib/images/origin/kittens/\n",
      "spark-2.4.0-bin-hadoop2.7/data/mllib/images/origin/kittens/DP153539.jpg\n",
      "spark-2.4.0-bin-hadoop2.7/data/mllib/images/origin/kittens/54893.jpg\n",
      "spark-2.4.0-bin-hadoop2.7/data/mllib/images/origin/kittens/not-image.txt\n",
      "spark-2.4.0-bin-hadoop2.7/data/mllib/images/origin/kittens/DP802813.jpg\n",
      "spark-2.4.0-bin-hadoop2.7/data/mllib/images/origin/kittens/29.5.a_b_EGDP022204.jpg\n",
      "spark-2.4.0-bin-hadoop2.7/data/mllib/images/origin/license.txt\n",
      "spark-2.4.0-bin-hadoop2.7/data/mllib/images/license.txt\n",
      "spark-2.4.0-bin-hadoop2.7/data/mllib/images/partitioned/\n",
      "spark-2.4.0-bin-hadoop2.7/data/mllib/images/partitioned/cls=multichannel/\n",
      "spark-2.4.0-bin-hadoop2.7/data/mllib/images/partitioned/cls=multichannel/date=2018-02/\n",
      "spark-2.4.0-bin-hadoop2.7/data/mllib/images/partitioned/cls=multichannel/date=2018-02/chr30.4.184.jpg\n",
      "spark-2.4.0-bin-hadoop2.7/data/mllib/images/partitioned/cls=multichannel/date=2018-02/grayscale.jpg\n",
      "spark-2.4.0-bin-hadoop2.7/data/mllib/images/partitioned/cls=multichannel/date=2018-01/\n",
      "spark-2.4.0-bin-hadoop2.7/data/mllib/images/partitioned/cls=multichannel/date=2018-01/BGRA_alpha_60.png\n",
      "spark-2.4.0-bin-hadoop2.7/data/mllib/images/partitioned/cls=multichannel/date=2018-01/BGRA.png\n",
      "spark-2.4.0-bin-hadoop2.7/data/mllib/images/partitioned/cls=kittens/\n",
      "spark-2.4.0-bin-hadoop2.7/data/mllib/images/partitioned/cls=kittens/date=2018-02/\n",
      "spark-2.4.0-bin-hadoop2.7/data/mllib/images/partitioned/cls=kittens/date=2018-02/DP153539.jpg\n",
      "spark-2.4.0-bin-hadoop2.7/data/mllib/images/partitioned/cls=kittens/date=2018-02/54893.jpg\n",
      "spark-2.4.0-bin-hadoop2.7/data/mllib/images/partitioned/cls=kittens/date=2018-02/DP802813.jpg\n",
      "spark-2.4.0-bin-hadoop2.7/data/mllib/images/partitioned/cls=kittens/date=2018-01/\n",
      "spark-2.4.0-bin-hadoop2.7/data/mllib/images/partitioned/cls=kittens/date=2018-01/not-image.txt\n",
      "spark-2.4.0-bin-hadoop2.7/data/mllib/images/partitioned/cls=kittens/date=2018-01/29.5.a_b_EGDP022204.jpg\n",
      "spark-2.4.0-bin-hadoop2.7/data/mllib/sample_linear_regression_data.txt\n",
      "spark-2.4.0-bin-hadoop2.7/data/mllib/sample_lda_data.txt\n",
      "spark-2.4.0-bin-hadoop2.7/data/mllib/kmeans_data.txt\n",
      "spark-2.4.0-bin-hadoop2.7/data/mllib/sample_svm_data.txt\n",
      "spark-2.4.0-bin-hadoop2.7/data/mllib/streaming_kmeans_data_test.txt\n",
      "spark-2.4.0-bin-hadoop2.7/data/mllib/sample_kmeans_data.txt\n",
      "spark-2.4.0-bin-hadoop2.7/data/mllib/sample_multiclass_classification_data.txt\n",
      "spark-2.4.0-bin-hadoop2.7/data/mllib/sample_fpgrowth.txt\n",
      "spark-2.4.0-bin-hadoop2.7/data/mllib/pic_data.txt\n",
      "spark-2.4.0-bin-hadoop2.7/data/mllib/pagerank_data.txt\n",
      "spark-2.4.0-bin-hadoop2.7/data/mllib/sample_isotonic_regression_libsvm_data.txt\n",
      "spark-2.4.0-bin-hadoop2.7/data/mllib/als/\n",
      "spark-2.4.0-bin-hadoop2.7/data/mllib/als/test.data\n",
      "spark-2.4.0-bin-hadoop2.7/data/mllib/als/sample_movielens_ratings.txt\n",
      "spark-2.4.0-bin-hadoop2.7/data/mllib/sample_lda_libsvm_data.txt\n",
      "spark-2.4.0-bin-hadoop2.7/data/mllib/sample_binary_classification_data.txt\n",
      "spark-2.4.0-bin-hadoop2.7/data/mllib/ridge-data/\n",
      "spark-2.4.0-bin-hadoop2.7/data/mllib/ridge-data/lpsa.data\n",
      "spark-2.4.0-bin-hadoop2.7/data/mllib/sample_movielens_data.txt\n",
      "spark-2.4.0-bin-hadoop2.7/data/mllib/iris_libsvm.txt\n",
      "spark-2.4.0-bin-hadoop2.7/data/mllib/sample_libsvm_data.txt\n",
      "spark-2.4.0-bin-hadoop2.7/data/streaming/\n",
      "spark-2.4.0-bin-hadoop2.7/data/streaming/AFINN-111.txt\n",
      "spark-2.4.0-bin-hadoop2.7/README.md\n",
      "spark-2.4.0-bin-hadoop2.7/LICENSE\n"
     ]
    }
   ],
   "source": [
    "# !apt-get install openjdk-8-jdk-headless -qq > /dev/null\n",
    "# !wget -q http://archive.apache.org/dist/spark/spark-2.4.0/spark-2.4.0-bin-hadoop2.7.tgz\n",
    "# !tar -xvf spark-2.4.0-bin-hadoop2.7.tgz\n",
    "# !pip install -q findspark\n",
    "# import os\n",
    "# os.environ[\"JAVA_HOME\"] = \"/usr/lib/jvm/java-8-openjdk-amd64\"\n",
    "# os.environ[\"SPARK_HOME\"] = \"/content/spark-2.4.0-bin-hadoop2.7\"\n",
    "# import findspark\n",
    "# findspark.init()"
   ]
  },
  {
   "cell_type": "code",
   "execution_count": 2,
   "id": "Q73TYNurabDv",
   "metadata": {
    "colab": {
     "base_uri": "https://localhost:8080/"
    },
    "executionInfo": {
     "elapsed": 18539,
     "status": "ok",
     "timestamp": 1648368520364,
     "user": {
      "displayName": "Phuong Dam",
      "photoUrl": "https://lh3.googleusercontent.com/a/default-user=s64",
      "userId": "01072403895711103873"
     },
     "user_tz": -420
    },
    "id": "Q73TYNurabDv",
    "outputId": "69b983c5-2e29-4bae-cfa8-766428956eaf"
   },
   "outputs": [
    {
     "name": "stdout",
     "output_type": "stream",
     "text": [
      "Mounted at /content/gdrive\n"
     ]
    }
   ],
   "source": [
    "# from google.colab import drive\n",
    "# drive.mount('/content/gdrive', force_remount=True)"
   ]
  },
  {
   "cell_type": "code",
   "execution_count": 3,
   "id": "g9YjWv1Uaexg",
   "metadata": {
    "colab": {
     "base_uri": "https://localhost:8080/"
    },
    "executionInfo": {
     "elapsed": 513,
     "status": "ok",
     "timestamp": 1648368520869,
     "user": {
      "displayName": "Phuong Dam",
      "photoUrl": "https://lh3.googleusercontent.com/a/default-user=s64",
      "userId": "01072403895711103873"
     },
     "user_tz": -420
    },
    "id": "g9YjWv1Uaexg",
    "outputId": "f36a6208-4679-477c-81ba-c3e3cbde542b"
   },
   "outputs": [
    {
     "name": "stdout",
     "output_type": "stream",
     "text": [
      "/content/gdrive/MyDrive/LDS0_K273_DamThiMinhPhuong/Project/Project2_RecommendationSystem\n"
     ]
    }
   ],
   "source": [
    "# %cd '/content/gdrive/MyDrive/LDS0_K273_DamThiMinhPhuong/Project/Project2_RecommendationSystem'"
   ]
  },
  {
   "cell_type": "code",
   "execution_count": 4,
   "id": "VZZFQiu9ajfm",
   "metadata": {
    "colab": {
     "base_uri": "https://localhost:8080/"
    },
    "collapsed": true,
    "executionInfo": {
     "elapsed": 4239,
     "status": "ok",
     "timestamp": 1648368525101,
     "user": {
      "displayName": "Phuong Dam",
      "photoUrl": "https://lh3.googleusercontent.com/a/default-user=s64",
      "userId": "01072403895711103873"
     },
     "user_tz": -420
    },
    "id": "VZZFQiu9ajfm",
    "outputId": "3fc8006a-6fa7-494a-a4f4-347a832cd8ba"
   },
   "outputs": [
    {
     "name": "stdout",
     "output_type": "stream",
     "text": [
      "Collecting import_ipynb\n",
      "  Downloading import-ipynb-0.1.3.tar.gz (4.0 kB)\n",
      "Building wheels for collected packages: import-ipynb\n",
      "  Building wheel for import-ipynb (setup.py) ... \u001b[?25l\u001b[?25hdone\n",
      "  Created wheel for import-ipynb: filename=import_ipynb-0.1.3-py3-none-any.whl size=2975 sha256=0b1ec18b6185c149ab5d26c5aa352ef6803654781596633a8651006fb4286c1c\n",
      "  Stored in directory: /root/.cache/pip/wheels/b1/5e/dc/79780689896a056199b0b9f24471e3ee184fbd816df355d5f0\n",
      "Successfully built import-ipynb\n",
      "Installing collected packages: import-ipynb\n",
      "Successfully installed import-ipynb-0.1.3\n"
     ]
    }
   ],
   "source": [
    "# !pip install import_ipynb"
   ]
  },
  {
   "cell_type": "code",
   "execution_count": 1,
   "id": "68303687",
   "metadata": {
    "executionInfo": {
     "elapsed": 3,
     "status": "ok",
     "timestamp": 1648368531408,
     "user": {
      "displayName": "Phuong Dam",
      "photoUrl": "https://lh3.googleusercontent.com/a/default-user=s64",
      "userId": "01072403895711103873"
     },
     "user_tz": -420
    },
    "id": "68303687"
   },
   "outputs": [
    {
     "name": "stdout",
     "output_type": "stream",
     "text": [
      "importing Jupyter notebook from Lib.ipynb\n"
     ]
    }
   ],
   "source": [
    "from pyspark.sql import SparkSession\n",
    "from pyspark import SparkContext\n",
    "from pyspark.sql import SQLContext\n",
    "from pyspark.ml.evaluation import RegressionEvaluator\n",
    "from pyspark.ml.recommendation import ALS\n",
    "from pyspark.sql.functions import col, explode\n",
    "from pyspark.sql.types import *\n",
    "from pyspark.sql.functions import isnan, when, count, col, udf\n",
    "import seaborn as sns\n",
    "import matplotlib.pyplot as plt\n",
    "from pyspark.ml.feature import StringIndexer\n",
    "from pyspark.ml import Pipeline\n",
    "import import_ipynb\n",
    "import Lib"
   ]
  },
  {
   "cell_type": "code",
   "execution_count": 2,
   "id": "27076a2b",
   "metadata": {
    "executionInfo": {
     "elapsed": 4916,
     "status": "ok",
     "timestamp": 1648368539928,
     "user": {
      "displayName": "Phuong Dam",
      "photoUrl": "https://lh3.googleusercontent.com/a/default-user=s64",
      "userId": "01072403895711103873"
     },
     "user_tz": -420
    },
    "id": "27076a2b"
   },
   "outputs": [
    {
     "name": "stderr",
     "output_type": "stream",
     "text": [
      "Using Spark's default log4j profile: org/apache/spark/log4j-defaults.properties\n",
      "Setting default log level to \"WARN\".\n",
      "To adjust logging level use sc.setLogLevel(newLevel). For SparkR, use setLogLevel(newLevel).\n",
      "22/03/27 15:43:24 WARN NativeCodeLoader: Unable to load native-hadoop library for your platform... using builtin-java classes where applicable\n",
      "22/03/27 15:43:25 WARN Utils: Service 'SparkUI' could not bind on port 4040. Attempting port 4041.\n"
     ]
    }
   ],
   "source": [
    "SparkContext.setSystemProperty('spark.executor.memory', '12g')\n",
    "sc = SparkContext(master='local', appName='Recommendation_Tiki')"
   ]
  },
  {
   "cell_type": "code",
   "execution_count": 3,
   "id": "80e10017",
   "metadata": {
    "executionInfo": {
     "elapsed": 4,
     "status": "ok",
     "timestamp": 1648368539929,
     "user": {
      "displayName": "Phuong Dam",
      "photoUrl": "https://lh3.googleusercontent.com/a/default-user=s64",
      "userId": "01072403895711103873"
     },
     "user_tz": -420
    },
    "id": "80e10017"
   },
   "outputs": [],
   "source": [
    "spark = SparkSession(sc)"
   ]
  },
  {
   "cell_type": "code",
   "execution_count": 4,
   "id": "b84e41f0",
   "metadata": {
    "executionInfo": {
     "elapsed": 7328,
     "status": "ok",
     "timestamp": 1648368547254,
     "user": {
      "displayName": "Phuong Dam",
      "photoUrl": "https://lh3.googleusercontent.com/a/default-user=s64",
      "userId": "01072403895711103873"
     },
     "user_tz": -420
    },
    "id": "b84e41f0"
   },
   "outputs": [
    {
     "name": "stderr",
     "output_type": "stream",
     "text": [
      "                                                                                \r"
     ]
    }
   ],
   "source": [
    "#Load data\n",
    "data = spark.read.csv(\"data/ReviewClean.csv\", header=True, inferSchema=True)"
   ]
  },
  {
   "cell_type": "code",
   "execution_count": 5,
   "id": "eb12fa08",
   "metadata": {
    "colab": {
     "base_uri": "https://localhost:8080/"
    },
    "executionInfo": {
     "elapsed": 480,
     "status": "ok",
     "timestamp": 1648368547729,
     "user": {
      "displayName": "Phuong Dam",
      "photoUrl": "https://lh3.googleusercontent.com/a/default-user=s64",
      "userId": "01072403895711103873"
     },
     "user_tz": -420
    },
    "id": "eb12fa08",
    "outputId": "cd944e90-caea-4a3b-d6f7-c430fb74fdab"
   },
   "outputs": [
    {
     "data": {
      "text/plain": [
       "359540"
      ]
     },
     "execution_count": 5,
     "metadata": {},
     "output_type": "execute_result"
    }
   ],
   "source": [
    "data.count()"
   ]
  },
  {
   "cell_type": "code",
   "execution_count": 6,
   "id": "cc7bb6af",
   "metadata": {
    "colab": {
     "base_uri": "https://localhost:8080/"
    },
    "executionInfo": {
     "elapsed": 386,
     "status": "ok",
     "timestamp": 1648368548111,
     "user": {
      "displayName": "Phuong Dam",
      "photoUrl": "https://lh3.googleusercontent.com/a/default-user=s64",
      "userId": "01072403895711103873"
     },
     "user_tz": -420
    },
    "id": "cc7bb6af",
    "outputId": "9369e187-bb0d-4303-a856-7a5b692a48f7",
    "scrolled": false
   },
   "outputs": [
    {
     "name": "stdout",
     "output_type": "stream",
     "text": [
      "+---+-----------+----------+------+\n",
      "|_c0|customer_id|product_id|rating|\n",
      "+---+-----------+----------+------+\n",
      "|  0|     709310|  10001012|     3|\n",
      "|  1|   10701688|  10001012|     5|\n",
      "|  2|   11763074|  10001012|     5|\n",
      "|  3|    9909549|  10001012|     5|\n",
      "|  4|    1827148|  10001012|     5|\n",
      "+---+-----------+----------+------+\n",
      "only showing top 5 rows\n",
      "\n"
     ]
    },
    {
     "name": "stderr",
     "output_type": "stream",
     "text": [
      "22/03/27 15:43:35 WARN CSVHeaderChecker: CSV header does not conform to the schema.\n",
      " Header: , customer_id, product_id, rating\n",
      " Schema: _c0, customer_id, product_id, rating\n",
      "Expected: _c0 but found: \n",
      "CSV file: file:///Volumes/GoogleDrive/My%20Drive/LDS0_K273_DamThiMinhPhuong/Project/Project2_RecommendationSystem/data/ReviewClean.csv\n"
     ]
    }
   ],
   "source": [
    "data.show(5,truncate=True)"
   ]
  },
  {
   "cell_type": "code",
   "execution_count": 7,
   "id": "df0b1cbe",
   "metadata": {
    "colab": {
     "base_uri": "https://localhost:8080/"
    },
    "executionInfo": {
     "elapsed": 13,
     "status": "ok",
     "timestamp": 1648368548112,
     "user": {
      "displayName": "Phuong Dam",
      "photoUrl": "https://lh3.googleusercontent.com/a/default-user=s64",
      "userId": "01072403895711103873"
     },
     "user_tz": -420
    },
    "id": "df0b1cbe",
    "outputId": "1b676d82-9c11-47ca-8fec-c6b2928c9fdb"
   },
   "outputs": [
    {
     "name": "stdout",
     "output_type": "stream",
     "text": [
      "root\n",
      " |-- _c0: integer (nullable = true)\n",
      " |-- customer_id: integer (nullable = true)\n",
      " |-- product_id: integer (nullable = true)\n",
      " |-- rating: integer (nullable = true)\n",
      "\n"
     ]
    }
   ],
   "source": [
    "data.printSchema()"
   ]
  },
  {
   "cell_type": "code",
   "execution_count": 8,
   "id": "192a98c4",
   "metadata": {
    "executionInfo": {
     "elapsed": 5758,
     "status": "ok",
     "timestamp": 1648368553864,
     "user": {
      "displayName": "Phuong Dam",
      "photoUrl": "https://lh3.googleusercontent.com/a/default-user=s64",
      "userId": "01072403895711103873"
     },
     "user_tz": -420
    },
    "id": "192a98c4"
   },
   "outputs": [
    {
     "name": "stderr",
     "output_type": "stream",
     "text": [
      "                                                                                \r"
     ]
    }
   ],
   "source": [
    "# PREPARE DATA\n",
    "# Create an indexer\n",
    "indexer = StringIndexer(inputCol='product_id', \n",
    "                        outputCol='product_id_idx')\n",
    "\n",
    "# Indexer identifies categories in the data\n",
    "indexer_model = indexer.fit(data)\n",
    "\n",
    "# Indexer creates a new column with numeric index values\n",
    "data_indexed = indexer_model.transform(data)\n",
    "\n",
    "# Repeat the process for the other categorical feature\n",
    "indexer1 = StringIndexer(inputCol='customer_id', \n",
    "                         outputCol='customer_id_idx')\n",
    "indexer1_model = indexer1.fit(data_indexed)\n",
    "data_indexed = indexer1_model.transform(data_indexed)"
   ]
  },
  {
   "cell_type": "code",
   "execution_count": 9,
   "id": "02cbff3b",
   "metadata": {
    "colab": {
     "base_uri": "https://localhost:8080/"
    },
    "executionInfo": {
     "elapsed": 887,
     "status": "ok",
     "timestamp": 1648368554741,
     "user": {
      "displayName": "Phuong Dam",
      "photoUrl": "https://lh3.googleusercontent.com/a/default-user=s64",
      "userId": "01072403895711103873"
     },
     "user_tz": -420
    },
    "id": "02cbff3b",
    "outputId": "79524fe7-3287-4876-b6f1-6007329e99a9"
   },
   "outputs": [
    {
     "name": "stderr",
     "output_type": "stream",
     "text": [
      "22/03/27 15:43:40 WARN DAGScheduler: Broadcasting large task binary with size 8.2 MiB\n",
      "22/03/27 15:43:40 WARN CSVHeaderChecker: CSV header does not conform to the schema.\n",
      " Header: , customer_id, product_id, rating\n",
      " Schema: _c0, customer_id, product_id, rating\n",
      "Expected: _c0 but found: \n",
      "CSV file: file:///Volumes/GoogleDrive/My%20Drive/LDS0_K273_DamThiMinhPhuong/Project/Project2_RecommendationSystem/data/ReviewClean.csv\n"
     ]
    },
    {
     "name": "stdout",
     "output_type": "stream",
     "text": [
      "+---+-----------+----------+------+--------------+---------------+\n",
      "|_c0|customer_id|product_id|rating|product_id_idx|customer_id_idx|\n",
      "+---+-----------+----------+------+--------------+---------------+\n",
      "|0  |709310     |10001012  |3     |2454.0        |216413.0       |\n",
      "|1  |10701688   |10001012  |5     |2454.0        |24080.0        |\n",
      "|2  |11763074   |10001012  |5     |2454.0        |26436.0        |\n",
      "|3  |9909549    |10001012  |5     |2454.0        |3279.0         |\n",
      "|4  |1827148    |10001012  |5     |2454.0        |370.0          |\n",
      "+---+-----------+----------+------+--------------+---------------+\n",
      "only showing top 5 rows\n",
      "\n"
     ]
    }
   ],
   "source": [
    "data_indexed.show(5, False)"
   ]
  },
  {
   "cell_type": "code",
   "execution_count": 10,
   "id": "15c5e200",
   "metadata": {
    "executionInfo": {
     "elapsed": 4,
     "status": "ok",
     "timestamp": 1648368555569,
     "user": {
      "displayName": "Phuong Dam",
      "photoUrl": "https://lh3.googleusercontent.com/a/default-user=s64",
      "userId": "01072403895711103873"
     },
     "user_tz": -420
    },
    "id": "15c5e200"
   },
   "outputs": [],
   "source": [
    "# train/ test split\n",
    "training, test = data_indexed.randomSplit([0.8, 0.2], seed=42)"
   ]
  },
  {
   "cell_type": "code",
   "execution_count": null,
   "id": "e5746113",
   "metadata": {
    "id": "e5746113"
   },
   "outputs": [],
   "source": [
    "# Khởi tạo model và fit với training data\n",
    "als = ALS(maxIter=20,\n",
    "         regParam=0.09,\n",
    "          rank=90,\n",
    "          userCol='customer_id_idx',\n",
    "          itemCol='product_id_idx',\n",
    "          ratingCol='rating',\n",
    "          coldStartStrategy='drop',\n",
    "          nonnegative=True    \n",
    "         )\n",
    "model = als.fit(training)"
   ]
  },
  {
   "cell_type": "code",
   "execution_count": null,
   "id": "fa2c4686",
   "metadata": {
    "colab": {
     "base_uri": "https://localhost:8080/",
     "height": 37
    },
    "executionInfo": {
     "elapsed": 183078,
     "status": "ok",
     "timestamp": 1646379495843,
     "user": {
      "displayName": "Phuong Dam",
      "photoUrl": "https://lh3.googleusercontent.com/a/default-user=s64",
      "userId": "01072403895711103873"
     },
     "user_tz": -420
    },
    "id": "fa2c4686",
    "outputId": "10f97d65-e015-4fed-e999-12bd1f1b429b"
   },
   "outputs": [
    {
     "data": {
      "application/vnd.google.colaboratory.intrinsic+json": {
       "type": "string"
      },
      "text/plain": [
       "'RMSE = 1.2456450521815086'"
      ]
     },
     "execution_count": 28,
     "metadata": {},
     "output_type": "execute_result"
    }
   ],
   "source": [
    "rmse = Lib.ALS_evaluate(model, test)\n",
    "rmse"
   ]
  },
  {
   "cell_type": "code",
   "execution_count": null,
   "id": "83ee98f3",
   "metadata": {
    "id": "83ee98f3",
    "outputId": "dd35d9b3-6aca-444f-ff45-d9058d5ba8ff",
    "scrolled": true
   },
   "outputs": [
    {
     "name": "stdout",
     "output_type": "stream",
     "text": [
      "+-------+------------------+\n",
      "|summary|            rating|\n",
      "+-------+------------------+\n",
      "|  count|            359540|\n",
      "|   mean| 4.473635756800356|\n",
      "| stddev|1.0178499915613952|\n",
      "|    min|                 1|\n",
      "|    max|                 5|\n",
      "+-------+------------------+\n",
      "\n"
     ]
    }
   ],
   "source": [
    "data.select('rating').describe().show()"
   ]
  },
  {
   "cell_type": "markdown",
   "id": "b2a07e7b",
   "metadata": {
    "id": "b2a07e7b"
   },
   "source": [
    "Nhận xét:\n",
    "- RMSE = 1.24 cao hơn một chút so với stdde v= 1.018 => Thay đổi parameter để tối ưu"
   ]
  },
  {
   "cell_type": "code",
   "execution_count": null,
   "id": "950c72c9",
   "metadata": {
    "id": "950c72c9"
   },
   "outputs": [],
   "source": [
    "# Khởi tạo model 2 với rank =150\n",
    "als2 = ALS(maxIter=20,\n",
    "         regParam=0.09,\n",
    "          rank=150,\n",
    "          userCol='customer_id_idx',\n",
    "          itemCol='product_id_idx',\n",
    "          ratingCol='rating',\n",
    "          coldStartStrategy='drop',\n",
    "          nonnegative=True    \n",
    "         )\n",
    "model2 = als2.fit(training)"
   ]
  },
  {
   "cell_type": "code",
   "execution_count": null,
   "id": "c5075241",
   "metadata": {
    "colab": {
     "base_uri": "https://localhost:8080/",
     "height": 37
    },
    "executionInfo": {
     "elapsed": 128726,
     "status": "ok",
     "timestamp": 1646380799298,
     "user": {
      "displayName": "Phuong Dam",
      "photoUrl": "https://lh3.googleusercontent.com/a/default-user=s64",
      "userId": "01072403895711103873"
     },
     "user_tz": -420
    },
    "id": "c5075241",
    "outputId": "ff3c83c6-d272-46c2-8bc8-d9a0cdcdc64b"
   },
   "outputs": [
    {
     "data": {
      "application/vnd.google.colaboratory.intrinsic+json": {
       "type": "string"
      },
      "text/plain": [
       "'RMSE = 1.2397622298257154'"
      ]
     },
     "execution_count": 31,
     "metadata": {},
     "output_type": "execute_result"
    }
   ],
   "source": [
    "rmse2 = Lib.ALS_evaluate(model2, test)\n",
    "rmse2"
   ]
  },
  {
   "cell_type": "code",
   "execution_count": null,
   "id": "167f6a55",
   "metadata": {
    "id": "167f6a55"
   },
   "outputs": [],
   "source": [
    "# Khởi tạo model 3 với maxIter = 25\n",
    "als3 = ALS(maxIter=25,\n",
    "         regParam=0.09,\n",
    "          rank=100,\n",
    "          userCol='customer_id_idx',\n",
    "          itemCol='product_id_idx',\n",
    "          ratingCol='rating',\n",
    "          coldStartStrategy='drop',\n",
    "          nonnegative=True    \n",
    "         )\n",
    "model3 = als3.fit(training)"
   ]
  },
  {
   "cell_type": "code",
   "execution_count": null,
   "id": "2d37679f",
   "metadata": {
    "colab": {
     "base_uri": "https://localhost:8080/",
     "height": 37
    },
    "executionInfo": {
     "elapsed": 85579,
     "status": "ok",
     "timestamp": 1646662847763,
     "user": {
      "displayName": "Phuong Dam",
      "photoUrl": "https://lh3.googleusercontent.com/a/default-user=s64",
      "userId": "01072403895711103873"
     },
     "user_tz": -420
    },
    "id": "2d37679f",
    "outputId": "99fb6b4d-c248-48d3-df1c-22dc48338888"
   },
   "outputs": [
    {
     "data": {
      "application/vnd.google.colaboratory.intrinsic+json": {
       "type": "string"
      },
      "text/plain": [
       "'RMSE = 1.2010226994530868'"
      ]
     },
     "execution_count": 16,
     "metadata": {},
     "output_type": "execute_result"
    }
   ],
   "source": [
    "rmse3 = Lib.ALS_evaluate(model3, test)\n",
    "rmse3"
   ]
  },
  {
   "cell_type": "code",
   "execution_count": null,
   "id": "BO1RT169Ouco",
   "metadata": {
    "id": "BO1RT169Ouco"
   },
   "outputs": [],
   "source": [
    "# Khởi tạo model 4 với maxIter = 30\n",
    "als4 = ALS(maxIter=30,\n",
    "         regParam=0.09,\n",
    "          rank=100,\n",
    "          userCol='customer_id_idx',\n",
    "          itemCol='product_id_idx',\n",
    "          ratingCol='rating',\n",
    "          coldStartStrategy='drop',\n",
    "          nonnegative=True    \n",
    "         )\n",
    "model4 = als4.fit(training)"
   ]
  },
  {
   "cell_type": "code",
   "execution_count": null,
   "id": "xbLQgbpIOzeD",
   "metadata": {
    "colab": {
     "base_uri": "https://localhost:8080/",
     "height": 37
    },
    "executionInfo": {
     "elapsed": 80343,
     "status": "ok",
     "timestamp": 1646672308276,
     "user": {
      "displayName": "Phuong Dam",
      "photoUrl": "https://lh3.googleusercontent.com/a/default-user=s64",
      "userId": "01072403895711103873"
     },
     "user_tz": -420
    },
    "id": "xbLQgbpIOzeD",
    "outputId": "9d03397d-a904-45f5-c41c-4d0352bd69cd"
   },
   "outputs": [
    {
     "data": {
      "application/vnd.google.colaboratory.intrinsic+json": {
       "type": "string"
      },
      "text/plain": [
       "'RMSE = 1.183470198740952'"
      ]
     },
     "execution_count": 80,
     "metadata": {},
     "output_type": "execute_result"
    }
   ],
   "source": [
    "rmse4 = Lib.ALS_evaluate(model4, test)\n",
    "rmse4"
   ]
  },
  {
   "cell_type": "markdown",
   "id": "a6ab17a4",
   "metadata": {
    "id": "a6ab17a4"
   },
   "source": [
    "Nhận xét: \n",
    "- Model4 cho kết quả RMSE nhỏ nhất trong 4 model (~1.18) và gần bằng sttdev của ‘rating’ nên chọn Model4 để thực hiện recommendation tới tất cả customers và một số customer cụ thể theo customer_id"
   ]
  },
  {
   "cell_type": "code",
   "execution_count": null,
   "id": "cUscXBXdGQBh",
   "metadata": {
    "id": "cUscXBXdGQBh"
   },
   "outputs": [],
   "source": [
    "dic_user_rec, rec_product_id_lst = Lib.ALS_get_recommendation(model4, data_indexed, 10701688)"
   ]
  },
  {
   "cell_type": "code",
   "execution_count": null,
   "id": "cSILNuJ2NGYX",
   "metadata": {
    "colab": {
     "base_uri": "https://localhost:8080/"
    },
    "executionInfo": {
     "elapsed": 31,
     "status": "ok",
     "timestamp": 1646670607723,
     "user": {
      "displayName": "Phuong Dam",
      "photoUrl": "https://lh3.googleusercontent.com/a/default-user=s64",
      "userId": "01072403895711103873"
     },
     "user_tz": -420
    },
    "id": "cSILNuJ2NGYX",
    "outputId": "12e92ef3-038c-4c12-a63d-b41453ff3064"
   },
   "outputs": [
    {
     "data": {
      "text/plain": [
       "{'customer_id': 10701688,\n",
       " 'recommendations': [(134, 2927891, 4.901928424835205),\n",
       "  (2237, 4597127, 4.801959991455078),\n",
       "  (3325, 50587112, 4.719162464141846),\n",
       "  (3011, 50592905, 4.714027404785156),\n",
       "  (4019, 66251373, 4.656266689300537)]}"
      ]
     },
     "execution_count": 69,
     "metadata": {},
     "output_type": "execute_result"
    }
   ],
   "source": [
    "dic_user_rec"
   ]
  },
  {
   "cell_type": "code",
   "execution_count": null,
   "id": "yFexmOaxOiwD",
   "metadata": {
    "id": "yFexmOaxOiwD"
   },
   "outputs": [],
   "source": [
    "# Load file ProductCleaned.csv\n",
    "# Show 5 recommended products có item_id in rec_product_id_lst\n",
    "product = spark.read.csv(\"data/ProductClean.csv\", header=True, inferSchema=True)"
   ]
  },
  {
   "cell_type": "code",
   "execution_count": null,
   "id": "NZv-Jrt8_rF1",
   "metadata": {
    "colab": {
     "base_uri": "https://localhost:8080/"
    },
    "executionInfo": {
     "elapsed": 1147,
     "status": "ok",
     "timestamp": 1646670709935,
     "user": {
      "displayName": "Phuong Dam",
      "photoUrl": "https://lh3.googleusercontent.com/a/default-user=s64",
      "userId": "01072403895711103873"
     },
     "user_tz": -420
    },
    "id": "NZv-Jrt8_rF1",
    "outputId": "37d47c2c-4779-4b77-9436-a2a3895539b9"
   },
   "outputs": [
    {
     "name": "stdout",
     "output_type": "stream",
     "text": [
      "+--------+---------------------------------------------------------------------------------+\n",
      "|item_id |name                                                                             |\n",
      "+--------+---------------------------------------------------------------------------------+\n",
      "|2927891 | Bảng Vẽ Điện Tử Gaomon 1060Pro - 10x6 inch                                      |\n",
      "|66251373|Flycam Bugs 20 EIS Gimbal 1 trục + chống rung điện tử - Hàng chính hãng          |\n",
      "|50587112|Gói hút ẩm Silicagel loại 500gram (1kg có 2 gói, kích thước 23x14cm, có dây treo)|\n",
      "|4597127 |Giá Treo Tivi Sát Tường Nhập Khẩu North Bayou C3F (40-60 inch)                   |\n",
      "|50592905|Smart Tivi QLED Samsung 4K 65 inch QA65Q70TA                                     |\n",
      "+--------+---------------------------------------------------------------------------------+\n",
      "\n"
     ]
    }
   ],
   "source": [
    "product.where(col('item_id').isin(rec_product_id_lst)).select('item_id','name').show(truncate=False)"
   ]
  },
  {
   "cell_type": "markdown",
   "id": "L13eAVJGhyPE",
   "metadata": {
    "id": "L13eAVJGhyPE"
   },
   "source": [
    "## -- BaselineOnly"
   ]
  },
  {
   "cell_type": "code",
   "execution_count": 26,
   "id": "t-YajwYjh7Ep",
   "metadata": {
    "id": "t-YajwYjh7Ep"
   },
   "outputs": [],
   "source": [
    "from surprise import BaselineOnly, Reader, Dataset\n",
    "from surprise.model_selection.validation import cross_validate"
   ]
  },
  {
   "cell_type": "code",
   "execution_count": 12,
   "id": "9f7d1724",
   "metadata": {
    "scrolled": true
   },
   "outputs": [
    {
     "name": "stdout",
     "output_type": "stream",
     "text": [
      "+---+-----------+----------+------+\n",
      "|_c0|customer_id|product_id|rating|\n",
      "+---+-----------+----------+------+\n",
      "|  0|     709310|  10001012|     3|\n",
      "|  1|   10701688|  10001012|     5|\n",
      "|  2|   11763074|  10001012|     5|\n",
      "|  3|    9909549|  10001012|     5|\n",
      "|  4|    1827148|  10001012|     5|\n",
      "+---+-----------+----------+------+\n",
      "only showing top 5 rows\n",
      "\n"
     ]
    },
    {
     "name": "stderr",
     "output_type": "stream",
     "text": [
      "22/03/27 15:45:11 WARN CSVHeaderChecker: CSV header does not conform to the schema.\n",
      " Header: , customer_id, product_id, rating\n",
      " Schema: _c0, customer_id, product_id, rating\n",
      "Expected: _c0 but found: \n",
      "CSV file: file:///Volumes/GoogleDrive/My%20Drive/LDS0_K273_DamThiMinhPhuong/Project/Project2_RecommendationSystem/data/ReviewClean.csv\n"
     ]
    }
   ],
   "source": [
    "data.show(5,truncate=True)"
   ]
  },
  {
   "cell_type": "code",
   "execution_count": 16,
   "id": "2e5e371d",
   "metadata": {},
   "outputs": [
    {
     "name": "stderr",
     "output_type": "stream",
     "text": [
      "22/03/27 15:47:36 WARN CSVHeaderChecker: CSV header does not conform to the schema.\n",
      " Header: , customer_id, product_id, rating\n",
      " Schema: _c0, customer_id, product_id, rating\n",
      "Expected: _c0 but found: \n",
      "CSV file: file:///Volumes/GoogleDrive/My%20Drive/LDS0_K273_DamThiMinhPhuong/Project/Project2_RecommendationSystem/data/ReviewClean.csv\n"
     ]
    },
    {
     "data": {
      "text/html": [
       "<div>\n",
       "<style scoped>\n",
       "    .dataframe tbody tr th:only-of-type {\n",
       "        vertical-align: middle;\n",
       "    }\n",
       "\n",
       "    .dataframe tbody tr th {\n",
       "        vertical-align: top;\n",
       "    }\n",
       "\n",
       "    .dataframe thead th {\n",
       "        text-align: right;\n",
       "    }\n",
       "</style>\n",
       "<table border=\"1\" class=\"dataframe\">\n",
       "  <thead>\n",
       "    <tr style=\"text-align: right;\">\n",
       "      <th></th>\n",
       "      <th>_c0</th>\n",
       "      <th>customer_id</th>\n",
       "      <th>product_id</th>\n",
       "      <th>rating</th>\n",
       "    </tr>\n",
       "  </thead>\n",
       "  <tbody>\n",
       "    <tr>\n",
       "      <th>0</th>\n",
       "      <td>0</td>\n",
       "      <td>709310</td>\n",
       "      <td>10001012</td>\n",
       "      <td>3</td>\n",
       "    </tr>\n",
       "    <tr>\n",
       "      <th>1</th>\n",
       "      <td>1</td>\n",
       "      <td>10701688</td>\n",
       "      <td>10001012</td>\n",
       "      <td>5</td>\n",
       "    </tr>\n",
       "    <tr>\n",
       "      <th>2</th>\n",
       "      <td>2</td>\n",
       "      <td>11763074</td>\n",
       "      <td>10001012</td>\n",
       "      <td>5</td>\n",
       "    </tr>\n",
       "    <tr>\n",
       "      <th>3</th>\n",
       "      <td>3</td>\n",
       "      <td>9909549</td>\n",
       "      <td>10001012</td>\n",
       "      <td>5</td>\n",
       "    </tr>\n",
       "    <tr>\n",
       "      <th>4</th>\n",
       "      <td>4</td>\n",
       "      <td>1827148</td>\n",
       "      <td>10001012</td>\n",
       "      <td>5</td>\n",
       "    </tr>\n",
       "  </tbody>\n",
       "</table>\n",
       "</div>"
      ],
      "text/plain": [
       "   _c0  customer_id  product_id  rating\n",
       "0    0       709310    10001012       3\n",
       "1    1     10701688    10001012       5\n",
       "2    2     11763074    10001012       5\n",
       "3    3      9909549    10001012       5\n",
       "4    4      1827148    10001012       5"
      ]
     },
     "execution_count": 16,
     "metadata": {},
     "output_type": "execute_result"
    }
   ],
   "source": [
    "data_pandas = data.toPandas()\n",
    "data_pandas.head()"
   ]
  },
  {
   "cell_type": "code",
   "execution_count": 23,
   "id": "299355a6",
   "metadata": {},
   "outputs": [],
   "source": [
    "reader = Reader()\n",
    "data_bo = Dataset.load_from_df(data_pandas[['customer_id', 'product_id', 'rating']], reader)"
   ]
  },
  {
   "cell_type": "code",
   "execution_count": 24,
   "id": "a28eafff",
   "metadata": {},
   "outputs": [],
   "source": [
    "trainset = data_bo.build_full_trainset()"
   ]
  },
  {
   "cell_type": "code",
   "execution_count": 29,
   "id": "wjlu5shbh5R9",
   "metadata": {
    "id": "wjlu5shbh5R9"
   },
   "outputs": [
    {
     "name": "stdout",
     "output_type": "stream",
     "text": [
      "Estimating biases using als...\n",
      "Estimating biases using als...\n",
      "Estimating biases using als...\n",
      "Estimating biases using als...\n",
      "Estimating biases using als...\n",
      "Evaluating RMSE, MSE of algorithm BaselineOnly on 5 split(s).\n",
      "\n",
      "                  Fold 1  Fold 2  Fold 3  Fold 4  Fold 5  Mean    Std     \n",
      "RMSE (testset)    0.9688  0.9775  0.9713  0.9719  0.9643  0.9708  0.0043  \n",
      "MSE (testset)     0.9385  0.9555  0.9434  0.9446  0.9298  0.9424  0.0084  \n",
      "Fit time          0.80    0.82    0.86    0.86    0.88    0.84    0.03    \n",
      "Test time         0.40    0.17    0.18    0.18    0.39    0.26    0.11    \n"
     ]
    }
   ],
   "source": [
    "algorithm = BaselineOnly()\n",
    "# Run 5-fold cross-validation\n",
    "results = cross_validate(algorithm, data_bo, measures=['RMSE','MSE'],\n",
    "                        cv=5, verbose=True)"
   ]
  },
  {
   "cell_type": "code",
   "execution_count": 31,
   "id": "dbb30357",
   "metadata": {},
   "outputs": [
    {
     "data": {
      "text/html": [
       "<div>\n",
       "<style scoped>\n",
       "    .dataframe tbody tr th:only-of-type {\n",
       "        vertical-align: middle;\n",
       "    }\n",
       "\n",
       "    .dataframe tbody tr th {\n",
       "        vertical-align: top;\n",
       "    }\n",
       "\n",
       "    .dataframe thead th {\n",
       "        text-align: right;\n",
       "    }\n",
       "</style>\n",
       "<table border=\"1\" class=\"dataframe\">\n",
       "  <thead>\n",
       "    <tr style=\"text-align: right;\">\n",
       "      <th></th>\n",
       "      <th>_c0</th>\n",
       "      <th>customer_id</th>\n",
       "      <th>rating</th>\n",
       "    </tr>\n",
       "    <tr>\n",
       "      <th>product_id</th>\n",
       "      <th></th>\n",
       "      <th></th>\n",
       "      <th></th>\n",
       "    </tr>\n",
       "  </thead>\n",
       "  <tbody>\n",
       "    <tr>\n",
       "      <th>10001012</th>\n",
       "      <td>1</td>\n",
       "      <td>10701688</td>\n",
       "      <td>5</td>\n",
       "    </tr>\n",
       "    <tr>\n",
       "      <th>2927891</th>\n",
       "      <td>104654</td>\n",
       "      <td>10701688</td>\n",
       "      <td>5</td>\n",
       "    </tr>\n",
       "  </tbody>\n",
       "</table>\n",
       "</div>"
      ],
      "text/plain": [
       "               _c0  customer_id  rating\n",
       "product_id                             \n",
       "10001012         1     10701688       5\n",
       "2927891     104654     10701688       5"
      ]
     },
     "execution_count": 31,
     "metadata": {},
     "output_type": "execute_result"
    }
   ],
   "source": [
    "# xem customer_id=10701688 da mua va rate nhung san pham nao\n",
    "df_select = data_pandas[(data_pandas.customer_id==10701688) & (data_pandas.rating>=3)]\n",
    "df_select = df_select.set_index('product_id')\n",
    "df_select"
   ]
  },
  {
   "cell_type": "code",
   "execution_count": 32,
   "id": "7b053b99",
   "metadata": {},
   "outputs": [
    {
     "data": {
      "text/plain": [
       "(2, 3)"
      ]
     },
     "execution_count": 32,
     "metadata": {},
     "output_type": "execute_result"
    }
   ],
   "source": [
    "df_select.shape"
   ]
  },
  {
   "cell_type": "code",
   "execution_count": 36,
   "id": "910f4f97",
   "metadata": {},
   "outputs": [
    {
     "data": {
      "text/html": [
       "<div>\n",
       "<style scoped>\n",
       "    .dataframe tbody tr th:only-of-type {\n",
       "        vertical-align: middle;\n",
       "    }\n",
       "\n",
       "    .dataframe tbody tr th {\n",
       "        vertical-align: top;\n",
       "    }\n",
       "\n",
       "    .dataframe thead th {\n",
       "        text-align: right;\n",
       "    }\n",
       "</style>\n",
       "<table border=\"1\" class=\"dataframe\">\n",
       "  <thead>\n",
       "    <tr style=\"text-align: right;\">\n",
       "      <th></th>\n",
       "      <th>product_id</th>\n",
       "    </tr>\n",
       "  </thead>\n",
       "  <tbody>\n",
       "    <tr>\n",
       "      <th>0</th>\n",
       "      <td>10001012</td>\n",
       "    </tr>\n",
       "    <tr>\n",
       "      <th>1</th>\n",
       "      <td>10001012</td>\n",
       "    </tr>\n",
       "    <tr>\n",
       "      <th>2</th>\n",
       "      <td>10001012</td>\n",
       "    </tr>\n",
       "    <tr>\n",
       "      <th>3</th>\n",
       "      <td>10001012</td>\n",
       "    </tr>\n",
       "    <tr>\n",
       "      <th>4</th>\n",
       "      <td>10001012</td>\n",
       "    </tr>\n",
       "  </tbody>\n",
       "</table>\n",
       "</div>"
      ],
      "text/plain": [
       "   product_id\n",
       "0    10001012\n",
       "1    10001012\n",
       "2    10001012\n",
       "3    10001012\n",
       "4    10001012"
      ]
     },
     "execution_count": 36,
     "metadata": {},
     "output_type": "execute_result"
    }
   ],
   "source": [
    "df_score = data_pandas[['product_id']]\n",
    "df_score.head()"
   ]
  },
  {
   "cell_type": "code",
   "execution_count": 40,
   "id": "faa77f2c",
   "metadata": {},
   "outputs": [
    {
     "data": {
      "text/html": [
       "<div>\n",
       "<style scoped>\n",
       "    .dataframe tbody tr th:only-of-type {\n",
       "        vertical-align: middle;\n",
       "    }\n",
       "\n",
       "    .dataframe tbody tr th {\n",
       "        vertical-align: top;\n",
       "    }\n",
       "\n",
       "    .dataframe thead th {\n",
       "        text-align: right;\n",
       "    }\n",
       "</style>\n",
       "<table border=\"1\" class=\"dataframe\">\n",
       "  <thead>\n",
       "    <tr style=\"text-align: right;\">\n",
       "      <th></th>\n",
       "      <th>product_id</th>\n",
       "      <th>EstimateScore</th>\n",
       "    </tr>\n",
       "  </thead>\n",
       "  <tbody>\n",
       "    <tr>\n",
       "      <th>317068</th>\n",
       "      <td>71523843</td>\n",
       "      <td>4.942251</td>\n",
       "    </tr>\n",
       "    <tr>\n",
       "      <th>236121</th>\n",
       "      <td>53080935</td>\n",
       "      <td>4.941757</td>\n",
       "    </tr>\n",
       "    <tr>\n",
       "      <th>304212</th>\n",
       "      <td>68025746</td>\n",
       "      <td>4.938861</td>\n",
       "    </tr>\n",
       "    <tr>\n",
       "      <th>323201</th>\n",
       "      <td>73179180</td>\n",
       "      <td>4.933457</td>\n",
       "    </tr>\n",
       "    <tr>\n",
       "      <th>235585</th>\n",
       "      <td>53056161</td>\n",
       "      <td>4.927793</td>\n",
       "    </tr>\n",
       "    <tr>\n",
       "      <th>325744</th>\n",
       "      <td>7395667</td>\n",
       "      <td>4.922542</td>\n",
       "    </tr>\n",
       "    <tr>\n",
       "      <th>292446</th>\n",
       "      <td>6431175</td>\n",
       "      <td>4.919827</td>\n",
       "    </tr>\n",
       "    <tr>\n",
       "      <th>312005</th>\n",
       "      <td>70771651</td>\n",
       "      <td>4.912473</td>\n",
       "    </tr>\n",
       "    <tr>\n",
       "      <th>315368</th>\n",
       "      <td>71197117</td>\n",
       "      <td>4.909505</td>\n",
       "    </tr>\n",
       "    <tr>\n",
       "      <th>318544</th>\n",
       "      <td>71896003</td>\n",
       "      <td>4.907844</td>\n",
       "    </tr>\n",
       "  </tbody>\n",
       "</table>\n",
       "</div>"
      ],
      "text/plain": [
       "        product_id  EstimateScore\n",
       "317068    71523843       4.942251\n",
       "236121    53080935       4.941757\n",
       "304212    68025746       4.938861\n",
       "323201    73179180       4.933457\n",
       "235585    53056161       4.927793\n",
       "325744     7395667       4.922542\n",
       "292446     6431175       4.919827\n",
       "312005    70771651       4.912473\n",
       "315368    71197117       4.909505\n",
       "318544    71896003       4.907844"
      ]
     },
     "execution_count": 40,
     "metadata": {},
     "output_type": "execute_result"
    }
   ],
   "source": [
    "# Recommend top 10 products for customer_id = 10701688\n",
    "df_score['EstimateScore'] = df_score['product_id'].apply(lambda x: algorithm.predict(10701688, x).est) # est: get EstimateScore\n",
    "df_score = df_score.sort_values(by=['EstimateScore'], ascending=False)\n",
    "df_score = df_score.drop_duplicates()\n",
    "df_score.head(10)"
   ]
  },
  {
   "cell_type": "markdown",
   "id": "378a46ff",
   "metadata": {},
   "source": [
    "- Thuật toán BaselineOnly cho kết quả có sai số RMSE ~0.9708, nhỏ hơn so với ALS(model4) ~1.1834 và nhỏ hơn stddev (rating) ~1.0178 \n",
    "- => Chọn mô hình được xây dựng bởi thuật toán BaselineOnly cho Reccommedation System based on Collaborative Filtering"
   ]
  },
  {
   "cell_type": "markdown",
   "id": "421ddc98",
   "metadata": {
    "id": "421ddc98"
   },
   "source": [
    "# Step 5: Report"
   ]
  },
  {
   "cell_type": "markdown",
   "id": "bbc86683",
   "metadata": {
    "id": "14a234d0"
   },
   "source": [
    "Kết luận: Recommendation System cần được xây dựng đồng thời theo 2 phương pháp sau:\n",
    "- Collaborative Filtering: phương pháp xây dựng Recommdation system dựa trên sự tương đồng giữa những người dùng, phù hợp khi khách hàng là thành viên và đã đăng nhập, có lịch sử mua hàng và đánh giá.\n",
    "- Content-based Filtering: phương pháp xây dựng Recommdation system dựa trên đặc điểm của sản phẩm, phù hợp khi:\n",
    "    + Người dùng mới chưa mua hàng và chưa có đánh giá sản phẩm\n",
    "    + Người dùng không phải thành viên/chưa đăng nhập \n",
    "    \n",
    "- Như đã nhận xét ở trên, ta lựa chọn **Cosine Similarity** cho Content-based Filtering và **BaselineOnly()** cho Collaborative Filtering"
   ]
  },
  {
   "cell_type": "markdown",
   "id": "6c77223c",
   "metadata": {
    "id": "6c77223c"
   },
   "source": [
    "# Step 6: Deployment & Feedback/Act\n",
    "Triển khai Recommender System và theo dõi kết quả"
   ]
  }
 ],
 "metadata": {
  "colab": {
   "collapsed_sections": [
    "da9c4707",
    "e6d36eef",
    "e5cfd5ea",
    "ee10013a",
    "0b445f7e",
    "10daed8a",
    "ab38327d",
    "61e21ef8",
    "90a4f3d3",
    "54d81565"
   ],
   "machine_shape": "hm",
   "name": "Project2_ProvidedData.ipynb",
   "provenance": [],
   "toc_visible": true
  },
  "kernelspec": {
   "display_name": "Python 3 (ipykernel)",
   "language": "python",
   "name": "python3"
  },
  "language_info": {
   "codemirror_mode": {
    "name": "ipython",
    "version": 3
   },
   "file_extension": ".py",
   "mimetype": "text/x-python",
   "name": "python",
   "nbconvert_exporter": "python",
   "pygments_lexer": "ipython3",
   "version": "3.8.12"
  }
 },
 "nbformat": 4,
 "nbformat_minor": 5
}
